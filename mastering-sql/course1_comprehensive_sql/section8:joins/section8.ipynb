{
 "cells": [
  {
   "cell_type": "code",
   "execution_count": 2,
   "metadata": {},
   "outputs": [
    {
     "data": {
      "text/plain": [
       "'\\n* This is arguably one of the most important sections of this course.\\n* Joins are used to combine rows from two or more tables based on related columns between the tables. For example if two tables have an \\n   associated field (e.g. Customer ID) then a join operation can be used to combine rows from both tables.\\n* The join operation is a fundamental part of relational databases.\\n* After completing this section your will learn how to:\\n - The difference between inner, left, right and full outer joins\\n - How to combine columns from multiple tables using joins\\n\\nWe will round off the section with some practical assignment questions. It is crucial that you have a sound understanding of joins so \\nplease ensure you are comfortable with this section before moving on as it is one of the most important aspects of relational databases \\nand SQL.\\n'"
      ]
     },
     "execution_count": 2,
     "metadata": {},
     "output_type": "execute_result"
    }
   ],
   "source": [
    "# Section 8: Joining Tables\n",
    "'''\n",
    "* This is arguably one of the most important sections of this course.\n",
    "* Joins are used to combine rows from two or more tables based on related columns between the tables. For example if two tables have an \n",
    "   associated field (e.g. Customer ID) then a join operation can be used to combine rows from both tables.\n",
    "* The join operation is a fundamental part of relational databases.\n",
    "* After completing this section your will learn how to:\n",
    " - The difference between inner, left, right and full outer joins\n",
    " - How to combine columns from multiple tables using joins\n",
    "\n",
    "We will round off the section with some practical assignment questions. It is crucial that you have a sound understanding of joins so \n",
    "please ensure you are comfortable with this section before moving on as it is one of the most important aspects of relational databases \n",
    "and SQL.\n",
    "'''"
   ]
  },
  {
   "cell_type": "code",
   "execution_count": 3,
   "metadata": {},
   "outputs": [
    {
     "data": {
      "text/plain": [
       "'\\n'"
      ]
     },
     "execution_count": 3,
     "metadata": {},
     "output_type": "execute_result"
    }
   ],
   "source": [
    "# Introductin to Join Operation\n",
    "'''\n",
    " # 4 Types of Joins\n",
    "  - InNER\n",
    "  - LEFT \n",
    "  - RIGHT \n",
    "  - OUTER\n",
    "'''"
   ]
  },
  {
   "cell_type": "code",
   "execution_count": 7,
   "metadata": {},
   "outputs": [
    {
     "data": {
      "text/plain": [
       "'\\n-- as there are one extra record in dept.deptno = 40 , which doesnot exists , so i filter \\nselect \\n  emp.ename,\\n  emp.job,\\n  emp.deptno,\\n  dept.deptno,\\n  dept.dname,\\n  dept.loc\\n\\nFROM EMP\\nRIGHT JOIN DEPT\\nON EMP.deptno = DEPT.deptno \\nwhere EMP.deptno is null;\\n\\n'"
      ]
     },
     "execution_count": 7,
     "metadata": {},
     "output_type": "execute_result"
    }
   ],
   "source": [
    "# Simple Join \n",
    "'''\n",
    "select * from eba_countries;\n",
    "select * from eba_country_regions;\n",
    "\n",
    "select \n",
    "  C.name,\n",
    "  C.population,\n",
    "  C.region_id,\n",
    "  CR.name\n",
    "\n",
    "FROM eba_countries C\n",
    "RIGHT JOIN eba_country_regions CR\n",
    "ON C.region_id = CR.id;\n",
    "'''\n",
    "\n",
    "# Example 2\n",
    "'''\n",
    "select \n",
    "  emp.ename,\n",
    "  emp.job,\n",
    "  emp.deptno,\n",
    "  dept.deptno,\n",
    "  dept.dname,\n",
    "  dept.loc\n",
    "\n",
    "FROM EMP\n",
    "LEFT JOIN DEPT\n",
    "ON EMP.deptno = DEPT.deptno;\n",
    "'''\n",
    "\n",
    "# FULL OUTER JOIN \n",
    "# INNER JOIN \n",
    "# LEFT JOIN \n",
    "# RIGHT JOIN \n",
    "\n",
    "# Anti JOIN \n",
    "'''\n",
    "-- as there are one extra record in dept.deptno = 40 , which doesnot exists , so i filter \n",
    "select \n",
    "  emp.ename,\n",
    "  emp.job,\n",
    "  emp.deptno,\n",
    "  dept.deptno,\n",
    "  dept.dname,\n",
    "  dept.loc\n",
    "\n",
    "FROM EMP\n",
    "RIGHT JOIN DEPT\n",
    "ON EMP.deptno = DEPT.deptno \n",
    "where EMP.deptno is null;\n",
    "\n",
    "'''"
   ]
  },
  {
   "cell_type": "code",
   "execution_count": 8,
   "metadata": {},
   "outputs": [
    {
     "data": {
      "text/plain": [
       "'\\nSELECT \\n   C.name,\\n   C.population,\\n   C.region_id,\\n   C.sub_region_id,\\n   CR.name as region_name,\\n   CSR.name as sub_region_name\\n\\nFROM EBA_COUNTRIES C\\nLEFT JOIN EBA_COUNTRY_REGIONS CR\\n ON C.region_id = CR.id\\nLEFT JOIN EBA_COUNTRY_SUB_REGIONS CSR\\n ON C.sub_region_id   = CSR.id;\\n \\n-- LEFT JOIN EBA_COUNTRY_SUB_REGIONS CSR: 249\\n-- INNER JOIN EBA_COUNTRY_SUB_REGIONS CSR : 248\\n\\n'"
      ]
     },
     "execution_count": 8,
     "metadata": {},
     "output_type": "execute_result"
    }
   ],
   "source": [
    "# Joining Mulitple Tables\n",
    "'''\n",
    "SELECT \n",
    "   C.name,\n",
    "   C.population,\n",
    "   C.region_id,\n",
    "   C.sub_region_id,\n",
    "   CR.name as region_name,\n",
    "   CSR.name as sub_region_name\n",
    "\n",
    "FROM EBA_COUNTRIES C\n",
    "LEFT JOIN EBA_COUNTRY_REGIONS CR\n",
    " ON C.region_id = CR.id\n",
    "LEFT JOIN EBA_COUNTRY_SUB_REGIONS CSR\n",
    " ON C.sub_region_id   = CSR.id;\n",
    " \n",
    "-- LEFT JOIN EBA_COUNTRY_SUB_REGIONS CSR: 249\n",
    "-- INNER JOIN EBA_COUNTRY_SUB_REGIONS CSR : 248\n",
    "\n",
    "'''"
   ]
  },
  {
   "cell_type": "code",
   "execution_count": 5,
   "metadata": {},
   "outputs": [],
   "source": [
    "# Joining On Multiple Columns\n",
    "'''\n",
    "\n",
    "'''"
   ]
  },
  {
   "cell_type": "code",
   "execution_count": 10,
   "metadata": {},
   "outputs": [
    {
     "data": {
      "text/plain": [
       "'\\nPlease attempt as many questions as you can, I will go over the solutions in the next lecture. Good luck!\\n\\nQ1)\\n(For this assignment question we will be using the Employees Sample Dataset)\\nPerform a join on the EMP and DEPT table on the DEPTNO fields for both tables and return the columns:\\n\\n\\nENAME from EMP\\nDEPTNO from EMP\\nSAL from EMP\\nDNAME from DEPT\\n\\nYou should return all values from the EMP table and no unmatched values from the DEPT table.\\n I will leave you to figure out the most suitable column and join type to join the table\\n\\n\\n select \\n  emp.ename,\\n  emp.deptno,\\n  emp.sal,\\n  dept.dname\\n\\nFROM emp \\nINNER JOIN dept\\nON\\n emp.deptno = dept.deptno;\\n\\n\\nQuestion 2\\n(For this assignment question we will be using the Countries Sample Dataset)\\n\\nPerform a join between the EBA_COUNTRIES table and the EBA_COUNTRY_INTERMEDIATES table on the respective INTERMEDIATE_REGION_ID and ID fields.\\nReturn and appropriately alias the following columns:\\n\\nNAME from EBA_COUNTRIES\\nINTERMEDIATE_REGION_ID from EBA_COUNTRIES\\nNAME from EBA_COUNTRY_INTERMEDIATES\\n\\nReturn only those records where both tables have matching values on their related fields.\\n\\nselect \\n    C.name,\\n    C.INTERMEDIATE_REGION_ID as \"intermediate name\",\\n    CI.name\\n\\nFROM EBA_COUNTRIES C \\nJOIN EBA_COUNTRY_INTERMEDIATES CI\\nON\\n C.INTERMEDIATE_REGION_ID = CI.id;\\n\\n'"
      ]
     },
     "execution_count": 10,
     "metadata": {},
     "output_type": "execute_result"
    }
   ],
   "source": [
    "# Assignment Questions\n",
    "'''\n",
    "Please attempt as many questions as you can, I will go over the solutions in the next lecture. Good luck!\n",
    "\n",
    "Q1)\n",
    "(For this assignment question we will be using the Employees Sample Dataset)\n",
    "Perform a join on the EMP and DEPT table on the DEPTNO fields for both tables and return the columns:\n",
    "\n",
    "\n",
    "ENAME from EMP\n",
    "DEPTNO from EMP\n",
    "SAL from EMP\n",
    "DNAME from DEPT\n",
    "\n",
    "You should return all values from the EMP table and no unmatched values from the DEPT table.\n",
    " I will leave you to figure out the most suitable column and join type to join the table\n",
    "\n",
    "\n",
    " select \n",
    "  emp.ename,\n",
    "  emp.deptno,\n",
    "  emp.sal,\n",
    "  dept.dname\n",
    "\n",
    "FROM emp \n",
    "INNER JOIN dept\n",
    "ON\n",
    " emp.deptno = dept.deptno;\n",
    "\n",
    "\n",
    "Question 2\n",
    "(For this assignment question we will be using the Countries Sample Dataset)\n",
    "\n",
    "Perform a join between the EBA_COUNTRIES table and the EBA_COUNTRY_INTERMEDIATES table on the respective INTERMEDIATE_REGION_ID and ID fields.\n",
    "Return and appropriately alias the following columns:\n",
    "\n",
    "NAME from EBA_COUNTRIES\n",
    "INTERMEDIATE_REGION_ID from EBA_COUNTRIES\n",
    "NAME from EBA_COUNTRY_INTERMEDIATES\n",
    "\n",
    "Return only those records where both tables have matching values on their related fields.\n",
    "\n",
    "select \n",
    "    C.name,\n",
    "    C.INTERMEDIATE_REGION_ID as \"intermediate name\",\n",
    "    CI.name\n",
    "\n",
    "FROM EBA_COUNTRIES C \n",
    "JOIN EBA_COUNTRY_INTERMEDIATES CI\n",
    "ON\n",
    " C.INTERMEDIATE_REGION_ID = CI.id;\n",
    "\n",
    "'''"
   ]
  },
  {
   "cell_type": "code",
   "execution_count": null,
   "metadata": {},
   "outputs": [],
   "source": []
  }
 ],
 "metadata": {
  "kernelspec": {
   "display_name": "Python 3",
   "language": "python",
   "name": "python3"
  },
  "language_info": {
   "codemirror_mode": {
    "name": "ipython",
    "version": 3
   },
   "file_extension": ".py",
   "mimetype": "text/x-python",
   "name": "python",
   "nbconvert_exporter": "python",
   "pygments_lexer": "ipython3",
   "version": "3.9.12"
  },
  "orig_nbformat": 4
 },
 "nbformat": 4,
 "nbformat_minor": 2
}
