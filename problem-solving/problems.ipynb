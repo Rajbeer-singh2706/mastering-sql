{
 "cells": [
  {
   "cell_type": "code",
   "execution_count": 1,
   "metadata": {},
   "outputs": [],
   "source": [
    "# #https://www.w3resource.com/sql-exercises/challenges-1/index.php\n"
   ]
  },
  {
   "cell_type": "code",
   "execution_count": 2,
   "metadata": {},
   "outputs": [
    {
     "data": {
      "text/plain": [
       "'\\n SELECT \\n   s.salesperson_id,\\n   first_name,\\n   last_name, \\n   city, \\n   country , \\n   state \\n FROM salespersons s\\n LEFT JOIN address a ON s.salesperson_id = a.salesperson_id \\n'"
      ]
     },
     "execution_count": 2,
     "metadata": {},
     "output_type": "execute_result"
    }
   ],
   "source": [
    "# 1. From the following tables, write a SQL query to find the information on each salesperson of ABC Company. \n",
    "# Return name, city, country and state of each salesperson.\n",
    "'''\n",
    " SELECT \n",
    "   s.salesperson_id,\n",
    "   concat(first_name, last_name) as name,\n",
    "   city, \n",
    "   country , \n",
    "   state \n",
    " FROM salespersons s\n",
    " LEFT JOIN address a ON s.salesperson_id = a.salesperson_id \n",
    "'''"
   ]
  },
  {
   "cell_type": "code",
   "execution_count": null,
   "metadata": {},
   "outputs": [],
   "source": [
    "# 2. From the following table, write a SQL query to find the third highest sale. Return sale amount.\n",
    "# sale_id|employee_id|sale_date |sale_amt|\n",
    "'''\n",
    "  select distinct sales_amt from salesmast order by salesmast limit 3 offset 3\n",
    " \n",
    "   select sales_amt FROM \n",
    "   (\n",
    "    select *, dense_rank() over(order by sales_amt) as rank \n",
    "    FROM salesmast \n",
    "   ) where rank = 3\n",
    "\n",
    "   # SOl1 \n",
    "   select max(sale_amt) as SecondHighestSales \n",
    "   FROM (select distinct sale_amt from salesmast ORDER BY sales_amt DESC LIMIT 2 offset 1 ) AS sale \n",
    "\n",
    "   # SOL2 \n",
    "   select MAX(sale_amt) AS SecondHighestSales FROM salemast\n",
    "   WHERE sale_amt < (select max(sale_amt) from salemast ) \n",
    "'''"
   ]
  }
 ],
 "metadata": {
  "kernelspec": {
   "display_name": "de-venv",
   "language": "python",
   "name": "python3"
  },
  "language_info": {
   "codemirror_mode": {
    "name": "ipython",
    "version": 3
   },
   "file_extension": ".py",
   "mimetype": "text/x-python",
   "name": "python",
   "nbconvert_exporter": "python",
   "pygments_lexer": "ipython3",
   "version": "3.7.3"
  },
  "orig_nbformat": 4
 },
 "nbformat": 4,
 "nbformat_minor": 2
}
