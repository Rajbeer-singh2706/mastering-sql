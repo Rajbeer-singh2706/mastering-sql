{
 "cells": [
  {
   "cell_type": "markdown",
   "metadata": {},
   "source": [
    " --An **UPSERT** (a combination of \"UPDATE\" and \"INSERT\") is a database operation that either updates an existing record or inserts \n",
    " --a new one if the record does not exist. Different databases provide different methods to achieve UPSERT functionality. \n",
    " --Below are ways to implement an UPSERT in various popular databases.\n",
    "\n",
    "-- ### 1. **Upsert in MySQL (`INSERT ... ON DUPLICATE KEY UPDATE`)**\n",
    "-- In MySQL, UPSERT is done using the `INSERT ... ON DUPLICATE KEY UPDATE` statement. This works when there's a unique or primary \n",
    "-- key conflict."
   ]
  },
  {
   "cell_type": "code",
   "execution_count": null,
   "metadata": {
    "vscode": {
     "languageId": "plaintext"
    }
   },
   "outputs": [],
   "source": [
    "**Example:**\n",
    "INSERT INTO Employees (employee_id, employee_name, salary)\n",
    "VALUES (1, 'Alice', 60000)\n",
    "ON DUPLICATE KEY UPDATE \n",
    "    employee_name = VALUES(employee_name), \n",
    "    salary = VALUES(salary);\n",
    "\n",
    "**Explanation:**\n",
    "- If an entry with `employee_id = 1` already exists, the query updates `employee_name` and `salary`.\n",
    "- If it does not exist, a new record will be inserted.\n"
   ]
  },
  {
   "cell_type": "markdown",
   "metadata": {},
   "source": [
    "\n",
    "### 2. **Upsert in PostgreSQL (`INSERT ... ON CONFLICT`)**\n",
    "PostgreSQL provides an `ON CONFLICT` clause that handles conflicts arising from constraints such as primary keys \n",
    "or unique indexes.\n",
    "\n",
    "**Example:**\n",
    "INSERT INTO Employees (employee_id, employee_name, salary)\n",
    "VALUES (1, 'Alice', 60000)\n",
    "ON CONFLICT (employee_id)\n",
    "DO UPDATE SET \n",
    "    employee_name = EXCLUDED.employee_name,\n",
    "    salary = EXCLUDED.salary;\n",
    "\n",
    "**Explanation:**\n",
    "- `ON CONFLICT (employee_id)` specifies that if there is a conflict on the `employee_id` column (usually due to a unique or \n",
    "primary key constraint), PostgreSQL should perform an update.\n",
    "- `EXCLUDED` refers to the values that were attempted to be inserted."
   ]
  },
  {
   "cell_type": "markdown",
   "metadata": {},
   "source": [
    "--- ### 3. **Upsert in SQL Server (`MERGE`)**\n",
    "In SQL Server, the `MERGE` statement is used for UPSERT operations. It allows you to compare rows between a target table and \n",
    "a source table or values.\n",
    "\n",
    "**Example:**\n",
    "\n",
    "MERGE INTO Employees AS target\n",
    "USING (VALUES (1, 'Alice', 60000)) AS source (employee_id, employee_name, salary)\n",
    "ON target.employee_id = source.employee_id\n",
    "WHEN MATCHED THEN\n",
    "    UPDATE SET employee_name = source.employee_name, salary = source.salary\n",
    "WHEN NOT MATCHED THEN\n",
    "    INSERT (employee_id, employee_name, salary)\n",
    "    VALUES (source.employee_id, source.employee_name, source.salary);\n",
    "\n",
    "**Explanation:**\n",
    "- The `MERGE` statement checks if a record with `employee_id = 1` exists.\n",
    "- If it exists (`MATCHED`), it updates `employee_name` and `salary`.\n",
    "- If it doesnt exist (`NOT MATCHED`), it inserts the new record."
   ]
  },
  {
   "cell_type": "markdown",
   "metadata": {},
   "source": [
    "-- ### 6. **Upsert in Amazon Redshift**\n",
    "-- Redshift doesn't support native UPSERT like PostgreSQL or MySQL. Instead, you use a combination of `DELETE` and `INSERT`.\n",
    "\n",
    "**Example:**\n",
    "-- First delete the existing row (if it exists)\n",
    "BEGIN;\n",
    "DELETE FROM Employees\n",
    "WHERE employee_id = 1;\n",
    "\n",
    "-- Then insert the new row\n",
    "INSERT INTO Employees (employee_id, employee_name, salary)\n",
    "VALUES (1, 'Alice', 60000);\n",
    "END;"
   ]
  },
  {
   "cell_type": "markdown",
   "metadata": {},
   "source": [
    "-- ### 7. **Upsert in DynamoDB**\n",
    "-- In AWS DynamoDB, you don't need a special syntax for UPSERT because every `PUT` operation is automatically an UPSERT. If the item exists, it's updated; if it doesn't, it's inserted.\n",
    "\n",
    "**Example:**\n",
    "```bash\n",
    "aws dynamodb put-item \\\n",
    "--table-name Employees \\\n",
    "--item '{\"employee_id\": {\"N\": \"1\"}, \"employee_name\": {\"S\": \"Alice\"}, \"salary\": {\"N\": \"60000\"}}'\n",
    "```\n",
    "\n",
    "### Summary of UPSERT Approaches:\n",
    "\n",
    "- **MySQL               :** `INSERT ... ON DUPLICATE KEY UPDATE`\n",
    "- **PostgreSQL & SQLite :** `INSERT ... ON CONFLICT`\n",
    "- **SQL Server & Oracle :** `MERGE`\n",
    "- **Amazon Redshift     :** `DELETE + INSERT`\n",
    "- **DynamoDB            :** `PUT` (automatic UPSERT)"
   ]
  }
 ],
 "metadata": {
  "language_info": {
   "name": "python"
  }
 },
 "nbformat": 4,
 "nbformat_minor": 2
}
