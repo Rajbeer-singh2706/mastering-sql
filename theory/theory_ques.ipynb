{
 "cells": [
  {
   "cell_type": "code",
   "execution_count": 1,
   "metadata": {},
   "outputs": [
    {
     "data": {
      "text/plain": [
       "'\\nPartitioning divides a large table into smaller, manageable pieces (partitions) based on a column (e.g., date, range, hash).\\n\\nBenefits:\\n    * Improves query performance by scanning only relevant partitions.\\n    * Enables better manageability of large datasets.\\n    * Allows operations like data archival or deletion on a specific partition without affecting others.\\n\\n\\n'"
      ]
     },
     "execution_count": 1,
     "metadata": {},
     "output_type": "execute_result"
    }
   ],
   "source": [
    "#1. Advanced SQL Concepts\n",
    "#Q1: What is the difference between a clustered and a non-clustered index?\n",
    "\n",
    "'''\n",
    " A clustered index => determines the physical order of data in a table and sorts the data rows in the table based on the key values. \n",
    " Each table can have only one clustered index.\n",
    " \n",
    " A non-clustered index =>  creates a separate structure from the table, with pointers to the actual data rows in the table. \n",
    " You can have multiple non-clustered indexes on a table.\n",
    "\n",
    "'''\n",
    "\n",
    "# Q2: How would you optimize a query that takes a long time to execute?\n",
    "# Answer\n",
    "'''\n",
    "    1. Analyze the execution plan to identify bottlenecks.\n",
    "    2. Ensure proper indexing (clustered/non-clustered).\n",
    "    3. Avoid SELECT*; use specific columns.\n",
    "    4. Simplify complex joins and subqueries.\n",
    "    5. Use query hints when appropriate.\n",
    "    6. Partition large tables or use denormalization.\n",
    "    7. Ensure proper statistics and consider rebuilding indexes.\n",
    "    8. Eliminate unused tables and joins.\n",
    "'''\n",
    "\n",
    "#2. Performance Tuning\n",
    "#Q3: What is the difference between SQL Server’s WITH (NOLOCK) and normal query locking mechanisms?\n",
    "#Answer:\n",
    "\n",
    "'''\n",
    "WITH (NOLOCK) allows reading data without acquiring locks, which can result in dirty reads. It improves performance but sacrifices data \n",
    "consistency.\n",
    "Normal locking ensures data consistency by locking the table or rows during read/write operations but can cause blocking.\n",
    "'''\n",
    "\n",
    "# Q4: Explain partitioning in databases and its benefits.\n",
    "# Answer:\n",
    "'''\n",
    "Partitioning divides a large table into smaller, manageable pieces (partitions) based on a column (e.g., date, range, hash).\n",
    "\n",
    "Benefits:\n",
    "    * Improves query performance by scanning only relevant partitions.\n",
    "    * Enables better manageability of large datasets.\n",
    "    * Allows operations like data archival or deletion on a specific partition without affecting others.\n",
    "\n",
    "\n",
    "'''\n"
   ]
  },
  {
   "cell_type": "code",
   "execution_count": null,
   "metadata": {},
   "outputs": [],
   "source": [
    "# Q1. Handling NULL Values\n",
    "'''\n",
    "-- How do you handle NULL values in SQL? \n",
    "-- Provide examples of using COALESCE and NULLIF.\n",
    "     - `COALESCE` returns the first non-NULL value in the list.\n",
    "     - `NULLIF` returns NULL if the two compared values are equal.\n",
    "\n",
    " - SELECT COALESCE(column1, 'default_value') FROM table;\n",
    " - SELECT NULLIF(column1, column2) FROM table;\n",
    "'''"
   ]
  },
  {
   "cell_type": "code",
   "execution_count": null,
   "metadata": {},
   "outputs": [],
   "source": [
    "# Given two tables, how would you find the count of records using INNER JOIN, LEFT JOIN, RIGHT JOIN, and FULL OUTER JOIN?\n",
    "'''\n",
    "SELECT \n",
    " count(*) as total_count  \n",
    "FROM table1 as A  \n",
    "(INNER JOIN/LEFT JOIN / RIGHT JOIN / FULL JOIN ) AS B\n",
    "   ON A.key  = B.key \n",
    "\n",
    "'''\n"
   ]
  },
  {
   "cell_type": "code",
   "execution_count": null,
   "metadata": {},
   "outputs": [],
   "source": [
    "#4. Advanced Scenarios\n",
    "# Q7: What are Common Table Expressions (CTEs), and when would you use them?\n",
    "\n",
    "'''\n",
    "CTEs are temporary result sets defined within a query using the WITH clause.\n",
    "Use cases:\n",
    "    Simplifying complex queries.\n",
    "    Improving readability for recursive queries.\n",
    "    Avoiding repeated subquery calculations.\n",
    "'''\n",
    "\n",
    "'''\n",
    "    WITH SalesCTE AS (\n",
    "        SELECT \n",
    "            salesperson_id, SUM(sales) AS TotalSales\n",
    "        FROM sales\n",
    "        GROUP BY salesperson_id\n",
    "    )\n",
    "    SELECT * FROM SalesCTE WHERE TotalSales > 100000;\n",
    "'''\n"
   ]
  },
  {
   "cell_type": "code",
   "execution_count": null,
   "metadata": {},
   "outputs": [],
   "source": [
    "#Q8: How would you handle incremental data loading in SQL?\n",
    "\n",
    "#Answer:\n",
    "#Use a column like last_update or modified_date to identify new or updated records.\n",
    "\n",
    "'''\n",
    "    SELECT * \n",
    "    FROM source_table\n",
    "    WHERE last_update > (SELECT MAX(last_update) FROM target_table);\n",
    "'''"
   ]
  },
  {
   "cell_type": "code",
   "execution_count": null,
   "metadata": {},
   "outputs": [],
   "source": [
    "# Learn all SQL Queries and Data , the notebook & code written in VOC Project"
   ]
  },
  {
   "cell_type": "markdown",
   "metadata": {},
   "source": [
    "# How would you differentiate between a Primary Key, a Natural Key, and a Surrogate Key in a database schema?\n",
    "'''\n",
    " 1) Primary Key : \n",
    " 2) Natural Key \n",
    " 3) Surrogate key\n",
    "\n",
    "'''"
   ]
  },
  {
   "cell_type": "markdown",
   "metadata": {},
   "source": [
    "# * 5. How can you optimize an SQL query?\n",
    "'''\n",
    "    1. How would you optimize a complex SQL query with multiple joins and subqueries? \n",
    "    2. How do you handle NULL values in SQL while performing aggregations?\n",
    "    3. SQL query to find department wise top 3 salaries ?\n",
    "    4. Question on windows function : running sum/year-on-year growth/top 'n' people by salary ?\n",
    "    5. What is the purpose of the `GROUP BY` and `HAVING` clauses?\n",
    "    6. What is the difference b/w rank, dense rank and row number ?\n",
    "    7. Explain how indexes work and when to use them ?\n",
    "    8. Explain the difference between INNER, LEFT, ANTI and SEMI -JOINS with examples.\n",
    "'''"
   ]
  },
  {
   "cell_type": "markdown",
   "metadata": {},
   "source": [
    "10 Advanced SQL Questions for Data Engineering 👇\n",
    "\n",
    "1) What is the role of partitioning in SQL databases, and how does it improve performance? Can you describe a scenario where \n",
    "partitioning is beneficial?\n",
    "2) Explain how you would manage and optimize SQL queries on a database with billions of rows.\n",
    "3) Describe how you would use SQL to perform time series analysis. What functions would you utilize?\n",
    "\n",
    "4) How do you implement error handling in SQL stored procedures?\n",
    "\n",
    "5) Discuss the implications of using subqueries in SQL. What are the performance considerations and how might you optimize them?\n",
    "\n",
    "6) What are materialized views in SQL? How do they differ from regular views, and when would you use them?\n",
    "\n",
    "7) Explain the concept of database sharding. How does it work and what are the challenges associated with it in SQL databases?\n",
    "\n",
    "8)*** Describe a complex SQL query youve written and explain how it solved a particular business problem.\n",
    "\n",
    "9) How would you design a schema for a multi-tenant database in SQL?\n",
    "\n",
    "10) What techniques would you use to ensure data consistency across distributed databases in SQL?\n",
    "\n"
   ]
  }
 ],
 "metadata": {
  "kernelspec": {
   "display_name": "upgrad_env",
   "language": "python",
   "name": "python3"
  },
  "language_info": {
   "codemirror_mode": {
    "name": "ipython",
    "version": 3
   },
   "file_extension": ".py",
   "mimetype": "text/x-python",
   "name": "python",
   "nbconvert_exporter": "python",
   "pygments_lexer": "ipython3",
   "version": "3.8.19"
  }
 },
 "nbformat": 4,
 "nbformat_minor": 2
}
