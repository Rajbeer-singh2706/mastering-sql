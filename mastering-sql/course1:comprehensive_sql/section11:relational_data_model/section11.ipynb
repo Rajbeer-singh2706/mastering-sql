{
 "cells": [
  {
   "cell_type": "code",
   "execution_count": 1,
   "metadata": {},
   "outputs": [
    {
     "data": {
      "text/plain": [
       "'\\nThis is an important section when it comes to understanding the basics of relational data models.\\nAfter completing this section you will learn:\\n * What a relational data model looks like and the basics of relational database design\\n * How to identify FACT and DIMENSION tables\\n * The difference between STAR and SNOWFLAKE Schemas\\n * The types of relationships between records in different Tables\\n * How Database Constraints such as the Primary and Foreign Keys are used \\n * This is a very important section in terms of understanding what makes a relational database tick.\\n\\nThe section will be rounded off with a multiple choice quiz.\\n'"
      ]
     },
     "execution_count": 1,
     "metadata": {},
     "output_type": "execute_result"
    }
   ],
   "source": [
    "# Section 11: Relational Data Model basics And Database Constraints\n",
    "'''\n",
    "This is an important section when it comes to understanding the basics of relational data models.\n",
    "After completing this section you will learn:\n",
    " * What a relational data model looks like and the basics of relational database design\n",
    " * How to identify FACT and DIMENSION tables\n",
    " * The difference between STAR and SNOWFLAKE Schemas\n",
    " * The types of relationships between records in different Tables\n",
    " * How Database Constraints such as the Primary and Foreign Keys are used \n",
    " * This is a very important section in terms of understanding what makes a relational database tick.\n",
    "\n",
    "The section will be rounded off with a multiple choice quiz.\n",
    "'''"
   ]
  },
  {
   "cell_type": "code",
   "execution_count": 2,
   "metadata": {},
   "outputs": [],
   "source": [
    "# Relational Database\n",
    "'''\n",
    "\n",
    "'''"
   ]
  },
  {
   "cell_type": "code",
   "execution_count": 2,
   "metadata": {},
   "outputs": [
    {
     "data": {
      "text/plain": [
       "'\\n * FACT Tables contains measurements, metrics and factual information\\n * Dimension tables contains descriptive attributes\\n'"
      ]
     },
     "execution_count": 2,
     "metadata": {},
     "output_type": "execute_result"
    }
   ],
   "source": [
    "# Fact and Dimension Table Required\n",
    "'''\n",
    " * FACT Tables contains measurements, metrics and factual information\n",
    " * Dimension tables contains descriptive attributes\n",
    "'''"
   ]
  },
  {
   "cell_type": "code",
   "execution_count": 4,
   "metadata": {},
   "outputs": [
    {
     "data": {
      "text/plain": [
       "'\\n####### DENORMALIZED ##########\\n  DIMENSION  DIMENSION\\n          FACT\\n  DIMENSION  DIMENSION       \\n'"
      ]
     },
     "execution_count": 4,
     "metadata": {},
     "output_type": "execute_result"
    }
   ],
   "source": [
    "# Star and SnowFlake Schemas\n",
    "'''\n",
    "####### DENORMALIZED ##########\n",
    "  DIMENSION  DIMENSION\n",
    "          FACT\n",
    "  DIMENSION  DIMENSION       \n",
    "'''\n",
    "\n",
    "# star schema less dimension table, so easy to query\n",
    "# snowflake schema is normazlied, and extension of star schema"
   ]
  },
  {
   "cell_type": "code",
   "execution_count": 1,
   "metadata": {},
   "outputs": [
    {
     "data": {
      "text/plain": [
       "'\\n  - ONE TO ONE \\n  - One TO MANY\\n  - MANY TO MANY\\n'"
      ]
     },
     "execution_count": 1,
     "metadata": {},
     "output_type": "execute_result"
    }
   ],
   "source": [
    "# Types of Relationships\n",
    "'''\n",
    "  - ONE TO ONE \n",
    "  - One TO MANY\n",
    "  - MANY TO MANY\n",
    "'''"
   ]
  },
  {
   "cell_type": "code",
   "execution_count": 5,
   "metadata": {},
   "outputs": [
    {
     "data": {
      "text/plain": [
       "'\\n'"
      ]
     },
     "execution_count": 5,
     "metadata": {},
     "output_type": "execute_result"
    }
   ],
   "source": [
    "# Primary Key and Foreign Key Constraints\n",
    "'''\n",
    "alter table eba_country_regions drop column id; -- cannot drop parent key column\n",
    "select distinct id from eba_country_regions;\n",
    "\n",
    "update eba_countries set region_id  =60 where region_id = 10 --  integrity constraint (WKSP_ADVANCESQLRAJ.EBA_COUNTRY_REGIONS_FK) violated - parent key not found\n",
    "'''"
   ]
  },
  {
   "cell_type": "code",
   "execution_count": 2,
   "metadata": {},
   "outputs": [
    {
     "data": {
      "text/plain": [
       "\"\\n - UNIQUE \\n - NOT NULL \\n - DEFAULT\\n\\n create table test(\\n    col1 integer unique,\\n    col2 integer not null,\\n    col3 varchar2(25) default 'hello'\\n);\\n\\ninsert into test (col1,col2) values(1, 1);\\nselect * from test;\\n\\ninsert into test values(1, 1,'test'); --invalid\\ninsert into test values(2, 1,'test');\\ninsert into test values(3, NULL,'test');\\ninsert into test values(3, null,'test');\\n\\ninsert into test values(1, 1,'test');\\ninsert into test values(1, 1,'test');\\n\\nalter table test drop constraint SYS_C00146642804;\\n\\nselect * from user_constraints where table_name ='TEST';\\n\\nalter table test modify col2 integer null;\\n\""
      ]
     },
     "execution_count": 2,
     "metadata": {},
     "output_type": "execute_result"
    }
   ],
   "source": [
    "# Other Important Constrants\n",
    "'''\n",
    " - UNIQUE \n",
    " - NOT NULL \n",
    " - DEFAULT\n",
    "\n",
    " create table test(\n",
    "    col1 integer unique,\n",
    "    col2 integer not null,\n",
    "    col3 varchar2(25) default 'hello'\n",
    ");\n",
    "\n",
    "insert into test (col1,col2) values(1, 1);\n",
    "select * from test;\n",
    "\n",
    "insert into test values(1, 1,'test'); --invalid\n",
    "insert into test values(2, 1,'test');\n",
    "insert into test values(3, NULL,'test');\n",
    "insert into test values(3, null,'test');\n",
    "\n",
    "insert into test values(1, 1,'test');\n",
    "insert into test values(1, 1,'test');\n",
    "\n",
    "alter table test drop constraint SYS_C00146642804;\n",
    "\n",
    "select * from user_constraints where table_name ='TEST';\n",
    "\n",
    "alter table test modify col2 integer null;\n",
    "'''"
   ]
  },
  {
   "cell_type": "code",
   "execution_count": null,
   "metadata": {},
   "outputs": [],
   "source": [
    "# Alter table table1 ADD CONSTRAINT UNIQUE_COL UNIQUE(COL1);"
   ]
  }
 ],
 "metadata": {
  "kernelspec": {
   "display_name": "Python 3",
   "language": "python",
   "name": "python3"
  },
  "language_info": {
   "codemirror_mode": {
    "name": "ipython",
    "version": 3
   },
   "file_extension": ".py",
   "mimetype": "text/x-python",
   "name": "python",
   "nbconvert_exporter": "python",
   "pygments_lexer": "ipython3",
   "version": "3.9.12"
  },
  "orig_nbformat": 4
 },
 "nbformat": 4,
 "nbformat_minor": 2
}
