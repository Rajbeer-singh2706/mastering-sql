{
 "cells": [
  {
   "cell_type": "code",
   "execution_count": 1,
   "metadata": {},
   "outputs": [
    {
     "data": {
      "text/plain": [
       "'\\n   - **Question:** Explain what window functions are in SQL and provide an example of how they can be used to calculate a running total or a moving average.\\n   - **Expected Answer:** Window functions allow performing calculations across a set of table rows related to the current row. Example:\\n     ```sql\\n     SELECT\\n         order_id,\\n         customer_id,\\n         order_date,\\n         SUM(amount) OVER (ORDER BY order_date) AS running_total\\n     FROM\\n         orders;\\n         \\n'"
      ]
     },
     "execution_count": 1,
     "metadata": {},
     "output_type": "execute_result"
    }
   ],
   "source": [
    "### 2. **Running Total**\n",
    "'''\n",
    "Q)Explain what window functions are in SQL and provide an example of how they can be used to calculate a running total or a moving average.\n",
    "A) Window functions allow performing calculations across a set of table rows related to the current row. Example:\n",
    "\n",
    "transactions(`transaction_date`, `customer_id`, `amount`)\n",
    "Q) write a query to calculate the running total of the `amount` for each `customer_id` ordered by `transaction_date`.\n",
    "SELECT \n",
    "    transaction_date,\n",
    "    customer_id,\n",
    "    amount,\n",
    "    SUM(amount) OVER (\n",
    "        PARTITION BY customer_id \n",
    "        ORDER BY transaction_date\n",
    "    ) AS running_total\n",
    "FROM \n",
    "    transactions\n",
    "ORDER BY \n",
    "    customer_id, transaction_date;\n",
    "\n",
    "'''\n",
    "####\n",
    "'''\n",
    "\n",
    "Explanation:\n",
    "1. SUM(amount) OVER (PARTITION BY customer_id ORDER BY transaction_date):\n",
    "\n",
    "- PARTITION BY customer_id: This divides the result set into partitions, one for each customer_id.\n",
    "- ORDER BY transaction_date: Within each partition, the rows are ordered by transaction_date.\n",
    "- The SUM() function then computes a running total of amount within each partition as the rows are ordered by transaction_date.\n",
    "\n",
    "2. ORDER BY customer_id, transaction_date: This ensures that the final result set is ordered by customer_id and within each customer,\n",
    " by transaction_date.\n",
    "\n",
    "The result will show the cumulative sum of the amount for each customer, ordered by the date of the transaction.\n",
    "\n",
    "'''"
   ]
  },
  {
   "cell_type": "code",
   "execution_count": 2,
   "metadata": {},
   "outputs": [
    {
     "data": {
      "text/plain": [
       "'\\nQ) A query you wrote is running slow. What steps would you take to optimize it?\\nA) \\n- Review indexes, \\n- check query execution plan, \\n- avoid using \\n   * `SELECT *`, \\n   * use proper joins, \\n   * avoid subqueries in favor of CTEs, and \\n   * consider query rewriting or denormalization if needed.\\n\\n'"
      ]
     },
     "execution_count": 2,
     "metadata": {},
     "output_type": "execute_result"
    }
   ],
   "source": [
    "### 2. **Query Optimization**\n",
    "'''\n",
    "Q) A query you wrote is running slow. What steps would you take to optimize it?\n",
    "A) \n",
    "- Review indexes, \n",
    "- check query execution plan, \n",
    "- avoid using \n",
    "   * `SELECT *`, \n",
    "   * use proper joins, \n",
    "   * avoid subqueries in favor of CTEs, and \n",
    "   * consider query rewriting or denormalization if needed.\n",
    "'''"
   ]
  },
  {
   "cell_type": "code",
   "execution_count": 3,
   "metadata": {},
   "outputs": [
    {
     "data": {
      "text/plain": [
       "'\\nQ) How would you write a recursive SQL query to traverse a hierarchical data structure, such as an employee reporting hierarchy?\\n\\nWITH RECURSIVE EmployeeCTE AS (\\n         SELECT employee_id, manager_id, employee_name, 1 AS level\\n         FROM employees\\n         WHERE manager_id IS NULL\\n         \\n         UNION ALL\\n         \\n         SELECT e.employee_id, e.manager_id, e.employee_name, cte.level + 1\\n         FROM employees e\\n         JOIN EmployeeCTE cte ON e.manager_id = cte.employee_id\\n     )\\n     SELECT * FROM EmployeeCTE;\\n'"
      ]
     },
     "execution_count": 3,
     "metadata": {},
     "output_type": "execute_result"
    }
   ],
   "source": [
    "### 4. **Recursive Queries**\n",
    "'''\n",
    "Q) How would you write a recursive SQL query to traverse a hierarchical data structure, such as an employee reporting hierarchy?\n",
    "\n",
    "WITH RECURSIVE EmployeeCTE AS (\n",
    "         SELECT employee_id, manager_id, employee_name, 1 AS level\n",
    "         FROM employees\n",
    "         WHERE manager_id IS NULL\n",
    "         \n",
    "         UNION ALL\n",
    "         \n",
    "         SELECT e.employee_id, e.manager_id, e.employee_name, cte.level + 1\n",
    "         FROM employees e\n",
    "         JOIN EmployeeCTE cte ON e.manager_id = cte.employee_id\n",
    "     )\n",
    "     SELECT * FROM EmployeeCTE;\n",
    "'''\n"
   ]
  },
  {
   "cell_type": "code",
   "execution_count": 4,
   "metadata": {},
   "outputs": [
    {
     "data": {
      "text/plain": [
       "\"\\nQ) How do you handle NULL values in SQL? Provide examples of using COALESCE and NULLIF.\\n   - **Expected Answer:** \\n     - `COALESCE` returns the first non-NULL value in the list.\\n     - `NULLIF` returns NULL if the two compared values are equal.\\n\\n - SELECT COALESCE(column1, 'default_value') FROM table;\\n - SELECT NULLIF(column1, column2) FROM table;\\n\""
      ]
     },
     "execution_count": 4,
     "metadata": {},
     "output_type": "execute_result"
    }
   ],
   "source": [
    "# ### 6. **Handling NULL Values**\n",
    "'''\n",
    "Q) How do you handle NULL values in SQL? Provide examples of using COALESCE and NULLIF.\n",
    "   - **Expected Answer:** \n",
    "     - `COALESCE` returns the first non-NULL value in the list.\n",
    "     - `NULLIF` returns NULL if the two compared values are equal.\n",
    "\n",
    " - SELECT COALESCE(column1, 'default_value') FROM table;\n",
    " - SELECT NULLIF(column1, column2) FROM table;\n",
    "'''\n"
   ]
  },
  {
   "cell_type": "code",
   "execution_count": 5,
   "metadata": {},
   "outputs": [
    {
     "data": {
      "text/plain": [
       "'\\nQ) What are indexes in SQL, and how do they impact query performance? When would you use a composite index?\\nA) Indexes speed up data retrieval but can slow down write operations. A composite index is used when you frequently \\nquery multiple columns together.\\n'"
      ]
     },
     "execution_count": 5,
     "metadata": {},
     "output_type": "execute_result"
    }
   ],
   "source": [
    "###### 7. **Indexes**\n",
    "'''\n",
    "Q) What are indexes in SQL, and how do they impact query performance? When would you use a composite index?\n",
    "A) Indexes speed up data retrieval but can slow down write operations. A composite index is used when you frequently \n",
    "query multiple columns together.\n",
    "'''"
   ]
  },
  {
   "cell_type": "code",
   "execution_count": 6,
   "metadata": {},
   "outputs": [
    {
     "data": {
      "text/plain": [
       "\"\\nQ) How would you pivot data in SQL to convert rows into columns? Provide an example.\\nA)\\n     SELECT \\n         product,\\n         SUM(CASE WHEN year = '2020' THEN sales END) AS sales_2020,\\n         SUM(CASE WHEN year = '2021' THEN sales END) AS sales_2021\\n     FROM sales_data\\n     GROUP BY product;\\n\""
      ]
     },
     "execution_count": 6,
     "metadata": {},
     "output_type": "execute_result"
    }
   ],
   "source": [
    "#### 8. **Pivot and Unpivot**\n",
    "'''\n",
    "Q) How would you pivot data in SQL to convert rows into columns? Provide an example.\n",
    "A)\n",
    "SELECT \n",
    "   product,\n",
    "   SUM(CASE WHEN year = '2020' THEN sales END) AS sales_2020,\n",
    "   SUM(CASE WHEN year = '2021' THEN sales END) AS sales_2021\n",
    "FROM sales_data\n",
    "GROUP BY product;\n",
    "'''"
   ]
  },
  {
   "cell_type": "code",
   "execution_count": null,
   "metadata": {},
   "outputs": [],
   "source": [
    "### 9. **Partitioning**\n",
    "'''\n",
    "Q) Explain the concept of table partitioning in SQL. How does it improve performance, and when would you use it?\n",
    "A) Partitioning divides a large table into smaller, more manageable pieces, improving query performance and maintenance tasks. \n",
    "Use it when dealing with large datasets that can be logically separated, e.g., by date.\n",
    "'''"
   ]
  }
 ],
 "metadata": {
  "kernelspec": {
   "display_name": "myenv",
   "language": "python",
   "name": "python3"
  },
  "language_info": {
   "codemirror_mode": {
    "name": "ipython",
    "version": 3
   },
   "file_extension": ".py",
   "mimetype": "text/x-python",
   "name": "python",
   "nbconvert_exporter": "python",
   "pygments_lexer": "ipython3",
   "version": "3.9.12"
  }
 },
 "nbformat": 4,
 "nbformat_minor": 2
}
