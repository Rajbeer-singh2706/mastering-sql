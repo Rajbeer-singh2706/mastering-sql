{
 "cells": [
  {
   "cell_type": "markdown",
   "metadata": {},
   "source": [
    "# Section1: Introduction - Resources and Tips \n",
    "    - Setup prosgres using Docker \n",
    "    - Understand Utlilies to load the data \n",
    "    - Writing basic SQL such as filtering, joins, aggregation,sorting etc\n",
    "    - Different Partitioning startegies while creating tables \n",
    "    - writing Advance SQL Queries using anlytics functions \n",
    "    - Connect to postgres using different interfaces such as psql,SQL WOrkbench, Jupyter with SQL Magic etc \n",
    "    - performing CRUD or DML operations \n",
    "    - Crewating Tables , constraints and indexes \n",
    "    - Using pre-defined funcions provided by postgresql \n",
    "\n",
    "\n",
    "#Section10: "
   ]
  },
  {
   "cell_type": "markdown",
   "metadata": {},
   "source": [
    "# Section"
   ]
  },
  {
   "cell_type": "code",
   "execution_count": null,
   "metadata": {},
   "outputs": [],
   "source": [
    " "
   ]
  }
 ],
 "metadata": {
  "language_info": {
   "name": "python"
  },
  "orig_nbformat": 4
 },
 "nbformat": 4,
 "nbformat_minor": 2
}
