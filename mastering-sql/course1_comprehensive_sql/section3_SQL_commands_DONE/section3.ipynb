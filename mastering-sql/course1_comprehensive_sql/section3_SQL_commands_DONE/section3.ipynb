{
 "cells": [
  {
   "cell_type": "code",
   "execution_count": 1,
   "metadata": {},
   "outputs": [
    {
     "data": {
      "text/plain": [
       "'\\nThis section we will cover the 5 main types of SQL Commands, after completing this section you will be able to:\\n * Perform Data Query Language operations using the SELECT command\\n * Understand how to apply the distinct command\\n * Perform Data Definition Language commands such as \\n      - creating, \\n      - dropping and \\n      - altering tables and objects.\\n\\n * Understand the formatting differences between string and numerical values used as in query constraints and clauses.\\n * Perform Data Manipulation Language Commands such as\\n    -  inserting, \\n    - updating and \\n    - deleting records in a table\\n * Use Data Control Language to \\n    - grant \\n    - revoke permissions within your schema\\n * Get a high level overview of Transaction Control Language\\n \\nThe section will end with a series of practical Assignment Questions where you will be coding in SQL!\\n'"
      ]
     },
     "execution_count": 1,
     "metadata": {},
     "output_type": "execute_result"
    }
   ],
   "source": [
    "# SECTION 3: SQL Commands\n",
    "'''\n",
    "This section we will cover the 5 main types of SQL Commands, after completing this section you will be able to:\n",
    " * Perform Data Query Language operations using the SELECT command\n",
    " * Understand how to apply the distinct command\n",
    " * Perform Data Definition Language commands such as \n",
    "      - creating, \n",
    "      - dropping and \n",
    "      - altering tables and objects.\n",
    "\n",
    " * Understand the formatting differences between string and numerical values used as in query constraints and clauses.\n",
    " * Perform Data Manipulation Language Commands such as\n",
    "    - inserting, \n",
    "    - updating and \n",
    "    - deleting records in a table\n",
    " * Use Data Control Language to \n",
    "    - grant \n",
    "    - revoke permissions within your schema\n",
    " * Get a high level overview of Transaction Control Language\n",
    " \n",
    "The section will end with a series of practical Assignment Questions where you will be coding in SQL!\n",
    "'''"
   ]
  },
  {
   "cell_type": "code",
   "execution_count": 2,
   "metadata": {},
   "outputs": [
    {
     "data": {
      "text/plain": [
       "'\\n  - DDL \\n  - DML \\n  - DCL \\n  - DQL\\n  - TCL\\n'"
      ]
     },
     "execution_count": 2,
     "metadata": {},
     "output_type": "execute_result"
    }
   ],
   "source": [
    "# The 5 Types of SQL Commands\n",
    "'''\n",
    "  - DDL \n",
    "  - DML \n",
    "  - DCL \n",
    "  - DQL\n",
    "  - TCL\n",
    "'''"
   ]
  },
  {
   "cell_type": "code",
   "execution_count": 3,
   "metadata": {},
   "outputs": [
    {
     "data": {
      "text/plain": [
       "'\\n\\nselect \\n  name, \\n  population\\n\\nFROM eba_countries;\\n\\nselect * FROM eba_countries;\\n\\n\\n\\n-- case insesitive , \\nselect \\n  name as country, \\n  population,\\n  poPuLation\\n\\nFROM eba_countries;\\n\\n'"
      ]
     },
     "execution_count": 3,
     "metadata": {},
     "output_type": "execute_result"
    }
   ],
   "source": [
    "# Data Query Language : =>  DQL \n",
    "'''\n",
    " * SELECT COL_1, COL_2, COL_N FROM TABLE;\n",
    " * SELECT COL_1, COL_2, COL_N FROM SCHEMA.TABLE;\n",
    "\n",
    "--- \n",
    "select \n",
    "  name, \n",
    "  population\n",
    "FROM eba_countries;\n",
    "\n",
    "--\n",
    "select * FROM eba_countries;\n",
    "\n",
    "-- case insesitive , \n",
    "select \n",
    "  name as country, \n",
    "  population,\n",
    "  poPuLation\n",
    "FROM eba_countries;\n",
    "\n",
    "'''"
   ]
  },
  {
   "cell_type": "code",
   "execution_count": 2,
   "metadata": {},
   "outputs": [
    {
     "data": {
      "text/plain": [
       "'\\n    select * FROM eba_countries;\\n    select distinct region_id FROM eba_countries;\\n    select distinct region_id,name FROM eba_countries;\\n    select distinct * FROM eba_countries;\\n'"
      ]
     },
     "execution_count": 2,
     "metadata": {},
     "output_type": "execute_result"
    }
   ],
   "source": [
    "# select Distinct statement, remove duplicates\n",
    "'''\n",
    "    select * FROM eba_countries;\n",
    "    select distinct region_id FROM eba_countries;\n",
    "    select distinct region_id,name FROM eba_countries;\n",
    "    select distinct * FROM eba_countries;\n",
    "'''"
   ]
  },
  {
   "cell_type": "code",
   "execution_count": 1,
   "metadata": {},
   "outputs": [
    {
     "data": {
      "text/plain": [
       "'\\n create table test_table(\\n    col1 number , col2 varchar(50)\\n);\\n\\ncreate table eba_countries_2 AS (\\n select name , population from eba_countries\\n);\\n\\n-- ALTER\\nalter table test_table add (new1 number, new2 varchar(50));\\nalter table test_table rename column new1 to new_altered;\\nalter table test_table drop (new_altered,new2);\\n\\n-RENAME\\nrename test_table to test_table_renamed;\\n\\n\\n-- TRUNCATE \\nselect * from eba_countries_2;\\ntruncate table eba_countries_2;\\n\\n'"
      ]
     },
     "execution_count": 1,
     "metadata": {},
     "output_type": "execute_result"
    }
   ],
   "source": [
    "# Data Defintion Language (DDL)\n",
    "'''\n",
    " create table test_table(\n",
    "    col1 number , col2 varchar(50)\n",
    ");\n",
    "\n",
    "create table eba_countries_2 AS (\n",
    " select name , population from eba_countries\n",
    ");\n",
    "\n",
    "-- ALTER\n",
    "alter table test_table add (new1 number, new2 varchar(50));\n",
    "alter table test_table rename column new1 to new_altered;\n",
    "alter table test_table drop (new_altered,new2);\n",
    "\n",
    "-- RENAME\n",
    "rename test_table to test_table_renamed;\n",
    "\n",
    "-- TRUNCATE \n",
    "select * from eba_countries_2;\n",
    "truncate table eba_countries_2;\n",
    "'''"
   ]
  },
  {
   "cell_type": "code",
   "execution_count": 2,
   "metadata": {},
   "outputs": [
    {
     "data": {
      "text/plain": [
       "'\\n * Unlike numerical values, string values must be enclosed in single quotes.\\n * This is also the case when referencing a string value in a condition or clause. You will see examples of this throughout the course.\\n * In the next lecture we are inserting values into a table and you should note that all string values will be enclosed in single quotes.\\n Numerical values do not need to be enclosed in single quotes unless they are stored as strings.\\n'"
      ]
     },
     "execution_count": 2,
     "metadata": {},
     "output_type": "execute_result"
    }
   ],
   "source": [
    "# Note On String and Numerical Values\n",
    "'''\n",
    " * Unlike numerical values, string values must be enclosed in single quotes.\n",
    " * This is also the case when referencing a string value in a condition or clause. You will see examples of this throughout the course.\n",
    " * In the next lecture we are inserting values into a table and you should note that all string values will be enclosed in single quotes.\n",
    " Numerical values do not need to be enclosed in single quotes unless they are stored as strings.\n",
    "'''"
   ]
  },
  {
   "cell_type": "code",
   "execution_count": 7,
   "metadata": {},
   "outputs": [
    {
     "data": {
      "text/plain": [
       "\"\\n Get the PDF \\n\\n\\ninsert into eba_countries_2 (name, population) values('New Country', 1000);\\ninsert into eba_countries_2 (name) values('New Country2');\\ninsert into eba_countries_2 (population, name) values(20,'New Country3');\\nselect * from eba_countries_2;\\n\""
      ]
     },
     "execution_count": 7,
     "metadata": {},
     "output_type": "execute_result"
    }
   ],
   "source": [
    "# Data Manipulation Language => (DML)\n",
    "'''\n",
    "insert into eba_countries_2 (name, population) values('New Country', 1000);\n",
    "insert into eba_countries_2 (name) values('New Country2');\n",
    "insert into eba_countries_2 (population, name) values(20,'New Country3');\n",
    "select * from eba_countries_2;\n",
    "'''"
   ]
  },
  {
   "cell_type": "code",
   "execution_count": 4,
   "metadata": {},
   "outputs": [
    {
     "data": {
      "text/plain": [
       "'\\n-- schema1: WKSP_USER2 \\nselect * FROM WKSP_ADVANCESQLRAJ.emp;\\n\\n-- schema2: WKSP_ADVANCESQLRAJ\\ngrant select on emp to WKSP_USER2;\\nrevoke select on emp from WKSP_USER2;\\n'"
      ]
     },
     "execution_count": 4,
     "metadata": {},
     "output_type": "execute_result"
    }
   ],
   "source": [
    "# Data Control Language (DCL) => GRANT & REVOKE\n",
    "'''\n",
    "-- schema1: WKSP_USER2 \n",
    "select * FROM WKSP_ADVANCESQLRAJ.emp;\n",
    "\n",
    "-- schema2: WKSP_ADVANCESQLRAJ\n",
    "grant select on emp to WKSP_USER2;\n",
    "revoke select on emp from WKSP_USER2;\n",
    "'''"
   ]
  },
  {
   "cell_type": "code",
   "execution_count": 5,
   "metadata": {},
   "outputs": [
    {
     "data": {
      "text/plain": [
       "'\\n* Transaction Control Language Commands are used to manage changes to transactions in a database.\\n* There are three commands you should be aware of:\\n  - COMMIT;\\n  - ROLLBACK;\\n  - SAVEPOINT optional_name;\\n\\n* Note that on Oracle APEX all transactions are automatically committed so you cannot use TCL Commands in Oracle APEX. \\n* You should be able to use TCL Commands on the main database management systems including Oracle SQL Developer, \\n   MySQL and Microsoft SQL Server.\\n\\n* I will however provide some details and example on the 3 commands in this article.\\n\\n* COMMIT: This command commits the changes made to any transactions in the database. A transactional change could be the INSERT of a new \\nrecord or the UPDATE or ALTER Commands for example.\\n'"
      ]
     },
     "execution_count": 5,
     "metadata": {},
     "output_type": "execute_result"
    }
   ],
   "source": [
    "# Transaction Control Language (TCL)\n",
    "'''\n",
    "* Transaction Control Language Commands are used to manage changes to transactions in a database.\n",
    "* There are three commands you should be aware of:\n",
    "  - COMMIT;\n",
    "  - ROLLBACK;\n",
    "  - SAVEPOINT optional_name;\n",
    "\n",
    "* Note that on Oracle APEX all transactions are automatically committed so you cannot use TCL Commands in Oracle APEX. \n",
    "* You should be able to use TCL Commands on the main database management systems including Oracle SQL Developer, \n",
    "   MySQL and Microsoft SQL Server.\n",
    "\n",
    "* I will however provide some details and example on the 3 commands in this article.\n",
    "\n",
    "* COMMIT: This command commits the changes made to any transactions in the database. A transactional change could be the INSERT of a new \n",
    "record or the UPDATE or ALTER Commands for example.\n",
    "'''"
   ]
  },
  {
   "cell_type": "code",
   "execution_count": 6,
   "metadata": {},
   "outputs": [
    {
     "data": {
      "text/plain": [
       "'\\nQ1) For this question I want you to create a table by using the existing records from the \"EBA_COUNTRIES\" Table.\\nCreate a new table by using the “COUNTRY_ID” and “POPULATION” fields from the \"EBA_COUNTRIES\" table and \\nname the new table “Customer Age\".\\n\\ncreate table customer_age as (\\n select COUNTRY_ID, POPULATION from eba_countries\\n)\\ncreate table \"Customer Age\" as (select country_id, population from eba_countries);\\n\\n\\n'"
      ]
     },
     "execution_count": 6,
     "metadata": {},
     "output_type": "execute_result"
    }
   ],
   "source": [
    "# Assignment Questions\n",
    "# Please attempt as many questions as you can, I will go over the solutions in the next lecture. Good luck!\n",
    "# (For these assignment questions we will be using the Countries Sample Dataset)\n",
    "\n",
    "'''\n",
    "Q1) For this question I want you to create a table by using the existing records from the \"EBA_COUNTRIES\" Table.\n",
    "Create a new table by using the “COUNTRY_ID” and “POPULATION” fields from the \"EBA_COUNTRIES\" table and \n",
    "name the new table “Customer Age\".\n",
    "\n",
    "create table customer_age as (\n",
    " select COUNTRY_ID, POPULATION from eba_countries\n",
    ")\n",
    "create table \"Customer Age\" as (select country_id, population from eba_countries);\n",
    "\n",
    "\n",
    "'''"
   ]
  },
  {
   "cell_type": "code",
   "execution_count": 8,
   "metadata": {},
   "outputs": [
    {
     "data": {
      "text/plain": [
       "'\\n alter table customer_age modify( name  varchar2(30));\\n insert into customer_age values(\\'carlos\\', 32);\\n\\n alter table \"Customer Age\" modify Name varchar(50);\\n insert into \"Customer Age\" (Name, Age) values (\\'Carlos\\', 32);\\n'"
      ]
     },
     "execution_count": 8,
     "metadata": {},
     "output_type": "execute_result"
    }
   ],
   "source": [
    "# Q2) Truncate the newly created “Customer Age” table\n",
    "'''\n",
    "truncate table customer_age;\n",
    "truncate table \"Customer Age\";\n",
    "'''\n",
    "\n",
    "#Q3) In your \"Customer Age\" table rename the ”COUNTRY_ID” field to “NAME”\n",
    "'''\n",
    " - alter table customer_age rename column country_id  to name;\n",
    " - alter table \"Customer Age\" rename column country_id to Name;\n",
    "'''\n",
    "\n",
    "# Q4) Rename the ”POPULATION” field to “AGE”\n",
    "'''\n",
    " - alter table customer_age rename column ”POPULATION”  to “AGE”;\n",
    " - alter table \"Customer Age\" rename column Population to Age;\n",
    "'''\n",
    "\n",
    "# Q5) Slightly more challenging, Insert a new record into the ”CUSTOMER AGE” table: Carlos aged 32.\n",
    "# (Hint, look at the data types for the “CUSTOMER AGE” table)\n",
    "'''\n",
    " alter table customer_age modify( name  varchar2(30));\n",
    " insert into customer_age values('carlos', 32);\n",
    "\n",
    " alter table \"Customer Age\" modify Name varchar(50);\n",
    " insert into \"Customer Age\" (Name, Age) values ('Carlos', 32);\n",
    "'''"
   ]
  },
  {
   "cell_type": "code",
   "execution_count": 9,
   "metadata": {},
   "outputs": [],
   "source": [
    "# Invalid Number : If we try to insert string in integer value"
   ]
  },
  {
   "cell_type": "code",
   "execution_count": null,
   "metadata": {},
   "outputs": [],
   "source": []
  }
 ],
 "metadata": {
  "kernelspec": {
   "display_name": "Python 3",
   "language": "python",
   "name": "python3"
  },
  "language_info": {
   "codemirror_mode": {
    "name": "ipython",
    "version": 3
   },
   "file_extension": ".py",
   "mimetype": "text/x-python",
   "name": "python",
   "nbconvert_exporter": "python",
   "pygments_lexer": "ipython3",
   "version": "3.9.12"
  },
  "orig_nbformat": 4
 },
 "nbformat": 4,
 "nbformat_minor": 2
}
