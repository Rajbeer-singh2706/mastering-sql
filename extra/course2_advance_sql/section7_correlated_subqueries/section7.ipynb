{
 "cells": [
  {
   "cell_type": "code",
   "execution_count": 1,
   "metadata": {},
   "outputs": [],
   "source": [
    "# Section 7: Correlated SubQueries And Common Table Expression (CTEs)\n",
    "'''\n",
    " * This section focuses on Correlated Subqueries and Common Table Expressions (CTEs).\n",
    " * A Correlated Subquery refers to a column in a table from the outer query. A correlated subquery is executed multiple times for each \n",
    " record of the outer query, whereas a non-correlated subquery is executed only once.\n",
    " * A Common Table Expression can be used to simplify complex queries and provide an alternative means to query hierarchical \n",
    " data using recursive CTEs.\n",
    "'''"
   ]
  },
  {
   "cell_type": "code",
   "execution_count": 13,
   "metadata": {},
   "outputs": [
    {
     "data": {
      "text/plain": [
       "\"\\nselect * from emp;\\n-- find the employee which is always running the above of average salary\\nselect * from emp where sal > ( select avg(sal) from emp);\\n\\n\\n-- inline view fo subquery in from clause\\nselect ename , sal from (select * from emp where ename = 'KING')\\n\\n--\\nselect * from emp where empno IN (select empno from emp where deptno = 10);\\n\""
      ]
     },
     "execution_count": 13,
     "metadata": {},
     "output_type": "execute_result"
    }
   ],
   "source": [
    "# Recap on SubQueries\n",
    "'''\n",
    "select * from emp;\n",
    "-- find the employee which is always running the above of average salary\n",
    "select * from emp where sal > ( select avg(sal) from emp);\n",
    "\n",
    "\n",
    "-- inline view fo subquery in from clause\n",
    "select ename , sal from (select * from emp where ename = 'KING')\n",
    "\n",
    "--\n",
    "select * from emp where empno IN (select empno from emp where deptno = 10);\n",
    "'''"
   ]
  },
  {
   "cell_type": "code",
   "execution_count": 17,
   "metadata": {},
   "outputs": [
    {
     "data": {
      "text/plain": [
       "'\\nselect a.* \\nfrom eba_countries a \\nWHERE exists (\\n    select b.id from eba_country_intermediates b where a.INTERMEDIATE_REGION_ID = b.id\\n) ;\\n\\n\\nselect a.* \\nfrom eba_countries a \\nWHERE not exists (\\n    select b.id from eba_country_intermediates b where a.INTERMEDIATE_REGION_ID = b.id\\n) ;\\n\\nselect a.* \\nfrom eba_countries a \\nWHERE exists (\\n    select 1 from eba_country_intermediates b where 1 = 1\\n) ;\\n\\n\\nselect a.* \\nfrom eba_countries a \\nWHERE exists (\\n    select 1 from eba_country_intermediates b where 1 = 2\\n) ;\\n'"
      ]
     },
     "execution_count": 17,
     "metadata": {},
     "output_type": "execute_result"
    }
   ],
   "source": [
    "# Correlated SubQueries , Where Exists And Where Not Exists\n",
    "'''\n",
    "select * from eba_countries;\n",
    "\n",
    "select a.* \n",
    "from eba_countries a \n",
    "WHERE a.INTERMEDIATE_REGION_ID = (\n",
    "    select b.id from eba_country_intermediates b where a.INTERMEDIATE_REGION_ID = b.id\n",
    ") ;\n",
    "\n",
    "'''\n",
    "# Where EXISTS \n",
    "'''\n",
    "select a.* \n",
    "from eba_countries a \n",
    "WHERE exists (\n",
    "    select b.id from eba_country_intermediates b where a.INTERMEDIATE_REGION_ID = b.id\n",
    ") ;\n",
    "\n",
    "\n",
    "select a.* \n",
    "from eba_countries a \n",
    "WHERE not exists (\n",
    "    select b.id from eba_country_intermediates b where a.INTERMEDIATE_REGION_ID = b.id\n",
    ") ;\n",
    "\n",
    "select a.* \n",
    "from eba_countries a \n",
    "WHERE exists (\n",
    "    select 1 from eba_country_intermediates b where 1 = 1\n",
    ") ;\n",
    "\n",
    "\n",
    "select a.* \n",
    "from eba_countries a \n",
    "WHERE exists (\n",
    "    select 1 from eba_country_intermediates b where 1 = 2\n",
    ") ;\n",
    "'''"
   ]
  },
  {
   "cell_type": "code",
   "execution_count": 19,
   "metadata": {},
   "outputs": [
    {
     "data": {
      "text/plain": [
       "'\\nwith cte_emp ( ename, empno, sal, deptno )\\nAS\\n(\\n    select ename, empno , sal , deptno from emp where sal > 2000\\n),\\ncte_dept (deptno)\\nAS (\\n    select deptno from dept where deptno in (10,20)\\n)\\n\\nselect \\n a.*\\nfrom cte_emp a \\njoin cte_dept b \\non a.deptno = b.deptno;\\n'"
      ]
     },
     "execution_count": 19,
     "metadata": {},
     "output_type": "execute_result"
    }
   ],
   "source": [
    "# Commont Table Expression (CTEs)\n",
    "'''\n",
    "with cte_emp ( ename, empno, sal, deptno )\n",
    "AS\n",
    "(\n",
    "    select ename, empno , sal , deptno from emp where sal > 2000\n",
    ")\n",
    "select * from cte_emp;\n",
    "'''\n",
    "# \n",
    "'''\n",
    "with cte_emp ( ename, empno, sal, deptno )\n",
    "AS\n",
    "(\n",
    "    select ename, empno , sal , deptno from emp where sal > 2000\n",
    "),\n",
    "cte_dept (deptno)\n",
    "AS (\n",
    "    select deptno from dept where deptno in (10,20)\n",
    ")\n",
    "\n",
    "select \n",
    " a.*\n",
    "from cte_emp a \n",
    "join cte_dept b \n",
    "on a.deptno = b.deptno;\n",
    "'''"
   ]
  },
  {
   "cell_type": "code",
   "execution_count": 21,
   "metadata": {},
   "outputs": [
    {
     "data": {
      "text/plain": [
       "'\\nwith cte_emp (empno, ename, mgr, n) \\nAS \\n(\\n    select empno , ename, mgr,1 from EMP where mgr is null --Anchir QUery\\n    union all \\n    select emp.empno, emp.ename, emp.mgr,n+1 from cte_emp join emp on cte_emp.empno = emp.mgr\\n)\\nselect * from cte_emp;\\n'"
      ]
     },
     "execution_count": 21,
     "metadata": {},
     "output_type": "execute_result"
    }
   ],
   "source": [
    "# Recursive CTEs\n",
    "'''\n",
    "create table scalar_table(n int);\n",
    "insert into scalar_table values(1);\n",
    "select * from scalar_table;\n",
    "\n",
    "with cte_5 (n)\n",
    "AS \n",
    "(\n",
    "    select n from scalar_table\n",
    "    union all \n",
    "    select n+1 from cte_5 where n<5 -- ORA-32044: cycle detected while executing recursive WITH query\n",
    ")\n",
    "select * from cte_5;\n",
    "'''\n",
    "# \n",
    "'''\n",
    "select ename, ename,mgr from emp \n",
    "start with ename in ('BLAKE','CLARK')\n",
    "connect by prior empno = mgr;\n",
    "\n",
    "\n",
    "with cte_emp (empno, ename, mgr) \n",
    "AS \n",
    "(\n",
    "    select empno , ename, mgr from EMP where ename in ('BLAKE','CLARK')\n",
    "    union all \n",
    "    select emp.empno, emp.ename, emp.mgr from cte_emp join emp on cte_emp.empno = emp.mgr\n",
    ")\n",
    "select * from cte_emp;\n",
    "'''\n",
    "\n",
    "#### \n",
    "'''\n",
    "with cte_emp (empno, ename, mgr, n) \n",
    "AS \n",
    "(\n",
    "    select empno , ename, mgr,1 from EMP where mgr is null --Anchir QUery\n",
    "    union all \n",
    "    select emp.empno, emp.ename, emp.mgr,n+1 from cte_emp join emp on cte_emp.empno = emp.mgr\n",
    ")\n",
    "select * from cte_emp;\n",
    "'''"
   ]
  },
  {
   "cell_type": "code",
   "execution_count": 6,
   "metadata": {},
   "outputs": [],
   "source": [
    "# Assignment Question 1"
   ]
  },
  {
   "cell_type": "code",
   "execution_count": 7,
   "metadata": {},
   "outputs": [],
   "source": [
    "# Assignment Question 2"
   ]
  },
  {
   "cell_type": "code",
   "execution_count": 8,
   "metadata": {},
   "outputs": [],
   "source": [
    "# Assignment Question 3"
   ]
  }
 ],
 "metadata": {
  "kernelspec": {
   "display_name": "Python 3",
   "language": "python",
   "name": "python3"
  },
  "language_info": {
   "codemirror_mode": {
    "name": "ipython",
    "version": 3
   },
   "file_extension": ".py",
   "mimetype": "text/x-python",
   "name": "python",
   "nbconvert_exporter": "python",
   "pygments_lexer": "ipython3",
   "version": "3.9.12"
  },
  "orig_nbformat": 4
 },
 "nbformat": 4,
 "nbformat_minor": 2
}
