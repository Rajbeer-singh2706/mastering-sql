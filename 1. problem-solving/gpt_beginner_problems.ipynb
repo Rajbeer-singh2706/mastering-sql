{
 "cells": [
  {
   "cell_type": "code",
   "execution_count": 1,
   "metadata": {},
   "outputs": [
    {
     "data": {
      "text/plain": [
       "'\\nSure! Here are some beginner SQL problems designed to help you practice basic SQL queries. Each problem includes a description of the database \\nschema and the task to perform.\\n\\n### Problem 1: Simple SELECT Queries\\n\\n**Schema:**\\n- Table: `employees`\\n  - Columns: `id` (INT), `first_name` (VARCHAR), `last_name` (VARCHAR), `age` (INT), `department` (VARCHAR)\\n\\n**Tasks:**\\n1. Write a query to select all columns from the `employees` table.\\n2. Write a query to select the `first_name` and `last_name` of all employees.\\n3. Write a query to select all employees who are older than 30 years.\\n\\n\\n*** SOL ***\\n1. select * from employees\\n2. select first_name, last_name from employees\\n3. select * from employees where age > 30;\\n\\n\\n\\n\\nThese problems should give you a good starting point for practicing SQL. Feel free to ask for more problems or clarifications on any of the tasks!\\n'"
      ]
     },
     "execution_count": 1,
     "metadata": {},
     "output_type": "execute_result"
    }
   ],
   "source": [
    "### Problem 1: Simple SELECT Queries\n",
    "'''\n",
    "**Schema:**\n",
    "- Table: `employees`\n",
    "  - Columns: `id` (INT), `first_name` (VARCHAR), `last_name` (VARCHAR), `age` (INT), `department` (VARCHAR)\n",
    "\n",
    "**Tasks:**\n",
    "1. Write a query to select all columns from the `employees` table.\n",
    "2. Write a query to select the `first_name` and `last_name` of all employees.\n",
    "3. Write a query to select all employees who are older than 30 years.\n",
    "'''\n",
    "\n",
    "###*** SOLUTION ***\n",
    "'''\n",
    "  1. select * from employees\n",
    "  2. select first_name, last_name from employees\n",
    "  3. select * from employees where age > 30;\n",
    "\n",
    "'''"
   ]
  },
  {
   "cell_type": "code",
   "execution_count": 2,
   "metadata": {},
   "outputs": [
    {
     "data": {
      "text/plain": [
       "\"\\n\\n####### Problem 2: WHERE Clause #######\\n\\n**Schema:**\\n- Table: `products`\\n  - Columns: `product_id` (INT), `product_name` (VARCHAR), `price` (DECIMAL), `category` (VARCHAR)\\n\\n**Tasks:**\\n1. Write a query to find all products in the 'Electronics' category.\\n2. Write a query to find all products with a price greater than 100.\\n3. Write a query to find all products in the 'Furniture' category that cost less than 200.\\n\\n*** SOLUTION ***\\n1. select * from products where category = 'Electronics';\\n2. select * FROM products where price >100;\\n3. SELECT * FROM products where category='Furniture' and price < 200\\n\\n\\n\\n\\n### Problem 4: GROUP BY and HAVING\\n\\n**Schema:**\\n- Table: `orders`\\n  - Columns: `order_id` (INT), `customer_id` (INT), `order_date` (DATE), `total_amount` (DECIMAL)\\n\\n**Tasks:**\\n1. Write a query to find the total number of orders placed by each customer.\\n2. Write a query to find the total amount spent by each customer.\\n3. Write a query to find customers who have spent more than 1000 in total.\\n\\n### Problem 5: JOIN Queries\\n\\n**Schema:**\\n- Table: `customers`\\n  - Columns: `customer_id` (INT), `customer_name` (VARCHAR), `contact_number` (VARCHAR)\\n- Table: `orders`\\n  - Columns: `order_id` (INT), `customer_id` (INT), `order_date` (DATE), `total_amount` (DECIMAL)\\n\\n**Tasks:**\\n1. Write a query to list all customers and their orders.\\n2. Write a query to find the total amount spent by each customer.\\n3. Write a query to list all orders along with the customer name who placed the order.\\n\\n### Problem 6: Subqueries\\n\\n**Schema:**\\n- Table: `employees`\\n  - Columns: `id` (INT), `first_name` (VARCHAR), `last_name` (VARCHAR), `salary` (DECIMAL), `department_id` (INT)\\n- Table: `departments`\\n  - Columns: `department_id` (INT), `department_name` (VARCHAR)\\n\\n**Tasks:**\\n1. Write a query to find all employees who work in the 'Sales' department.\\n2. Write a query to find the employee with the highest salary.\\n3. Write a query to find the average salary of employees in each department.\\n\""
      ]
     },
     "execution_count": 2,
     "metadata": {},
     "output_type": "execute_result"
    }
   ],
   "source": [
    "####### Problem 2: WHERE Clause #######\n",
    "'''\n",
    "**Schema:**\n",
    "- Table: `products`\n",
    "  - Columns: `product_id` (INT), `product_name` (VARCHAR), `price` (DECIMAL), `category` (VARCHAR)\n",
    "\n",
    "**Tasks:**\n",
    "1. Write a query to find all products in the 'Electronics' category.\n",
    "2. Write a query to find all products with a price greater than 100.\n",
    "3. Write a query to find all products in the 'Furniture' category that cost less than 200.\n",
    "'''\n",
    "####SOLUTION ***\n",
    "'''\n",
    "1. select * from products where category = 'Electronics';\n",
    "2. select * FROM products where price >100;\n",
    "3. SELECT * FROM products where category='Furniture' and price < 200\n",
    "\n",
    "'''"
   ]
  },
  {
   "cell_type": "code",
   "execution_count": 3,
   "metadata": {},
   "outputs": [
    {
     "data": {
      "text/plain": [
       "'\\n 1. select sum(quantity) total_sales from sales;\\n 2. select  sales_id, avg(quanity) as averge_qunaity_sold from sales group by sales_id\\n 3. select product_id, sum(quantity) as total_quantity_sold from sales group by product_id\\n\\n'"
      ]
     },
     "execution_count": 3,
     "metadata": {},
     "output_type": "execute_result"
    }
   ],
   "source": [
    "## Problem 3: Aggregate Functions##\n",
    "\n",
    "'''\n",
    "**Schema:**\n",
    "- Table: `sales`\n",
    "  - Columns: `sale_id` (INT), `product_id` (INT), `quantity` (INT), `sale_date` (DATE)\n",
    "\n",
    "**Tasks:**\n",
    "1. Write a query to find the total number of sales.\n",
    "2. Write a query to find the average quantity sold per sale.\n",
    "3. Write a query to find the total quantity sold for each product.\n",
    "'''\n",
    "\n",
    "# Solution: \n",
    "'''\n",
    " 1. select sum(quantity) total_sales from sales;\n",
    " 2. select  sales_id, avg(quanity) as averge_qunaity_sold from sales group by sales_id\n",
    " 3. select product_id, sum(quantity) as total_quantity_sold from sales group by product_id\n",
    "\n",
    "'''"
   ]
  },
  {
   "cell_type": "code",
   "execution_count": 4,
   "metadata": {},
   "outputs": [
    {
     "data": {
      "text/plain": [
       "'\\n 1. select customer_id, count(*) total_orders from employee group by customer_id \\n 2. select customer_id, sum(total_amount) total_amount from employee group by customer_id\\n 3. select customer_id, sum(total_amount) total_amount from employee group by customer_id having total_amount > 1000\\n'"
      ]
     },
     "execution_count": 4,
     "metadata": {},
     "output_type": "execute_result"
    }
   ],
   "source": [
    "### Problem 4: GROUP BY and HAVING\n",
    "'''\n",
    "    **Schema:**\n",
    "    - Table: `orders`\n",
    "    - Columns: `order_id` (INT), `customer_id` (INT), `order_date` (DATE), `total_amount` (DECIMAL)\n",
    "\n",
    "    **Tasks:**\n",
    "    1. Write a query to find the total number of orders placed by each customer.\n",
    "    2. Write a query to find the total amount spent by each customer.\n",
    "    3. Write a query to find customers who have spent more than 1000 in total.\n",
    "'''\n",
    "\n",
    "##### SOLUTION #####\n",
    "'''\n",
    " 1. select customer_id, count(*) total_orders from employee group by customer_id \n",
    " 2. select customer_id, sum(total_amount) total_amount from employee group by customer_id\n",
    " 3. select customer_id, sum(total_amount) total_amount from employee group by customer_id having total_amount > 1000\n",
    "'''"
   ]
  },
  {
   "cell_type": "code",
   "execution_count": 5,
   "metadata": {},
   "outputs": [
    {
     "data": {
      "text/plain": [
       "'\\n   1. select c.*, o.order_id,o.order_date  FROM customers c \\n     JOIN orders o c.customer_id = o.customer_id \\n    \\n    2.\\n        select c.customer_id,sum(total_amount) as total_amount \\n           FROM customers c JOIN orders o \\n               ON c.customer_id = o.customer_id\\n            GROUP BY c.customer_id\\n    3. select order_id,customer_name\\n               FROM orders o JOIN  customers c \\n               ON o.customer_id = c.customer_id \\n          \\n'"
      ]
     },
     "execution_count": 5,
     "metadata": {},
     "output_type": "execute_result"
    }
   ],
   "source": [
    "\n",
    "### Problem 5: JOIN Queries\n",
    "'''\n",
    "**Schema:**\n",
    "- Table: `customers`\n",
    "  - Columns: `customer_id` (INT), `customer_name` (VARCHAR), `contact_number` (VARCHAR)\n",
    "- Table: `orders`\n",
    "  - Columns: `order_id` (INT), `customer_id` (INT), `order_date` (DATE), `total_amount` (DECIMAL)\n",
    "\n",
    "**Tasks:**\n",
    "1. Write a query to list all customers and their orders.\n",
    "2. Write a query to find the total amount spent by each customer.\n",
    "3. Write a query to list all orders along with the customer name who placed the order.\n",
    "\n",
    "'''\n",
    "### SOlutuion \n",
    "'''\n",
    "   1. select c.*, o.order_id,o.order_date  FROM customers c \n",
    "     JOIN orders o c.customer_id = o.customer_id \n",
    "    \n",
    "    2.\n",
    "        select c.customer_id,sum(total_amount) as total_amount \n",
    "           FROM customers c JOIN orders o \n",
    "               ON c.customer_id = o.customer_id\n",
    "            GROUP BY c.customer_id\n",
    "    3. select order_id,customer_name\n",
    "               FROM orders o JOIN  customers c \n",
    "               ON o.customer_id = c.customer_id \n",
    "          \n",
    "'''"
   ]
  },
  {
   "cell_type": "code",
   "execution_count": 6,
   "metadata": {},
   "outputs": [
    {
     "data": {
      "text/plain": [
       "\"\\n 1. select * from employees where department_id IN (select department_id from departments where department_name = 'Sales')\\n 2. select * from employees where salary = (select max(salary) from employees)\\n 3. select department_id , avg(salary) from employees group by department_id \\n\\n\""
      ]
     },
     "execution_count": 6,
     "metadata": {},
     "output_type": "execute_result"
    }
   ],
   "source": [
    "### Problem 6: Subqueries\n",
    "'''\n",
    "**Schema:**\n",
    "- Table: `employees`\n",
    "  - Columns: `id` (INT), `first_name` (VARCHAR), `last_name` (VARCHAR), `salary` (DECIMAL), `department_id` (INT)\n",
    "- Table: `departments`\n",
    "  - Columns: `department_id` (INT), `department_name` (VARCHAR)\n",
    "\n",
    "'''\n",
    "\n",
    "#### Tasks:**\n",
    "'''\n",
    "  1. Write a query to find all employees who work in the 'Sales' department.\n",
    "  2. Write a query to find the employee with the highest salary.\n",
    "  3. Write a query to find the average salary of employees in each department.\n",
    "'''\n",
    "\n",
    "#### SOLUTION : \n",
    "'''\n",
    " 1. select * from employees where department_id IN (select department_id from departments where department_name = 'Sales')\n",
    " 2. select * from employees where salary = (select max(salary) from employees)\n",
    " 3. select department_id , avg(salary) from employees group by department_id \n",
    " \n",
    "\n",
    "'''"
   ]
  },
  {
   "cell_type": "code",
   "execution_count": null,
   "metadata": {},
   "outputs": [],
   "source": []
  }
 ],
 "metadata": {
  "kernelspec": {
   "display_name": "de-venv1",
   "language": "python",
   "name": "python3"
  },
  "language_info": {
   "codemirror_mode": {
    "name": "ipython",
    "version": 3
   },
   "file_extension": ".py",
   "mimetype": "text/x-python",
   "name": "python",
   "nbconvert_exporter": "python",
   "pygments_lexer": "ipython3",
   "version": "3.9.12"
  }
 },
 "nbformat": 4,
 "nbformat_minor": 2
}
