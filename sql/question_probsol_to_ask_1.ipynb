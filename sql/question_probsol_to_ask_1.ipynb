{
 "cells": [
  {
   "cell_type": "markdown",
   "metadata": {},
   "source": [
    "\n",
    "### Once Asked, we can create this as bkp, create another , and keep on doing that"
   ]
  },
  {
   "cell_type": "code",
   "execution_count": null,
   "metadata": {},
   "outputs": [],
   "source": [
    "# Q1. Handling NULL Values\n",
    "'''\n",
    "-- How do you handle NULL values in SQL? \n",
    "-- Provide examples of using COALESCE and NULLIF.\n",
    "     - `COALESCE` returns the first non-NULL value in the list.\n",
    "     - `NULLIF` returns NULL if the two compared values are equal.\n",
    "\n",
    " - SELECT COALESCE(column1, 'default_value') FROM table;\n",
    " - SELECT NULLIF(column1, column2) FROM table;\n",
    "'''"
   ]
  },
  {
   "cell_type": "code",
   "execution_count": null,
   "metadata": {},
   "outputs": [],
   "source": [
    "# Given two tables, how would you find the count of records using INNER JOIN, LEFT JOIN, RIGHT JOIN, and FULL OUTER JOIN?\n",
    "'''\n",
    "SELECT \n",
    " count(*) as total_count  \n",
    "FROM table1 as A  \n",
    "(INNER JOIN/LEFT JOIN / RIGHT JOIN / FULL JOIN ) AS B\n",
    "   ON A.key  = B.key \n",
    "\n",
    "'''\n"
   ]
  },
  {
   "cell_type": "code",
   "execution_count": null,
   "metadata": {},
   "outputs": [],
   "source": [
    "#* 3. Write a SQL query to delete the 10th highest salary from the employee table?\n",
    "'''\n",
    "DELETE \n",
    "FROM (\n",
    "    SELECT\n",
    "    *,\n",
    "    DENSE_RANK() OVER(ORDER BY SALARY DESC) AS RNK\n",
    "    FROM EMPLOYEE\n",
    " )\n",
    "WHERE RNK = 10\n",
    "\n",
    "'''"
   ]
  },
  {
   "cell_type": "code",
   "execution_count": null,
   "metadata": {},
   "outputs": [],
   "source": [
    "# 4. How would you find the top 3 highest-paid employees in an organization?\n",
    "'''\n",
    "SELECT\n",
    "* \n",
    "FROM \n",
    "(\n",
    " SELECT \n",
    "   *, \n",
    "   DENSE_RANK() OVER(ORDER BY SALARY DESC) AS RNK \n",
    ") \n",
    "WHERE RNK <=3 \n",
    "\n",
    "'''"
   ]
  },
  {
   "cell_type": "code",
   "execution_count": null,
   "metadata": {},
   "outputs": [],
   "source": [
    "# 6. Write a SQL query to retrieve unique records without using DISTINCT or GROUP BY?\n",
    "'''\n",
    "with CTE1 as (\n",
    "   select \n",
    "        name1,\n",
    "        name2,\n",
    "        ROW_NUMBER() OVER(PARTITION BY name1, name2 ORDER BY (select null)) as RNK \n",
    "  FROM table1 \n",
    ")\n",
    "select * FROM CTE1 WHERE RNK = 1\n",
    "'''\n",
    "\n",
    "# Explanation\n",
    "''''\n",
    "ROW_NUMBER(): Assigns a unique row number for each duplicate combination of column1 and column2 based on the PARTITION BY clause.\n",
    "CTE: Captures the result of the ROW_NUMBER() operation.\n",
    "WHERE row_num = 1: Filters out duplicates, leaving only the first occurrence of each unique combination.\n",
    "Key Points:\n",
    "The ORDER BY (SELECT NULL) is used to minimize the impact of sorting and can be replaced with a specific column if ordering is required.\n",
    "Replace ROW_NUMBER() with RANK() or DENSE_RANK() if needed based on your requirements.\n",
    "'''"
   ]
  },
  {
   "cell_type": "code",
   "execution_count": null,
   "metadata": {},
   "outputs": [],
   "source": [
    "# 7. Write a SQL query to calculate the average salary of employees in each department?\n",
    "\n"
   ]
  },
  {
   "cell_type": "code",
   "execution_count": null,
   "metadata": {},
   "outputs": [],
   "source": [
    "# 8. Explain how you would handle NULL values in JOIN operations in SQL?"
   ]
  },
  {
   "cell_type": "code",
   "execution_count": null,
   "metadata": {},
   "outputs": [],
   "source": [
    "## 2. Give customer_names of the persons who have not bought 'C'\n",
    "'''\n",
    "      -- Customers table:\n",
    "    -- +-------------+---------------+\n",
    "    -- | customer_id | customer_name |\n",
    "    -- +-------------+---------------+\n",
    "    -- | 1           | Daniel        |\n",
    "    -- | 2           | Diana         |\n",
    "    -- | 3           | Elizabeth     |\n",
    "    -- | 4           | Jhon          |\n",
    "    -- +-------------+---------------+\n",
    "    -- Orders table:\n",
    "    -- +------------+--------------+---------------+\n",
    "    -- | order_id   | customer_id  | product_name  |\n",
    "    -- +------------+--------------+---------------+\n",
    "    -- | 10         |     1        |     A         |\n",
    "    -- | 20         |     1        |     B         |\n",
    "    -- | 30         |     1        |     D         |\n",
    "    -- | 40         |     1        |     C         |\n",
    "    -- | 50         |     2        |     A         |\n",
    "    -- | 60         |     3        |     A         |\n",
    "    -- | 70         |     3        |     B         |\n",
    "    -- | 80         |     3        |     D         |\n",
    "    -- | 90         |     4        |     C         |\n",
    "'''\n",
    "\n",
    "### SOL 1\n",
    "'''\n",
    "  select customer_name from customers NOT IN (select customer_id from Orders where prodcut_name like '%C') # 1, 4\n",
    "'''\n",
    "\n",
    "### SOL2: Using Join \n",
    "'''\n",
    "  SELECT \n",
    "  FROM CUSTOMER C \n",
    "  LEFT JOIN Orders O \n",
    "     ON C.customer_id = o.customer_id AND product_name = 'C'\n",
    "  WHERE product_name is null;\n",
    "\n",
    "'''"
   ]
  }
 ],
 "metadata": {
  "kernelspec": {
   "display_name": "upgrad_env",
   "language": "python",
   "name": "python3"
  },
  "language_info": {
   "codemirror_mode": {
    "name": "ipython",
    "version": 3
   },
   "file_extension": ".py",
   "mimetype": "text/x-python",
   "name": "python",
   "nbconvert_exporter": "python",
   "pygments_lexer": "ipython3",
   "version": "3.9.6"
  }
 },
 "nbformat": 4,
 "nbformat_minor": 2
}
