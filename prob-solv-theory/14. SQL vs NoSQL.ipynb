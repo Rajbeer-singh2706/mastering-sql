{
 "cells": [
  {
   "cell_type": "markdown",
   "metadata": {},
   "source": [
    "### **14. SQL vs NoSQL**"
   ]
  },
  {
   "cell_type": "code",
   "execution_count": null,
   "metadata": {
    "vscode": {
     "languageId": "plaintext"
    }
   },
   "outputs": [],
   "source": [
    "'''\n",
    "Q) What are the key differences between SQL and NoSQL databases?\n",
    "Q) When would you choose a NoSQL database over a relational database?\n",
    "Q) What are the limitations of using NoSQL databases, and how do they handle transactions?\n",
    "'''"
   ]
  }
 ],
 "metadata": {
  "language_info": {
   "name": "python"
  }
 },
 "nbformat": 4,
 "nbformat_minor": 2
}
