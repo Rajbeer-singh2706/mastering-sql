{
 "cells": [
  {
   "cell_type": "code",
   "execution_count": 1,
   "metadata": {},
   "outputs": [
    {
     "data": {
      "text/plain": [
       "'\\nThis section will focus on SET Operators. We have already covered how to join tables together based on relationships between these \\ntables and now SET Operators will show you how to combine the result of multiple queries into a single set\\n\\nAfter completing this section you will learn about:\\n- UNION and UNION ALL\\n- INTERSECT\\n- MINUS\\n\\nWe will round this section off with a quiz\\n'"
      ]
     },
     "execution_count": 1,
     "metadata": {},
     "output_type": "execute_result"
    }
   ],
   "source": [
    "# Section 9: Set Operators\n",
    "'''\n",
    "This section will focus on SET Operators. We have already covered how to join tables together based on relationships between these \n",
    "tables and now SET Operators will show you how to combine the result of multiple queries into a single set\n",
    "\n",
    "After completing this section you will learn about:\n",
    "- UNION and UNION ALL\n",
    "- INTERSECT\n",
    "- MINUS\n",
    "\n",
    "We will round this section off with a quiz\n",
    "'''"
   ]
  },
  {
   "cell_type": "code",
   "execution_count": 2,
   "metadata": {},
   "outputs": [
    {
     "data": {
      "text/plain": [
       "'\\nselect * from emp\\nunion\\nselect * from emp; -- 14\\n\\n\\nselect * from emp\\nunion all \\nselect * from emp; -- 28\\n\\n\\nselect * from emp where deptno=10\\nunion\\nselect * from emp where deptno = 20;\\n\\n\\nselect empno,ename from emp where deptno=10\\nunion\\nselect * from emp where deptno = 20;\\n\\n\\n'"
      ]
     },
     "execution_count": 2,
     "metadata": {},
     "output_type": "execute_result"
    }
   ],
   "source": [
    "# Union - keep unique / Union ALL: keep duplicate \n",
    "'''\n",
    "select * from emp\n",
    "union\n",
    "select * from emp; -- 14\n",
    "\n",
    "\n",
    "select * from emp\n",
    "union all \n",
    "select * from emp; -- 28\n",
    "\n",
    "\n",
    "select * from emp where deptno=10\n",
    "union\n",
    "select * from emp where deptno = 20;\n",
    "\n",
    "\n",
    "select empno,ename from emp where deptno=10\n",
    "union\n",
    "select * from emp where deptno = 20;\n",
    "\n",
    "\n",
    "'''"
   ]
  },
  {
   "cell_type": "code",
   "execution_count": 3,
   "metadata": {},
   "outputs": [
    {
     "data": {
      "text/plain": [
       "'\\n-- return common rows \\nselect * from emp where deptno = 10\\nintersect\\nselect * from emp where deptno  = 20;\\n\\n--\\nselect * from dept\\n\\n-- \\nselect deptno from dept\\nintersect \\nselect deptno from emp;\\n\\n---\\nselect deptno from emp\\nintersect\\nselect deptno from dept;\\n \\n-- \\nselect distinct deptno from emp;\\n\\n'"
      ]
     },
     "execution_count": 3,
     "metadata": {},
     "output_type": "execute_result"
    }
   ],
   "source": [
    "# Intersect\n",
    "'''\n",
    "The SQL INTERSECT operator is used to combine two SELECT statements, and return rows only from the first SELECT statement that is identical to a row in the second SELECT statement.\n",
    "-- return common rows \n",
    "select * from emp where deptno = 10\n",
    "intersect\n",
    "select * from emp where deptno  = 20;\n",
    "\n",
    "--\n",
    "select * from dept\n",
    "\n",
    "-- \n",
    "select deptno from dept\n",
    "intersect \n",
    "select deptno from emp;\n",
    "\n",
    "---\n",
    "select deptno from emp\n",
    "intersect\n",
    "select deptno from dept;\n",
    " \n",
    "-- \n",
    "select distinct deptno from emp;\n",
    "\n",
    "'''"
   ]
  },
  {
   "cell_type": "code",
   "execution_count": 4,
   "metadata": {},
   "outputs": [
    {
     "data": {
      "text/plain": [
       "'\\nselect deptno from dept\\nminus \\nselect deptno from emp; -- 40 \\n\\nselect deptno from emp\\nminus \\nselect deptno from dept; --no data found \\n\\n'"
      ]
     },
     "execution_count": 4,
     "metadata": {},
     "output_type": "execute_result"
    }
   ],
   "source": [
    "# Minus: return the result only which is present in A but not in B \n",
    "'''\n",
    "select deptno from dept\n",
    "minus \n",
    "select deptno from emp; -- 40 \n",
    "\n",
    "select deptno from emp\n",
    "minus \n",
    "select deptno from dept; --no data found \n",
    "\n",
    "'''"
   ]
  },
  {
   "cell_type": "code",
   "execution_count": null,
   "metadata": {},
   "outputs": [],
   "source": []
  }
 ],
 "metadata": {
  "kernelspec": {
   "display_name": "Python 3",
   "language": "python",
   "name": "python3"
  },
  "language_info": {
   "codemirror_mode": {
    "name": "ipython",
    "version": 3
   },
   "file_extension": ".py",
   "mimetype": "text/x-python",
   "name": "python",
   "nbconvert_exporter": "python",
   "pygments_lexer": "ipython3",
   "version": "3.9.12"
  },
  "orig_nbformat": 4
 },
 "nbformat": 4,
 "nbformat_minor": 2
}
