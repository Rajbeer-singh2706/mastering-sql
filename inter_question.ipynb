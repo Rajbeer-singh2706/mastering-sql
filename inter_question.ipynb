{
 "cells": [
  {
   "cell_type": "code",
   "execution_count": null,
   "metadata": {},
   "outputs": [],
   "source": [
    "#1. Advanced SQL Concepts\n",
    "#Q1: What is the difference between a clustered and a non-clustered index?\n",
    "\n",
    "'''\n",
    " A clustered index => determines the physical order of data in a table and sorts the data rows in the table based on the key values. \n",
    " Each table can have only one clustered index.\n",
    " \n",
    " A non-clustered index =>  creates a separate structure from the table, with pointers to the actual data rows in the table. \n",
    " You can have multiple non-clustered indexes on a table.\n",
    "\n",
    "'''\n",
    "\n",
    "\n",
    "# Q2: How would you optimize a query that takes a long time to execute?\n",
    "# Answer\n",
    "'''\n",
    "    1. Analyze the execution plan to identify bottlenecks.\n",
    "    2. Ensure proper indexing (clustered/non-clustered).\n",
    "    3. Avoid SELECT*; use specific columns.\n",
    "    4. Simplify complex joins and subqueries.\n",
    "    5. Use query hints when appropriate.\n",
    "    6. Partition large tables or use denormalization.\n",
    "    7. Ensure proper statistics and consider rebuilding indexes.\n",
    "    8. Eliminate unused tables and joins.\n",
    "'''\n",
    "\n",
    "#2. Performance Tuning\n",
    "#Q3: What is the difference between SQL Server’s WITH (NOLOCK) and normal query locking mechanisms?\n",
    "#Answer:\n",
    "\n",
    "'''\n",
    "WITH (NOLOCK) allows reading data without acquiring locks, which can result in dirty reads. It improves performance but sacrifices data \n",
    "consistency.\n",
    "Normal locking ensures data consistency by locking the table or rows during read/write operations but can cause blocking.\n",
    "'''\n",
    "\n",
    "# Q4: Explain partitioning in databases and its benefits.\n",
    "# Answer:\n",
    "'''\n",
    "Partitioning divides a large table into smaller, manageable pieces (partitions) based on a column (e.g., date, range, hash).\n",
    "\n",
    "Benefits:\n",
    "    * Improves query performance by scanning only relevant partitions.\n",
    "    * Enables better manageability of large datasets.\n",
    "    * Allows operations like data archival or deletion on a specific partition without affecting others.\n",
    "\n",
    "\n",
    "'''\n"
   ]
  },
  {
   "cell_type": "code",
   "execution_count": null,
   "metadata": {},
   "outputs": [],
   "source": [
    "#3. Query Writing\n",
    "#Q5: Write a SQL query to find the second-highest salary from an employees table.\n",
    "\n",
    "'''\n",
    "    SELECT MAX(salary)\n",
    "    FROM employees\n",
    "    WHERE salary < (SELECT MAX(salary) FROM employees);\n",
    "'''"
   ]
  },
  {
   "cell_type": "code",
   "execution_count": null,
   "metadata": {},
   "outputs": [],
   "source": [
    "# Q6: Write a SQL query to find duplicate records in a table with multiple columns.\n",
    "\n",
    "'''\n",
    "SELECT \n",
    "    column1, column2, COUNT(*)\n",
    "FROM table_name\n",
    "GROUP BY column1, column2\n",
    "HAVING COUNT(*) > 1;\n",
    "\n",
    "'''"
   ]
  },
  {
   "cell_type": "code",
   "execution_count": null,
   "metadata": {},
   "outputs": [],
   "source": [
    "#4. Advanced Scenarios\n",
    "# Q7: What are Common Table Expressions (CTEs), and when would you use them?\n",
    "\n",
    "'''\n",
    "CTEs are temporary result sets defined within a query using the WITH clause.\n",
    "Use cases:\n",
    "    Simplifying complex queries.\n",
    "    Improving readability for recursive queries.\n",
    "    Avoiding repeated subquery calculations.\n",
    "'''\n",
    "\n",
    "'''\n",
    "    WITH SalesCTE AS (\n",
    "        SELECT \n",
    "            salesperson_id, SUM(sales) AS TotalSales\n",
    "        FROM sales\n",
    "        GROUP BY salesperson_id\n",
    "    )\n",
    "    SELECT * FROM SalesCTE WHERE TotalSales > 100000;\n",
    "'''\n"
   ]
  },
  {
   "cell_type": "code",
   "execution_count": null,
   "metadata": {},
   "outputs": [],
   "source": [
    "#Q8: How would you handle incremental data loading in SQL?\n",
    "\n",
    "#Answer:\n",
    "#Use a column like last_update or modified_date to identify new or updated records.\n",
    "\n",
    "'''\n",
    "    SELECT * \n",
    "    FROM source_table\n",
    "    WHERE last_update > (SELECT MAX(last_update) FROM target_table);\n",
    "'''"
   ]
  },
  {
   "cell_type": "code",
   "execution_count": null,
   "metadata": {},
   "outputs": [],
   "source": [
    "# Learn all SQL Queries and Data , the notebook & code written in VOC Project"
   ]
  }
 ],
 "metadata": {
  "kernelspec": {
   "display_name": "upgrad_env",
   "language": "python",
   "name": "python3"
  },
  "language_info": {
   "name": "python",
   "version": "3.9.6"
  }
 },
 "nbformat": 4,
 "nbformat_minor": 2
}
