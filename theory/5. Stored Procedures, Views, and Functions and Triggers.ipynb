{
 "cells": [
  {
   "cell_type": "markdown",
   "metadata": {},
   "source": [
    "### **Stored Procedures, Views, and Functions and Triggers**"
   ]
  },
  {
   "cell_type": "code",
   "execution_count": null,
   "metadata": {
    "vscode": {
     "languageId": "plaintext"
    }
   },
   "outputs": [],
   "source": [
    "'''\n",
    "Q) What is the difference between a view and a materialized view? When would you use one over the other?\n",
    "\n",
    "Q) Explain the differences between stored procedures and user-defined functions (UDFs). When would you use each?\n",
    "\n",
    "Q) How would you manage and deploy changes to stored procedures in a production environment to minimize downtime?\n",
    "\n",
    "Q) What are the potential performance implications of using triggers in a database? When would you recommend using them?\n",
    "\n",
    "Q) What are stored procedures in SQL, and how are they different from functions?\n",
    "\n",
    "Q) What are triggers in SQL? Can you provide an example of a use case where a trigger is useful?\n",
    "\n",
    "Q) What are the performance implications of using triggers and stored procedures?\n",
    "'''"
   ]
  }
 ],
 "metadata": {
  "language_info": {
   "name": "python"
  }
 },
 "nbformat": 4,
 "nbformat_minor": 2
}
