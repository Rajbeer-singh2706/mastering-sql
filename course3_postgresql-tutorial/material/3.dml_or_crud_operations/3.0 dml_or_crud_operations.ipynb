{
 "cells": [
  {
   "cell_type": "markdown",
   "metadata": {},
   "source": [
    "# DML or CRUD Operations\n",
    "\n",
    "Let us understand how to perform CRUD operations using Postgresql.\n",
    "\n",
    "* Normalization Principles\n",
    "* Tables as Relations\n",
    "* Database Operations - Overview\n",
    "* CRUD Operations\n",
    "* Creating Table\n",
    "* Inserting Data\n",
    "* Updating Data\n",
    "* Deleting Data\n",
    "* Overview of Transactions\n",
    "* Exercise - Database Operations\n",
    "\n",
    "Here are the key objectives of this section.\n",
    "* What are the different types of Database Operations?\n",
    "* How DML is related to CRUD Operations?\n",
    "* How to insert new records into table?\n",
    "* How to update existing data in a table?\n",
    "* How the data is typically deleted from a table?\n",
    "* You will also get a brief overview about Database Operations?\n",
    "* Self evaluate whether you gain enough skills related to performing CRUD or DML operations or not using exercieses"
   ]
  },
  {
   "cell_type": "code",
   "execution_count": null,
   "metadata": {},
   "outputs": [],
   "source": [
    "# Lets us get an overview of Database Operations\n",
    "'''\n",
    " * DDL -Data Definition Language\n",
    "    * CREATE/ALTER/DROP Tables\n",
    "    * CREATE/ALTER/DROP Indexes\n",
    "    * Add Constraints to tables\n",
    "    * CREATE/ALTER/DROP Views\n",
    "    * CREATE/ALTER/DROP Sequences\n",
    "\n",
    " * DML - Data Manipulation Language\n",
    "    * Inserting new data into the table\n",
    "    * Updating Existing data from the table\n",
    "    * Deleting existing data from the table\n",
    "\n",
    " * DQL - Data Query Language \n",
    "   * Read the data from table\n",
    "\n",
    " * On top of these we also use TCL(Transaction Control Language) which include COMMIT and ROLLBACK\n",
    "'''"
   ]
  }
 ],
 "metadata": {
  "kernelspec": {
   "display_name": "Python 3",
   "language": "python",
   "name": "python3"
  },
  "language_info": {
   "codemirror_mode": {
    "name": "ipython",
    "version": 3
   },
   "file_extension": ".py",
   "mimetype": "text/x-python",
   "name": "python",
   "nbconvert_exporter": "python",
   "pygments_lexer": "ipython3",
   "version": "3.6.12"
  }
 },
 "nbformat": 4,
 "nbformat_minor": 4
}
