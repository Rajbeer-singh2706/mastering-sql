{
 "cells": [
  {
   "cell_type": "markdown",
   "metadata": {},
   "source": [
    "## Setup Postgres using Docker\n",
    "\n",
    "In some cases you might want to have postgres setup on your machine. Let us understand how we can setup Postgres using Docker."
   ]
  },
  {
   "cell_type": "markdown",
   "metadata": {},
   "source": [
    "* If you are using Windows or Mac, ensure that you have installed Docker Desktop.\n",
    "* If you are using Ubuntu based desktop, make sure to setup Docker.\n",
    "* Here are the steps that can be used to setup Postgres database using Docker.\n",
    "  * Pull the postgres image using `docker pull`\n",
    "  * Create the container using `docker create`.\n",
    "  * Start the container using `docker start`.\n",
    "  * Alternatively we can use `docker run` which will pull, create and start the container.\n",
    "  * Use `docker logs` or `docker logs -f` to review the logs to ensure Postgres Server is up and running.\n",
    "\n",
    "```shell\n",
    "docker pull postgres\n",
    "\n",
    "docker container create \\\n",
    "    --name postgres_container \\\n",
    "    -p 5433:5432 \\\n",
    "    -h postgres_host \\\n",
    "    -e POSTGRES_PASSWORD=admin1234 \\\n",
    "    postgres\n",
    "\n",
    "docker ps \n",
    "docker start postgres_container\n",
    "docker rm postgres_container\n",
    "docker logs postgres_container\n",
    "docker logs postgres_container -f \n",
    "docker exec -it postgres_container bash\n",
    "root@postgres_host:/# \n",
    "# psql -U postgres\n",
    "#\\q\n",
    "$ exit\n",
    "docker exec -it postgres_container psql -U postgres\n",
    "#\\l\n",
    "#\\q\n",
    "#\\d \n",
    "\n",
    "```\n",
    "* You can connect to Postgres Database setup using Docker with `docker exec`.\n",
    "\n",
    "```shell\n",
    "docker exec \\\n",
    "    -it postgres_container \\\n",
    "    psql -U postgres\n",
    "```\n",
    "\n",
    "* You can also connecto to Postgres directly with out using `docker exec`.\n",
    "\n",
    "```shell\n",
    "psql -h localhost \\\n",
    "    -p 5433 \\\n",
    "    -d postgres \\\n",
    "    -U postgres \\\n",
    "    -W\n",
    "```"
   ]
  },
  {
   "cell_type": "code",
   "execution_count": 1,
   "metadata": {},
   "outputs": [
    {
     "name": "stdout",
     "output_type": "stream",
     "text": [
      "zsh:1: command not found: psql\n"
     ]
    }
   ],
   "source": [
    "!psql"
   ]
  },
  {
   "cell_type": "code",
   "execution_count": null,
   "metadata": {},
   "outputs": [],
   "source": [
    "Uing pgAmdin\n",
    "Register New Server \n",
    "Name: docker_server \n",
    "Connections:\n",
    " - host: 0.0.0.0\n",
    "-  port:5433\n",
    "- Maintainence database: postgres \n",
    "- Username: postgres \n",
    "- Password: admin1234\n"
   ]
  },
  {
   "cell_type": "markdown",
   "metadata": {},
   "source": []
  }
 ],
 "metadata": {
  "kernelspec": {
   "display_name": "Python 3",
   "language": "python",
   "name": "python3"
  },
  "language_info": {
   "codemirror_mode": {
    "name": "ipython",
    "version": 3
   },
   "file_extension": ".py",
   "mimetype": "text/x-python",
   "name": "python",
   "nbconvert_exporter": "python",
   "pygments_lexer": "ipython3",
   "version": "3.7.3"
  }
 },
 "nbformat": 4,
 "nbformat_minor": 4
}
