{
 "cells": [
  {
   "cell_type": "markdown",
   "metadata": {},
   "source": [
    "### **9. Big Data & Distributed Systems**"
   ]
  },
  {
   "cell_type": "code",
   "execution_count": null,
   "metadata": {
    "vscode": {
     "languageId": "plaintext"
    }
   },
   "outputs": [],
   "source": [
    "'''\n",
    "Q) What are the challenges of using traditional relational databases in a big data environment? How would you architect a solution \n",
    "    using a distributed SQL engine like Amazon Redshift or Google BigQuery?\n",
    "\n",
    "Q) Explain how partitioning works in a distributed database, and how would you design partition keys to optimize performance?\n",
    "\n",
    "Q) What is sharding, and how does it differ from partitioning?\n",
    "\n",
    "Q) How would you handle data skew in a distributed system like Amazon Redshift or Hive?\n",
    "\n",
    "Q) What is a distributed database? How does it differ from a single-node database?\n",
    "\n",
    "Q) How do distributed databases ensure consistency, availability, and partition tolerance (CAP theorem)?\n",
    "\n",
    "Q) How would you handle data replication and failover in a distributed SQL database?\n",
    "'''"
   ]
  }
 ],
 "metadata": {
  "language_info": {
   "name": "python"
  }
 },
 "nbformat": 4,
 "nbformat_minor": 2
}
