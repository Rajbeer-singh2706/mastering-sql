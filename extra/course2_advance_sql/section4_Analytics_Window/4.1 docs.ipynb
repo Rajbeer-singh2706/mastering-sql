{
 "cells": [
  {
   "cell_type": "code",
   "execution_count": 1,
   "metadata": {},
   "outputs": [
    {
     "data": {
      "text/plain": [
       "'\\nThis is one of the most important sections of the course.\\nAnalytic Functions calculate an aggregate value based on a group of rows.\\nUnlike aggregate functions, however, Analytic Functions can return multiple rows for each group. \\n\\nWe can use Analytic Functions to compute \\n  - aggregated values\\n  - moving averages\\n  - running totals\\n  - percentages or top-N results within a group \\n  and much, much more as you will see in this section.\\n\\nWe will cover in detail the syntax for Analytical Functions and have a series of code alongs, practice scenarios and assignment questions.\\nBy the end of this section you will have a solid understanding of Analytical Functions.\\n'"
      ]
     },
     "execution_count": 1,
     "metadata": {},
     "output_type": "execute_result"
    }
   ],
   "source": [
    "# 4.1 Section Overview \n",
    "'''\n",
    "This is one of the most important sections of the course.\n",
    "Analytic Functions calculate an aggregate value based on a group of rows.\n",
    "Unlike aggregate functions, however, Analytic Functions can return multiple rows for each group. \n",
    "\n",
    "We can use Analytic Functions to compute \n",
    "  - aggregated values\n",
    "  - moving averages\n",
    "  - running totals\n",
    "  - percentages or top-N results within a group \n",
    "  and much, much more as you will see in this section.\n",
    "\n",
    "We will cover in detail the syntax for Analytical Functions and have a series of code alongs, practice scenarios \n",
    "and assignment questions.By the end of this section you will have a solid understanding of Analytical Functions.\n",
    "'''"
   ]
  },
  {
   "cell_type": "code",
   "execution_count": 4,
   "metadata": {},
   "outputs": [
    {
     "data": {
      "text/plain": [
       "'\\nselect \\n name,\\n region_id,\\n population,\\n sum(population) over(partition by region_id)\\n\\nFROM eba_countries;\\n\\nselect \\n name,\\n region_id,\\n population,\\n round(population / sum(population) over(partition by region_id)* 100 , 2) as pct_of_region_app\\n\\nFROM eba_countries;\\n\\n# explain : cost is 4 \\n'"
      ]
     },
     "execution_count": 4,
     "metadata": {},
     "output_type": "execute_result"
    }
   ],
   "source": [
    "# Introduction to Analytical Functions \n",
    "'''\n",
    " * Analytical Functions use the OVER() clause and are quite different to standard SQL.\n",
    " * Analytics Functions are also know as Window Functions \n",
    " * Analyics Functions compute their result based on window of one or more rows.\n",
    " * Unlike aggregation operation such as Group by , they do not collapse rows.\n",
    "'''\n",
    "# Solution 1: explain \n",
    "'''\n",
    "# Population Percent for each region , without using analytical functions\n",
    "select * from eba_countries;\n",
    "\n",
    "SELECT \n",
    "  a.name,\n",
    "  a.region_id,\n",
    "  a.population\n",
    "\n",
    "FROM eba_countries a;\n",
    "\n",
    "SELECT \n",
    "  a.name,\n",
    "  a.region_id,\n",
    "  a.population,\n",
    "  b.region_pop,\n",
    "  round(a.population / b.region_pop * 100, 2) as pct_of_region_total\n",
    "FROM eba_countries a\n",
    "LEFT JOIN\n",
    "(select \n",
    "    region_id, sum(population) as region_pop\n",
    "    FROM eba_countries\n",
    "    GROUP by region_id) b\n",
    "on a.region_id = b.region_id;\n",
    "\n",
    "# Check explain for cost : 7 Here , and lot of steps \n",
    "'''\n",
    "\n",
    "# Solution 2 with analytical functions\n",
    "'''\n",
    "select \n",
    " name,\n",
    " region_id,\n",
    " population,\n",
    " sum(population) over(partition by region_id) -- it gives total population of region_id\n",
    "FROM eba_countries;\n",
    "\n",
    "select \n",
    " name,\n",
    " region_id,\n",
    " population,\n",
    " round(population / sum(population) over(partition by region_id)* 100 , 2) as pct_of_region_app\n",
    "\n",
    "FROM eba_countries;\n",
    "\n",
    "# explain : cost is 4 \n",
    "'''\n",
    "\n",
    "# Partition BY mutlab , partition kar do , as we learn in spark like folder wise then distribute the data\n",
    "####### SYNTAX ########## \n",
    "'''\n",
    " WINDOW FUNCTION ----------> SUM(Population)\n",
    " OVER(\n",
    "    PARTITION BY -----> PARTIITION BY REGION_ID\n",
    "    ORDER BY     -----> ORDER BY REGION_ID\n",
    "    WINDOW_FRAME ------> ROWS UNBOUNDED PRECEDING AND UNBOUNDED FOLLOWING\n",
    " )\n",
    "'''"
   ]
  },
  {
   "cell_type": "code",
   "execution_count": 2,
   "metadata": {},
   "outputs": [],
   "source": [
    "# Introduction to the Over Clause\n",
    "'''\n",
    " WINDOW FUNCTION ----------> SUM(Population)\n",
    " OVER(\n",
    "    PARTITION BY -----> PARTIITION BY REGION_ID\n",
    "    ORDER BY     -----> ORDER BY REGION_ID\n",
    "    WINDOW_FRAME ------> ROWS UNBOUNDED PRECEDING AND UNBOUNDED FOLLOWING\n",
    " )\n",
    "'''\n",
    "# Example \n",
    "'''\n",
    "-- if we dont specify the partition ,over will take in all the table\n",
    "select  sum(population) from eba_countries; --7713500418\n",
    "\n",
    "select name, sum(population) from eba_countries; --invalid as group by is required\n",
    "\n",
    "select name, sum(population) over() from eba_countries; -- apply a window functions to every row in table\n",
    "\n",
    "'''"
   ]
  },
  {
   "cell_type": "code",
   "execution_count": 1,
   "metadata": {},
   "outputs": [
    {
     "data": {
      "text/plain": [
       "'\\n-- caclualate the sum of population using region_id\\nSELECT \\n population,\\n region_id,\\n sub_region_id,\\n sum(population) over(partition by region_id)\\nFROM eba_countries;\\n\\n-- caclualate the sum of population using region_id, sub_region_id\\nSELECT \\n population,\\n region_id,\\n sub_region_id,\\n sum(population) over(partition by region_id, sub_region_id)\\n\\nFROM eba_countries;\\n'"
      ]
     },
     "execution_count": 1,
     "metadata": {},
     "output_type": "execute_result"
    }
   ],
   "source": [
    "# The Over Clause - Partition By\n",
    "'''\n",
    " WINDOW FUNCTION ----------> SUM(Population)\n",
    " OVER(\n",
    "    PARTITION BY -----> PARTIITION BY REGION_ID\n",
    "                 -----> PARTIITION BY REGION_ID, SUB_REGION_ID\n",
    "\n",
    "    ORDER BY     -----> ORDER BY REGION_ID\n",
    "    WINDOW_FRAME ------> ROWS UNBOUNDED PRECEDING AND UNBOUNDED FOLLOWING\n",
    " )\n",
    "'''\n",
    "# Example \n",
    "'''\n",
    "-- caclualate the sum of population using region_id\n",
    "SELECT \n",
    " population,\n",
    " region_id,\n",
    " sub_region_id,\n",
    " sum(population) over(partition by region_id)\n",
    "FROM eba_countries;\n",
    "\n",
    "-- caclualate the sum of population using region_id, sub_region_id\n",
    "SELECT \n",
    " population,\n",
    " region_id,\n",
    " sub_region_id,\n",
    " sum(population) over(partition by region_id, sub_region_id)\n",
    "\n",
    "FROM eba_countries;\n",
    "'''"
   ]
  },
  {
   "cell_type": "code",
   "execution_count": 3,
   "metadata": {},
   "outputs": [
    {
     "data": {
      "text/plain": [
       "'\\nSELECT \\n name,\\n population,\\n region_id,\\n sub_region_id,\\n sum(population) over(partition by region_id order by sub_region_id desc)\\nFROM eba_countries;\\n'"
      ]
     },
     "execution_count": 3,
     "metadata": {},
     "output_type": "execute_result"
    }
   ],
   "source": [
    "# The Over Clause - Order By\n",
    "'''\n",
    " WINDOW FUNCTION\n",
    " OVER(\n",
    "    PARTITION BY ...\n",
    "    ORDER BY     -----> ORDER BY POPULATION\n",
    "                 ------> ORDER BY POPULATION, REGION_ID\n",
    "    WINDOW_FRAME ..\n",
    " )\n",
    "'''\n",
    "# Example1\n",
    "'''\n",
    "SELECT \n",
    " name,\n",
    " population,\n",
    " region_id,\n",
    " sum(population) over(order by region_id asc) -- over() clause ran on entrie table \n",
    "\n",
    "FROM eba_countries;\n",
    "'''\n",
    "# Example 2 \n",
    "'''\n",
    "SELECT \n",
    " name,\n",
    " population,\n",
    " region_id,\n",
    " sub_region_id,\n",
    " sum(population) over(order by region_id, sub_region_id desc) -- entrie table \n",
    " -- sum(population) over(order by region_id,sub_region_id asc) -- entrie table \n",
    "\n",
    "FROM eba_countries;\n",
    "'''\n",
    "\n",
    "# Example 3\n",
    "'''\n",
    "SELECT \n",
    " name,\n",
    " population,\n",
    " region_id,\n",
    " sub_region_id,\n",
    " sum(population) over(partition by region_id order by sub_region_id desc)\n",
    "FROM eba_countries;\n",
    "'''"
   ]
  },
  {
   "cell_type": "code",
   "execution_count": 4,
   "metadata": {},
   "outputs": [
    {
     "data": {
      "text/plain": [
       "'\\n 1. 1. preceding means in rows means last row \\n 2. 1. preceding means in range means one unit \\n'"
      ]
     },
     "execution_count": 4,
     "metadata": {},
     "output_type": "execute_result"
    }
   ],
   "source": [
    "# An Introduction To Windows Frames\n",
    "# SYNTAX\n",
    "'''\n",
    " WINDOW FUNCTION\n",
    " OVER(\n",
    "    PARTITION BY ...\n",
    "    ORDER BY     ...\n",
    "    WINDOW_FRAME ----------> ROWS|RANGE bound\n",
    "                 ----------> ROWS|RANGE BETWEEN lower_bound AND upper_bound\n",
    " )\n",
    "'''\n",
    "\n",
    "# \n",
    "'''\n",
    " 1. 1. preceding means in rows means last row \n",
    " 2. 1. preceding means in range means one unit \n",
    "'''"
   ]
  },
  {
   "cell_type": "code",
   "execution_count": 7,
   "metadata": {},
   "outputs": [
    {
     "data": {
      "text/plain": [
       "'\\nselect\\n  name, \\n  region_id,\\n  sub_region_id,\\n  population,\\n  sum(population) over(partition by region_id, sub_region_id order by sub_region_id) as defaul,\\n  sum(population) over(partition by region_id, sub_region_id order by sub_region_id rows between unbounded preceding and unbounded following) as a ,\\n  sum(population) over(partition by region_id, sub_region_id order by sub_region_id rows between 1 preceding and 1 following) as b ,\\n  sum(population) over(partition by region_id, sub_region_id order by sub_region_id rows between current row and 2 following) as c\\n\\nfrom eba_countries;\\n\\n'"
      ]
     },
     "execution_count": 7,
     "metadata": {},
     "output_type": "execute_result"
    }
   ],
   "source": [
    "# Window Frame - Rows -> rows will check the preceding rows and following rows ..\n",
    "'''\n",
    "select\n",
    "  name, \n",
    "  region_id,\n",
    "  sub_region_id,\n",
    "  population,\n",
    "  sum(population) over(partition by region_id, sub_region_id order by sub_region_id) as defaul,\n",
    "  sum(population) over(partition by region_id, sub_region_id order by sub_region_id rows between unbounded preceding and unbounded following) as a ,\n",
    "  sum(population) over(partition by region_id, sub_region_id order by sub_region_id rows between 1 preceding and 1 following) as b ,\n",
    "  sum(population) over(partition by region_id, sub_region_id order by sub_region_id rows between current row and 2 following) as c\n",
    "\n",
    "from eba_countries;\n",
    "\n",
    "'''"
   ]
  },
  {
   "cell_type": "code",
   "execution_count": 6,
   "metadata": {},
   "outputs": [
    {
     "data": {
      "text/plain": [
       "'\\n we have region_id [ 10,20,30,40,50 ]\\n so we can define the range in difference of 10.\\n'"
      ]
     },
     "execution_count": 6,
     "metadata": {},
     "output_type": "execute_result"
    }
   ],
   "source": [
    "# Window Frame - Range [ range will check the range from preceding and following ]\n",
    "\n",
    "'''\n",
    "select\n",
    "  name, \n",
    "  region_id,\n",
    "  sub_region_id,\n",
    "  population,\n",
    "  sum(population) over(partition by region_id order by sub_region_id range between 1 preceding and 1 following) as a,\n",
    "  sum(population) over(partition by region_id order by sub_region_id range between 0 preceding and 70 following) as b\n",
    "\n",
    "from eba_countries;\n",
    "'''\n",
    "\n",
    "# For Example \n",
    "'''\n",
    " we have region_id [ 10,20,30,40,50 ]\n",
    " so we can define the range in difference of 10.\n",
    "'''\n",
    "\n",
    "# This is because we have defined sub_region_id in the Order By clause - so the values for this \n",
    "# field will be used as the range."
   ]
  },
  {
   "cell_type": "code",
   "execution_count": 6,
   "metadata": {},
   "outputs": [
    {
     "data": {
      "text/plain": [
       "'\\nSELECT\\n  name, \\n  region_id, \\n  sub_region_id,\\n  population,\\n  sum(population) over(partition by region_id order by sub_region_id) as a,\\n  sum(population) over(partition by region_id) as b\\n\\nFROM eba_countries;\\n\\n - IF ORDER BY is specified, then the frame is RANGE BETWEEN UNBOUNDED PRECEDING AND CURRENT ROW \\n - IF ORDER BY is NOT  specified, then the frame is ROWS BETWEEN UNBOUNDED PRECEDING AND UNBOUNDED FOLLOWING \\n'"
      ]
     },
     "execution_count": 6,
     "metadata": {},
     "output_type": "execute_result"
    }
   ],
   "source": [
    "# Window Frame - Default Behaviour\n",
    "'''\n",
    "SELECT\n",
    "  name, \n",
    "  region_id, \n",
    "  sub_region_id,\n",
    "  population,\n",
    "  sum(population) over(partition by region_id order by sub_region_id) as a,\n",
    "  sum(population) over(partition by region_id) as b\n",
    "\n",
    "FROM eba_countries;\n",
    "\n",
    " - IF ORDER BY is specified, then the frame is RANGE BETWEEN UNBOUNDED PRECEDING AND CURRENT ROW \n",
    " - IF ORDER BY is NOT  specified, then the frame is ROWS BETWEEN UNBOUNDED PRECEDING AND UNBOUNDED FOLLOWING \n",
    "'''"
   ]
  },
  {
   "cell_type": "code",
   "execution_count": 9,
   "metadata": {},
   "outputs": [
    {
     "data": {
      "text/plain": [
       "'\\n 1. AGGREGATE\\n   - SUM()\\n   - AVG()\\n   - MAX()\\n   - MIN()\\n   - COUNT()\\n\\n 2. RANKING\\n    - ROW_NUMBER()\\n    - RANK()\\n    - DENSE_RANK()\\n\\n 3. DISTRIBUTION\\n   - PERCENT_RANK()\\n   - CUME_DIST()\\n\\n 4. ANALYTICAL\\n    - LEAD()\\n    - LAG()\\n    - NTILE()\\n    - NTH_VALUE()\\n'"
      ]
     },
     "execution_count": 9,
     "metadata": {},
     "output_type": "execute_result"
    }
   ],
   "source": [
    "# Quick Note on Window Frames\n",
    "'''\n",
    "SELECT\n",
    "  name, \n",
    "  region_id, \n",
    "  sub_region_id,\n",
    "  population,\n",
    "  sum(population) over(partition by region_id, sub_region_id order by sub_region_id rows 2 preceding) as a,\n",
    "  sum(population) over(partition by region_id, sub_region_id order by sub_region_id rows between 2 preceding and current row) as b,\n",
    "  -- sum(population) over(partition by region_id, sub_region_id order by sub_region_id rows 2 following) as a,\n",
    "  sum(population) over(partition by region_id, sub_region_id order by sub_region_id rows between current row and 2 following) as c\n",
    "\n",
    "FROM eba_countries;\n",
    "'''\n",
    "# Types of Window Functions\n",
    "'''\n",
    " 1. AGGREGATE\n",
    "   - SUM()\n",
    "   - AVG()\n",
    "   - MAX()\n",
    "   - MIN()\n",
    "   - COUNT()\n",
    "\n",
    " 2. RANKING\n",
    "    - ROW_NUMBER()\n",
    "    - RANK()\n",
    "    - DENSE_RANK()\n",
    "       * example top 10 , top 5 like that \n",
    "\n",
    " 3. DISTRIBUTION\n",
    "   - PERCENT_RANK()\n",
    "   - CUME_DIST()\n",
    "\n",
    " 4. ANALYTICAL\n",
    "    - LEAD()\n",
    "    - LAG()\n",
    "    - NTILE()\n",
    "    - NTH_VALUE()\n",
    "'''"
   ]
  },
  {
   "cell_type": "code",
   "execution_count": 10,
   "metadata": {},
   "outputs": [
    {
     "data": {
      "text/plain": [
       "'\\nSELECT\\n  name, \\n  region_id, \\n  sum(population) over(),\\n  max(population) over(),\\n  min(population) over(),\\n  count(population) over(),\\n  avg(population) over()\\n\\nFROM eba_countries;\\n\\n\\nSELECT\\n  name, \\n  region_id, \\n  sum(population) over(partition by region_id),\\n  max(population) over(partition by region_id),\\n  min(population) over(partition by region_id),\\n  count(population) over(partition by region_id),\\n  avg(population) over(partition by region_id)\\n\\nFROM eba_countries;\\n'"
      ]
     },
     "execution_count": 10,
     "metadata": {},
     "output_type": "execute_result"
    }
   ],
   "source": [
    "# Aggregate Functions: SUM , AVG, MAX, MIN , COUNT\n",
    "'''\n",
    "SELECT\n",
    "  name, \n",
    "  region_id, \n",
    "  sum(population) over(),\n",
    "  max(population) over(),\n",
    "  min(population) over(),\n",
    "  count(population) over(),\n",
    "  avg(population) over()\n",
    "\n",
    "FROM eba_countries;\n",
    "\n",
    "\n",
    "SELECT\n",
    "  name, \n",
    "  region_id, \n",
    "  sum(population) over(partition by region_id),\n",
    "  max(population) over(partition by region_id),\n",
    "  min(population) over(partition by region_id),\n",
    "  count(population) over(partition by region_id),\n",
    "  avg(population) over(partition by region_id)\n",
    "\n",
    "FROM eba_countries;\n",
    "'''"
   ]
  },
  {
   "cell_type": "code",
   "execution_count": 11,
   "metadata": {},
   "outputs": [
    {
     "data": {
      "text/plain": [
       "\"\\n-- LAG\\nSELECT\\n  name, \\n  population, \\n  lag(name) over(order by name) as a ,\\n  lag(name, 2) over(order by name) as b,\\n  lag(name, 2, 'blank') over(order by name) as c\\n\\nFROM eba_countries;\\n\\n-- LEAD\\nSELECT\\n  name, \\n  population, \\n  lead(name) over(order by name) as a ,\\n  lead(name, 2) over(order by name) as b,\\n  lead(name, 2, 'blank') over(order by name) as c\\n\\nFROM eba_countries;\\n\\n-- NTILE\\nSELECT\\n  name, \\n  region_id,\\n  population, \\n  ntile(3) over(order by population) as a,\\n  ntile(3) over(partition by region_id  order by population) as b\\n\\nFROM eba_countries;\\n\\n-- NTH_VALUE()\\nSELECT\\n  name, \\n  region_id,\\n  population, \\n  nth_value(name, 2) over() as a ,\\n  nth_value(name, 2) over(partition by region_id)\\n\\nFROM eba_countries;\\n\\n\""
      ]
     },
     "execution_count": 11,
     "metadata": {},
     "output_type": "execute_result"
    }
   ],
   "source": [
    "# Analytical Functions: LAG, LEAD, NTILE, and NTH_VALUE\n",
    "'''\n",
    "-- LAG\n",
    "SELECT\n",
    "  name, \n",
    "  population, \n",
    "  lag(name) over(order by name) as a ,\n",
    "  lag(name, 2) over(order by name) as b,\n",
    "  lag(name, 2, 'blank') over(order by name) as c\n",
    "\n",
    "FROM eba_countries;\n",
    "\n",
    "-- LEAD\n",
    "SELECT\n",
    "  name, \n",
    "  population, \n",
    "  lead(name) over(order by name) as a ,\n",
    "  lead(name, 2) over(order by name) as b,\n",
    "  lead(name, 2, 'blank') over(order by name) as c\n",
    "\n",
    "FROM eba_countries;\n",
    "\n",
    "-- NTILE\n",
    "SELECT\n",
    "  name, \n",
    "  region_id,\n",
    "  population, \n",
    "  ntile(3) over(order by population) as a,\n",
    "  ntile(3) over(partition by region_id  order by population) as b\n",
    "\n",
    "FROM eba_countries;\n",
    "\n",
    "-- NTH_VALUE()\n",
    "SELECT\n",
    "  name, \n",
    "  region_id,\n",
    "  population, \n",
    "  nth_value(name, 2) over() as a ,\n",
    "  nth_value(name, 2) over(partition by region_id)\n",
    "\n",
    "FROM eba_countries;\n",
    "\n",
    "'''"
   ]
  },
  {
   "cell_type": "code",
   "execution_count": 12,
   "metadata": {},
   "outputs": [],
   "source": [
    "# Ranking Functions: ROW_NUMBER, RANK, DENSE_RANK\n",
    "'''\n",
    "SELECT\n",
    "  name, \n",
    "  population,\n",
    "  row_number() over(order by population),\n",
    "  rank() over(order by population),\n",
    "  dense_rank() over(order by population)\n",
    "\n",
    "FROM eba_countries;\n",
    "\n",
    "-- For Tie RANK & dense_rank gives same number \n",
    "-- But for next row ,rank() skip the number and gives next but  dense_rank() doesnot skips gives next subsequent number \n",
    "\n",
    "SELECT\n",
    "  name, \n",
    "  region_id,\n",
    "  population,\n",
    "  -- row_number() over(partition by region_id), --- error in oracle\n",
    "  row_number() over(partition by region_id order by population),\n",
    "  rank() over(partition by region_id order by population),\n",
    "  dense_rank() over( partition by region_id order by population)\n",
    "\n",
    "FROM eba_countries;\n",
    "'''"
   ]
  },
  {
   "cell_type": "code",
   "execution_count": 13,
   "metadata": {},
   "outputs": [],
   "source": [
    "# DISTRIBUTION Functions: PRECENT_RANK and CUME_DIST(Cumulative Distribution)\n",
    "'''\n",
    "-- NTH_VALUE()\n",
    "SELECT\n",
    "  name, \n",
    "  population,\n",
    "  percent_rank() over(order by population), \n",
    "  cume_dist() over(order by population)\n",
    "\n",
    "FROM eba_countries;\n",
    "\n",
    "\n",
    "SELECT\n",
    "  name, \n",
    "  region_id,\n",
    "  population,\n",
    "  percent_rank() over(partition by region_id order by population), \n",
    "  cume_dist() over(partition by region_id order by population)\n",
    "\n",
    "FROM eba_countries;\n",
    "\n",
    "\n",
    "'''"
   ]
  },
  {
   "cell_type": "code",
   "execution_count": 1,
   "metadata": {},
   "outputs": [
    {
     "data": {
      "text/plain": [
       "'\\n - FROM \\n - JOIN \\n - WHERE  => Row Level Filter\\n - GROUP BY \\n - HAVING \\n - WINDOW **\\n - SELECT\\n - ORDER BY \\n - LIMIT / FETCH / TOP\\n'"
      ]
     },
     "execution_count": 1,
     "metadata": {},
     "output_type": "execute_result"
    }
   ],
   "source": [
    "# Order Of Execution\n",
    "'''\n",
    " - FROM \n",
    " - JOIN \n",
    " - WHERE  => Row Level Filter\n",
    " - GROUP BY \n",
    " - HAVING \n",
    " - WINDOW **\n",
    " - SELECT\n",
    " - ORDER BY \n",
    " - LIMIT / FETCH / TOP\n",
    "'''"
   ]
  },
  {
   "cell_type": "code",
   "execution_count": 2,
   "metadata": {},
   "outputs": [
    {
     "data": {
      "text/plain": [
       "'\\n-- Find the population difference between the countries in the current row vs the country with the highest population\\n\\nselect \\n  name,\\n  population,\\n  max(population) over(),\\n  population - max(population) over() as diff_from_max_pop\\n\\nFROM eba_countries;\\n'"
      ]
     },
     "execution_count": 2,
     "metadata": {},
     "output_type": "execute_result"
    }
   ],
   "source": [
    "# Practise Scenario Walkthrough 1\n",
    "'''\n",
    "-- Find the population difference between the countries in the current row vs the country with the highest population\n",
    "\n",
    "select \n",
    "  name,\n",
    "  population,\n",
    "  max(population) over(),\n",
    "  population - max(population) over() as diff_from_max_pop\n",
    "\n",
    "FROM eba_countries;\n",
    "'''"
   ]
  },
  {
   "cell_type": "code",
   "execution_count": 3,
   "metadata": {},
   "outputs": [
    {
     "data": {
      "text/plain": [
       "'\\n-- Arrange the countries in order of population from largetst to smallest and find the difference between the population of the current rows country and country immediately following it \\n\\n\\nselect \\n  name,\\n  population,\\n  lead(population) over(order by population desc) as immediate_row,\\n  population - lead(population, 1) over(order by population desc) as variance\\n\\nFROM eba_countries\\n--order by population desc;\\n'"
      ]
     },
     "execution_count": 3,
     "metadata": {},
     "output_type": "execute_result"
    }
   ],
   "source": [
    "# Practise Scenario Walkthrough 2\n",
    "'''\n",
    "-- Arrange the countries in order of population from largetst to smallest and find the difference between the population of the \n",
    "-- current rows country and country immediately following it \n",
    "\n",
    "\n",
    "select \n",
    "  name,\n",
    "  population,\n",
    "  lead(population) over(order by population desc) as immediate_row,\n",
    "  population - lead(population, 1) over(order by population desc) as variance\n",
    "\n",
    "FROM eba_countries\n",
    "--order by population desc;\n",
    "'''"
   ]
  },
  {
   "cell_type": "code",
   "execution_count": 4,
   "metadata": {},
   "outputs": [
    {
     "data": {
      "text/plain": [
       "'\\n-- Flag all countries that are in the top 10 percentile for their region in terms of population [ Higesht to lowest]\\n \\nselect * from (\\n    select \\n    name,\\n    region_id,\\n    population,\\n    percent_rank() over(partition by region_id order by population) pop_percentile1,\\n    round(percent_rank() over(partition by region_id order by population) * 100, 2) as pop_percentile\\n\\n    FROM eba_countries\\n) where pop_percentile > 10;\\n\\n-- 10% means 0.1\\n    select \\n    name,\\n    region_id,\\n    population,\\n    percent_rank() over(partition by region_id order by population) pop_percentile1,\\n    case when \\n           percent_rank() over(partition by region_id order by population desc) <=0.1 then 1\\n         else 0 \\n    end as top10_perecentile\\n\\n    FROM eba_countries;\\n'"
      ]
     },
     "execution_count": 4,
     "metadata": {},
     "output_type": "execute_result"
    }
   ],
   "source": [
    "# Practise Scenario Walkthrough 3\n",
    "'''\n",
    "-- Flag all countries that are in the top 10 percentile for their region in terms of population [ Higesht to lowest]\n",
    " \n",
    "select * from (\n",
    "    select \n",
    "    name,\n",
    "    region_id,\n",
    "    population,\n",
    "    percent_rank() over(partition by region_id order by population) pop_percentile1,\n",
    "    round(percent_rank() over(partition by region_id order by population) * 100, 2) as pop_percentile\n",
    "\n",
    "    FROM eba_countries\n",
    ") where pop_percentile > 10;\n",
    "\n",
    "-- 10% means 0.1\n",
    "    select \n",
    "    name,\n",
    "    region_id,\n",
    "    population,\n",
    "    percent_rank() over(partition by region_id order by population) pop_percentile1,\n",
    "    case when \n",
    "           percent_rank() over(partition by region_id order by population desc) <=0.1 then 1\n",
    "         else 0 \n",
    "    end as top10_perecentile\n",
    "\n",
    "    FROM eba_countries;\n",
    "'''"
   ]
  },
  {
   "cell_type": "code",
   "execution_count": 6,
   "metadata": {},
   "outputs": [
    {
     "data": {
      "text/plain": [
       "'\\n-- Order the countries by population in ascending order and create a running total field for the population\\n \\n select \\n    name,\\n    population,\\n    sum(population) over(order by population asc rows between unbounded preceding and current row) as running_total_population,\\n    sum(population) over(order by population asc rows unbounded preceding) as running_total_population1\\n\\n FROM eba_countries\\n\\n\\n'"
      ]
     },
     "execution_count": 6,
     "metadata": {},
     "output_type": "execute_result"
    }
   ],
   "source": [
    "# Practise Scenario Walkthrough 4\n",
    "'''\n",
    "-- Order the countries by population in ascending order and create a running total field for the population\n",
    " \n",
    " select \n",
    "    name,\n",
    "    population,\n",
    "    sum(population) over(order by population asc rows between unbounded preceding and current row) as running_total_population,\n",
    "    sum(population) over(order by population asc rows unbounded preceding) as running_total_population1\n",
    "\n",
    " FROM eba_countries\n",
    "\n",
    "\n",
    "'''"
   ]
  },
  {
   "cell_type": "code",
   "execution_count": 7,
   "metadata": {},
   "outputs": [
    {
     "data": {
      "text/plain": [
       "\"\\n-- Customer & Order data models\\nselect * from orders;\\nselect * from order_items;\\n -- order_id, line_item_id, product_id, unit_price, quantity\\n\\nselect count(*) from order_items; --3914\\nselect count(distinct order_id) from order_items; --1950\\n\\n\\nCREATE VIEW V_ORDERS AS\\n\\n(SELECT A.*, B.ORDER_TOTAL\\n\\nFROM ORDERS A\\n\\nLEFT JOIN\\n\\n(SELECT ORDER_ID, SUM(UNIT_PRICE * QUANTITY) AS ORDER_TOTAL FROM ORDER_ITEMS GROUP BY ORDER_ID) B\\n\\nON A.ORDER_ID = B.ORDER_ID\\n\\nWHERE A.ORDER_STATUS = 'COMPLETE');\\n\\n\\n\""
      ]
     },
     "execution_count": 7,
     "metadata": {},
     "output_type": "execute_result"
    }
   ],
   "source": [
    "# Assigment Data Prepration\n",
    "'''\n",
    "-- Customer & Order data models\n",
    "select * from orders;\n",
    "select * from order_items;\n",
    " -- order_id, line_item_id, product_id, unit_price, quantity\n",
    "\n",
    "select count(*) from order_items; --3914\n",
    "select count(distinct order_id) from order_items; --1950\n",
    "\n",
    "\n",
    "CREATE VIEW V_ORDERS AS\n",
    "\n",
    "(SELECT A.*, B.ORDER_TOTAL\n",
    "\n",
    "FROM ORDERS A\n",
    "\n",
    "LEFT JOIN\n",
    "\n",
    "(SELECT ORDER_ID, SUM(UNIT_PRICE * QUANTITY) AS ORDER_TOTAL FROM ORDER_ITEMS GROUP BY ORDER_ID) B\n",
    "\n",
    "ON A.ORDER_ID = B.ORDER_ID\n",
    "\n",
    "WHERE A.ORDER_STATUS = 'COMPLETE');\n",
    "\n",
    "\n",
    "'''"
   ]
  },
  {
   "cell_type": "code",
   "execution_count": 8,
   "metadata": {},
   "outputs": [
    {
     "data": {
      "text/plain": [
       "'\\nFor each customer rank their orders from highest to lowest in terms of order total using Analytical Functions (use RANK())\\n(For the assignment questions we are using V_ORDERS created in the \"Assignment Data Preparation\" lecture)\\n\\n\\nselect * from v_orders;\\n\\nselect \\n  order_id,\\n  customer_id,\\n  order_total,\\n  RANK() OVER(partition by customer_id order by order_total desc) as order_total_rank  \\n\\nFROM v_orders\\n\\n'"
      ]
     },
     "execution_count": 8,
     "metadata": {},
     "output_type": "execute_result"
    }
   ],
   "source": [
    "#Assignment Question 1\n",
    "'''\n",
    "For each customer rank their orders from highest to lowest in terms of order total using Analytical Functions (use RANK())\n",
    "(For the assignment questions we are using V_ORDERS created in the \"Assignment Data Preparation\" lecture)\n",
    "\n",
    "\n",
    "select * from v_orders;\n",
    "\n",
    "select \n",
    "  order_id,\n",
    "  customer_id,\n",
    "  order_total,\n",
    "  RANK() OVER(partition by customer_id order by order_total desc) as order_total_rank  \n",
    "\n",
    "FROM v_orders\n",
    "\n",
    "'''"
   ]
  },
  {
   "cell_type": "code",
   "execution_count": 2,
   "metadata": {},
   "outputs": [
    {
     "data": {
      "text/plain": [
       "'\\n\\nUsing Analytical Functions find the difference between the order total for each order_id and the order_id with the \\nmaximum order total for that month/year. \\n(For the assignment questions we are using V_ORDERS created in the \"Assignment Data Preparation\" lecture)\\n\\nselect order_id , TO_CHAR(ORDER_DATETIME, \\'MM-YY\\') AS MONTH_YEAR FROM v_orders;\\nSELECT\\n    ORDER_ID,\\n    TO_CHAR(ORDER_DATETIME,\\'MM-YY\\') AS MONTH_YEAR,\\n    ORDER_TOTAL,\\n    ORDER_TOTAL - MAX(ORDER_TOTAL) OVER(PARTITION BY TO_CHAR(ORDER_DATETIME,\\'MM-YY\\')) AS DIFF_FROM_MAX\\nFROM\\nV_ORDERS;\\n'"
      ]
     },
     "execution_count": 2,
     "metadata": {},
     "output_type": "execute_result"
    }
   ],
   "source": [
    "#Assignment Question 2\n",
    "'''\n",
    "\n",
    "Using Analytical Functions find the difference between the order total for each order_id and the order_id with the \n",
    "maximum order total for that month/year. \n",
    "(For the assignment questions we are using V_ORDERS created in the \"Assignment Data Preparation\" lecture)\n",
    "\n",
    "select order_id , TO_CHAR(ORDER_DATETIME, 'MM-YY') AS MONTH_YEAR FROM v_orders;\n",
    "SELECT\n",
    "    ORDER_ID,\n",
    "    TO_CHAR(ORDER_DATETIME,'MM-YY') AS MONTH_YEAR,\n",
    "    ORDER_TOTAL,\n",
    "    ORDER_TOTAL - MAX(ORDER_TOTAL) OVER(PARTITION BY TO_CHAR(ORDER_DATETIME,'MM-YY')) AS DIFF_FROM_MAX\n",
    "FROM\n",
    "V_ORDERS;\n",
    "'''"
   ]
  },
  {
   "cell_type": "code",
   "execution_count": 2,
   "metadata": {},
   "outputs": [
    {
     "data": {
      "text/plain": [
       "'\\nUsing Analytical Functions find the order total for each order_id and subtract the 3 month rolling average order total (the average of the current month and the previous 2 months of orders).\\nYour solution should only calculate the rolling average for months that are in the same year.\\n\\n(For the assignment questions we are using V_ORDERS created in the \"Assignment Data Preparation\" lecture)\\n\\n\\nselect \\n  order_datetime,\\n  to_char(order_datetime, \\'MMYY\\') as MONTH_YEAR1,\\n  to_number(to_char(order_datetime, \\'MMYY\\') ) as MONTH_YEAR2,\\n    to_number(to_char(order_datetime, \\'MMYYYYY\\') ) as MONTH_YEAR3\\nfrom v_orders;\\n\\n\\n# Note \\nYou may be wondering why I haven\\'t partitioned the window function by Year in my solution for Question 3.\\nThis is because it\\'s not required. I am defining my window range as 2 preceding, so when the year is 202101, 2 preceding from that \\nis 202101-2 = 202099, so the previous years months are excluded from the window frame and it\\'s naturally partitioned by the year.\\n\\n\\nselect \\n  order_id,\\n  to_char(order_datetime, \\'MM-YY\\') as MONTH_YEAR,\\n  order_total,\\n  AVG(order_total) OVER(order by TO_NUMBER(TO_CHAR(ORDER_DATETIME, \\'YYMM\\')) RANGE 2 PRECEDING) as AVG_3_MONTH,\\n  ORDER_TOTAL - AVG(order_total) OVER(order by TO_NUMBER(TO_CHAR(ORDER_DATETIME, \\'YYMM\\')) RANGE 2 PRECEDING) as VARIANCE\\n\\nfrom v_orders;\\n\\n'"
      ]
     },
     "execution_count": 2,
     "metadata": {},
     "output_type": "execute_result"
    }
   ],
   "source": [
    "#Assignment Question 3\n",
    "'''\n",
    "Using Analytical Functions find the order total for each order_id and subtract the 3 month rolling average order total (the average of the current month and the previous 2 months of orders).\n",
    "Your solution should only calculate the rolling average for months that are in the same year.\n",
    "\n",
    "(For the assignment questions we are using V_ORDERS created in the \"Assignment Data Preparation\" lecture)\n",
    "\n",
    "\n",
    "select \n",
    "  order_datetime,\n",
    "  to_char(order_datetime, 'MMYY') as MONTH_YEAR1,\n",
    "  to_number(to_char(order_datetime, 'MMYY') ) as MONTH_YEAR2,\n",
    "    to_number(to_char(order_datetime, 'MMYYYYY') ) as MONTH_YEAR3\n",
    "from v_orders;\n",
    "\n",
    "\n",
    "# Note \n",
    "You may be wondering why I haven't partitioned the window function by Year in my solution for Question 3.\n",
    "This is because it's not required. I am defining my window range as 2 preceding, so when the year is 202101, 2 preceding from that \n",
    "is 202101-2 = 202099, so the previous years months are excluded from the window frame and it's naturally partitioned by the year.\n",
    "\n",
    "\n",
    "select \n",
    "  order_id,\n",
    "  to_char(order_datetime, 'MM-YY') as MONTH_YEAR,\n",
    "  order_total,\n",
    "  AVG(order_total) OVER(order by TO_NUMBER(TO_CHAR(ORDER_DATETIME, 'YYMM')) RANGE 2 PRECEDING) as AVG_3_MONTH,\n",
    "  ORDER_TOTAL - AVG(order_total) OVER(order by TO_NUMBER(TO_CHAR(ORDER_DATETIME, 'YYMM')) RANGE 2 PRECEDING) as VARIANCE\n",
    "\n",
    "from v_orders;\n",
    "\n",
    "'''"
   ]
  },
  {
   "cell_type": "code",
   "execution_count": 3,
   "metadata": {},
   "outputs": [
    {
     "data": {
      "text/plain": [
       "\"\\n\\nCreate the following view:\\n\\nCREATE VIEW V_ORDER_YEAR_MONTH AS\\n(SELECT TO_CHAR(ORDER_DATETIME, 'YYYY-MM') AS YEAR_MONTH,\\nSUM(ORDER_TOTAL) AS YEAR_MONTH_TOTAL\\nFROM V_ORDERS\\nGROUP BY TO_CHAR(ORDER_DATETIME,'YYYY-MM'));\\n\\n\\nOn the above view use Analytical Functions to create a running total column using the YEAR_MONTH_TOTAL field ordered  by the YEAR_MONTH field in ascending order\\n\""
      ]
     },
     "execution_count": 3,
     "metadata": {},
     "output_type": "execute_result"
    }
   ],
   "source": [
    "# BONUS (Running Totals): Assignment Question 4\n",
    "'''\n",
    "\n",
    "Create the following view:\n",
    "\n",
    "CREATE VIEW V_ORDER_YEAR_MONTH AS\n",
    "(SELECT TO_CHAR(ORDER_DATETIME, 'YYYY-MM') AS YEAR_MONTH,\n",
    "SUM(ORDER_TOTAL) AS YEAR_MONTH_TOTAL\n",
    "FROM V_ORDERS\n",
    "GROUP BY TO_CHAR(ORDER_DATETIME,'YYYY-MM'));\n",
    "\n",
    "\n",
    "On the above view use Analytical Functions to create a running total column using the YEAR_MONTH_TOTAL field ordered  by the YEAR_MONTH field in ascending order\n",
    "'''\n"
   ]
  },
  {
   "cell_type": "code",
   "execution_count": null,
   "metadata": {},
   "outputs": [],
   "source": [
    "# BONUS (Running Totals): Assignment Question 4 Solution (SQL Code)\n",
    "'''\n",
    "SELECT\n",
    "\n",
    "YEAR_MONTH,\n",
    "\n",
    "YEAR_MONTH_TOTAL,\n",
    "\n",
    "SUM(YEAR_MONTH_TOTAL) OVER(ORDER BY YEAR_MONTH ASC ROWS BETWEEN UNBOUNDED PRECEDING AND CURRENT ROW)\n",
    "\n",
    "FROM V_ORDER_YEAR_MONTH;\n",
    "\n",
    "OR\n",
    "\n",
    "SELECT\n",
    "\n",
    "YEAR_MONTH,\n",
    "\n",
    "YEAR_MONTH_TOTAL,\n",
    "\n",
    "SUM(YEAR_MONTH_TOTAL) OVER(ORDER BY YEAR_MONTH ASC RANGE BETWEEN UNBOUNDED PRECEDING AND CURRENT ROW)\n",
    "\n",
    "FROM V_ORDER_YEAR_MONTH;\n",
    "'''"
   ]
  }
 ],
 "metadata": {
  "kernelspec": {
   "display_name": "de-venv",
   "language": "python",
   "name": "python3"
  },
  "language_info": {
   "codemirror_mode": {
    "name": "ipython",
    "version": 3
   },
   "file_extension": ".py",
   "mimetype": "text/x-python",
   "name": "python",
   "nbconvert_exporter": "python",
   "pygments_lexer": "ipython3",
   "version": "3.9.12"
  },
  "orig_nbformat": 4
 },
 "nbformat": 4,
 "nbformat_minor": 2
}
