{
 "cells": [
  {
   "cell_type": "markdown",
   "metadata": {},
   "source": [
    "### **12. Data Warehousing Concepts**"
   ]
  },
  {
   "cell_type": "code",
   "execution_count": null,
   "metadata": {
    "vscode": {
     "languageId": "plaintext"
    }
   },
   "outputs": [],
   "source": [
    "'''\n",
    "Q) What are the differences between OLTP (Online Transaction Processing) and OLAP (Online Analytical Processing)?\n",
    "\n",
    "Q) How would you design a star schema and a snowflake schema? What are the trade-offs between the two?\n",
    "\n",
    "Q) What is a fact table, and what is a dimension table?\n",
    "\n",
    "Q) How do you handle slowly changing dimensions (SCD)? Explain the different types (Type 1, Type 2, Type 3).\n",
    "'''"
   ]
  }
 ],
 "metadata": {
  "language_info": {
   "name": "python"
  }
 },
 "nbformat": 4,
 "nbformat_minor": 2
}
