{
 "cells": [
  {
   "cell_type": "markdown",
   "metadata": {},
   "source": [
    "### **Joins & Set Operations**"
   ]
  },
  {
   "cell_type": "markdown",
   "metadata": {},
   "source": [
    "'''\n",
    "Q) Explain the different types of joins (inner, left, right, full, cross) and give examples of when to use each.\n",
    "Q) What is a self join, and when would you use one?\n",
    "Q) What is the difference between a semi join and an anti join? How can you implement them in SQL?\n",
    "Q) How do UNION and UNION ALL differ? When would you use each?\n",
    "Q) What are window functions in SQL, and how do they differ from aggregate functions? \n",
    "    Can you give an example of a query using ROW_NUMBER() or RANK()?\n",
    "'''\n",
    "#\n",
    "'''\n",
    "Explain the different types of SQL joins: inner join, left join, right join, full outer join, cross join.\n",
    "When would you use a self-join?\n",
    "Can you explain what a semi-join and an anti-join are? How do they differ from regular joins?\n",
    "'''"
   ]
  }
 ],
 "metadata": {
  "language_info": {
   "name": "python"
  }
 },
 "nbformat": 4,
 "nbformat_minor": 2
}
