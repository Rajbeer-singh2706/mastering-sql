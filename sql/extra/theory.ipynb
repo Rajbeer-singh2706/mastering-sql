{
 "cells": [
  {
   "cell_type": "code",
   "execution_count": null,
   "metadata": {},
   "outputs": [],
   "source": [
    "# Heres a collection of SQL interview theory questions. These questions cover a wide range of \n",
    "'''\n",
    " - Advanced SQL topics\n",
    " - Including database design \n",
    " - Performance optimization \n",
    " - Indexing\n",
    " - Transactions \n",
    " - Specific SQL functions.\n",
    "'''\n"
   ]
  },
  {
   "cell_type": "code",
   "execution_count": 1,
   "metadata": {},
   "outputs": [
    {
     "data": {
      "text/plain": [
       "'\\nQ) What are window functions in SQL? Provide examples of how they are used.\\n\\nQ) Discuss the differences between OLAP and OLTP databases.\\nQ) Find out duplicates in a table?\\nQ) What are indexes in SQL, and how do they impact query performance? When would you use a composite index?\\nA) Indexes speed up data retrieval but can slow down write operations. A composite index is used when you frequently \\nquery multiple columns together.\\n\\n\\n# Query Optimization\\nQ) How would you optimize a slow SQL query? \\nQ) A query you wrote is running slow. What steps would you take to optimize it?\\n\\n- Review indexes, \\n- check query execution plan, \\n- avoid using \\n   * `SELECT *`, \\n   * use proper joins, \\n   * avoid subqueries in favor of CTEs, and \\n   * consider query rewriting or denormalization if needed.\\n'"
      ]
     },
     "execution_count": 1,
     "metadata": {},
     "output_type": "execute_result"
    }
   ],
   "source": [
    "#\n",
    "'''\n",
    "Q) What are window functions in SQL? Provide examples of how they are used.\n",
    "\n",
    "Q) Discuss the differences between OLAP and OLTP databases.\n",
    "Q) Find out duplicates in a table?\n",
    "Q) What are indexes in SQL, and how do they impact query performance? When would you use a composite index?\n",
    "A) Indexes speed up data retrieval but can slow down write operations. A composite index is used when you frequently \n",
    "query multiple columns together.\n",
    "\n",
    "\n",
    "# Query Optimization\n",
    "Q) How would you optimize a slow SQL query? \n",
    "Q) A query you wrote is running slow. What steps would you take to optimize it?\n",
    "\n",
    "- Review indexes, \n",
    "- check query execution plan, \n",
    "- avoid using \n",
    "   * `SELECT *`, \n",
    "   * use proper joins, \n",
    "   * avoid subqueries in favor of CTEs, and \n",
    "   * consider query rewriting or denormalization if needed.\n",
    "'''\n"
   ]
  },
  {
   "cell_type": "markdown",
   "metadata": {},
   "source": [
    "### **Database Design & Schema & Normalization**"
   ]
  },
  {
   "cell_type": "code",
   "execution_count": null,
   "metadata": {},
   "outputs": [],
   "source": [
    "'''\n",
    " Q1: What are the differences between OLTP and OLAP databases, and how do their schemas differ?\n",
    " Q2: Explain database normalization and its different forms. What are the advantages and trade-offs of normalization?\n",
    " Q3: What is denormalization? When and why would you use a denormalized database design?\n",
    " Q4: What are the key differences between a star schema and a snowflake schema in a data warehouse design?\n",
    " Q5: How would you handle slowly changing dimensions in a data warehouse? Explain the different types of \n",
    "Slowly Changing Dimensions (SCD Type 1, 2, 3).\n",
    "'''\n",
    "\n",
    "######\n",
    "'''\n",
    "What is database normalization, and why is it important?\n",
    "Explain the different normal forms (1NF, 2NF, 3NF, BCNF). Can you give examples of how you would normalize a database schema?\n",
    "What is denormalization, and when would you consider using it?\n",
    "'''"
   ]
  },
  {
   "cell_type": "markdown",
   "metadata": {},
   "source": [
    "### **Indexing & Query Optimization**"
   ]
  },
  {
   "cell_type": "code",
   "execution_count": null,
   "metadata": {},
   "outputs": [],
   "source": [
    "# Indexes \n",
    "'''\n",
    "What are indexes, and how do they improve query performance?\n",
    "What are the different types of indexes (e.g., clustered, non-clustered, full-text, bitmap)?\n",
    "How would you choose which columns to index in a large table? What trade-offs are involved?\n",
    "What happens if you create an index on a column with a lot of duplicate values?\n",
    "\n",
    "'''\n",
    "# \n",
    "'''\n",
    "Q) What are the different types of indexes in SQL databases, and how do they improve query performance?\n",
    "Q) Explain the difference between a clustered and a non-clustered index.\n",
    "Q) How would you analyze and improve the performance of a slow query? What tools or techniques would you use \n",
    "    (e.g., EXPLAIN PLAN in Oracle, EXPLAIN in PostgreSQL/MySQL)?\n",
    "Q) What is an index scan vs. an index seek, and when does the optimizer choose one over the other?\n",
    "Q) How does a bitmap index work, and when is it beneficial to use one?\n",
    "'''"
   ]
  },
  {
   "cell_type": "markdown",
   "metadata": {},
   "source": [
    "### **Transactions & Concurrency Control**"
   ]
  },
  {
   "cell_type": "code",
   "execution_count": null,
   "metadata": {},
   "outputs": [],
   "source": [
    "'''\n",
    "Q) What are ACID properties in databases, and why are they important for ensuring consistency?\n",
    "Q) What are the different types of transaction isolation levels? How do they affect concurrency and performance?\n",
    "Q) Explain the difference between pessimistic and optimistic locking. When would you use each?\n",
    "Q) How do deadlocks occur in a database, and how would you prevent or resolve them?\n",
    "Q) What is MVCC (Multi-Version Concurrency Control), and how does it work in databases like PostgreSQL?\n",
    "'''\n",
    "\n",
    "# \n",
    "'''\n",
    "What is a transaction in SQL, and why is it important?\n",
    "Explain the ACID properties (Atomicity, Consistency, Isolation, Durability).\n",
    "What is transaction isolation, and what are the different levels (e.g., read uncommitted, read committed, repeatable read, serializable)?\n",
    "What are common issues related to concurrent transactions (e.g., deadlocks, race conditions, lost updates), and how would you address them?\n",
    "'''"
   ]
  },
  {
   "cell_type": "markdown",
   "metadata": {},
   "source": [
    "### **Joins & Set Operations**"
   ]
  },
  {
   "cell_type": "code",
   "execution_count": null,
   "metadata": {},
   "outputs": [],
   "source": [
    "'''\n",
    "Q) Explain the different types of joins (inner, left, right, full, cross) and give examples of when to use each.\n",
    "Q) What is a self join, and when would you use one?\n",
    "Q) What is the difference between a semi join and an anti join? How can you implement them in SQL?\n",
    "Q) How do UNION and UNION ALL differ? When would you use each?\n",
    "Q) What are window functions in SQL, and how do they differ from aggregate functions? \n",
    "    Can you give an example of a query using ROW_NUMBER() or RANK() OR DENSE_RANK() ?\n",
    "'''\n",
    "#\n",
    "'''\n",
    "Explain the different types of SQL joins: inner join, left join, right join, full outer join, cross join.\n",
    "When would you use a self-join?\n",
    "Can you explain what a semi-join and an anti-join are? How do they differ from regular joins?\n",
    "'''"
   ]
  },
  {
   "cell_type": "markdown",
   "metadata": {},
   "source": [
    "### **Stored Procedures, Views, and Functions and Triggers**"
   ]
  },
  {
   "cell_type": "code",
   "execution_count": null,
   "metadata": {},
   "outputs": [],
   "source": [
    "'''\n",
    "Q) What is the difference between a view and a materialized view? When would you use one over the other?\n",
    "\n",
    "Q) Explain the differences between stored procedures and user-defined functions (UDFs). When would you use each?\n",
    "\n",
    "Q) How would you manage and deploy changes to stored procedures in a production environment to minimize downtime?\n",
    "\n",
    "Q) What are the potential performance implications of using triggers in a database? When would you recommend using them?\n",
    "\n",
    "Q) What are stored procedures in SQL, and how are they different from functions?\n",
    "\n",
    "Q) What are triggers in SQL? Can you provide an example of a use case where a trigger is useful?\n",
    "\n",
    "Q) What are the performance implications of using triggers and stored procedures?\n",
    "'''"
   ]
  },
  {
   "cell_type": "markdown",
   "metadata": {},
   "source": [
    "### **Data Integrity & Constraints**"
   ]
  },
  {
   "cell_type": "code",
   "execution_count": null,
   "metadata": {},
   "outputs": [],
   "source": [
    "'''\n",
    "Q) What are foreign key constraints, and how do they enforce data integrity?\n",
    "Q) Explain the difference between primary keys and unique constraints. Can you have multiple unique constraints on a table?\n",
    "Q) What are check constraints, and how would you use them to enforce data validation rules in SQL?\n",
    "Q) How would you handle the deletion of a record that has dependencies via foreign key constraints? \n",
    "Q) Explain the difference between ON DELETE CASCADE and ON DELETE RESTRICT.\n",
    "'''"
   ]
  },
  {
   "cell_type": "markdown",
   "metadata": {},
   "source": [
    "### **7. ETL and Data Pipelines**"
   ]
  },
  {
   "cell_type": "code",
   "execution_count": null,
   "metadata": {},
   "outputs": [],
   "source": [
    "'''\n",
    "Q) How would you implement an ETL process in SQL? What are the challenges in handling large data transformations, \n",
    "    and how would you optimize them?\n",
    "\n",
    "Q) Explain how you would design a data pipeline to handle incremental loads (only new or changed data) using SQL.\n",
    "\n",
    "Q) What are the best practices for maintaining historical data in a data warehouse? How would you structure your \n",
    "tables to accommodate time-series data?\n",
    "'''"
   ]
  },
  {
   "cell_type": "markdown",
   "metadata": {},
   "source": [
    "### **8. Advanced SQL Concepts**\n"
   ]
  },
  {
   "cell_type": "code",
   "execution_count": 2,
   "metadata": {},
   "outputs": [
    {
     "data": {
      "text/plain": [
       "'\\nQ) What is a CTE (Common Table Expression), and how does it differ from a subquery?\\nQ) What are recursive CTEs, and when would you use them?\\nQ) Explain the concept of a windowing function with an example of using PARTITION BY and ORDER BY.\\nQ) What is a cross join, and how is it different from an inner join?\\nQ) How would you implement an UPSERT operation in different databases (MySQL, PostgreSQL, SQL Server)?\\n'"
      ]
     },
     "execution_count": 2,
     "metadata": {},
     "output_type": "execute_result"
    }
   ],
   "source": [
    "'''\n",
    "Q) What is a CTE (Common Table Expression), and how does it differ from a subquery?\n",
    "Q) What are recursive CTEs, and when would you use them?\n",
    "Q) Explain the concept of a windowing function with an example of using PARTITION BY and ORDER BY.\n",
    "Q) What is a cross join, and how is it different from an inner join?\n",
    "Q) How would you implement an UPSERT operation in different databases (MySQL, PostgreSQL, SQL Server)?\n",
    "Q) What are recursive queries, and when would you use them?\n",
    "Q) What is a materialized view, and how does it differ from a regular view?\n",
    "Q) Explain how you can use SQL to implement ETL (Extract, Transform, Load) processes.\n",
    "'''\n"
   ]
  },
  {
   "cell_type": "markdown",
   "metadata": {},
   "source": [
    "### **9. Big Data & Distributed Systems**"
   ]
  },
  {
   "cell_type": "code",
   "execution_count": 4,
   "metadata": {},
   "outputs": [
    {
     "data": {
      "text/plain": [
       "'\\nQ) What are the challenges of using traditional relational databases in a big data environment? How would you architect a solution \\n    using a distributed SQL engine like Amazon Redshift or Google BigQuery?\\nQ) Explain how partitioning works in a distributed database, and how would you design partition keys to optimize performance?\\nQ) What is sharding, and how does it differ from partitioning?\\nQ) How would you handle data skew in a distributed system like Amazon Redshift or Hive?\\n'"
      ]
     },
     "execution_count": 4,
     "metadata": {},
     "output_type": "execute_result"
    }
   ],
   "source": [
    "'''\n",
    "Q) What are the challenges of using traditional relational databases in a big data environment? How would you architect a solution \n",
    "    using a distributed SQL engine like Amazon Redshift or Google BigQuery?\n",
    "\n",
    "Q) Explain how partitioning works in a distributed database, and how would you design partition keys to optimize performance?\n",
    "\n",
    "Q) What is sharding, and how does it differ from partitioning?\n",
    "\n",
    "Q) How would you handle data skew in a distributed system like Amazon Redshift or Hive?\n",
    "\n",
    "Q) What is a distributed database? How does it differ from a single-node database?\n",
    "\n",
    "Q) How do distributed databases ensure consistency, availability, and partition tolerance (CAP theorem)?\n",
    "\n",
    "Q) How would you handle data replication and failover in a distributed SQL database?\n",
    "'''"
   ]
  },
  {
   "cell_type": "markdown",
   "metadata": {},
   "source": [
    "### **10. Performance Tuning and Optimization**"
   ]
  },
  {
   "cell_type": "code",
   "execution_count": null,
   "metadata": {},
   "outputs": [],
   "source": [
    "'''\n",
    "Q) What are some strategies for query performance optimization in large-scale databases?\n",
    "\n",
    "Q) How would you use database partitioning to improve performance in a large database? What types of partitioning are \n",
    "available (range, list, hash)?\n",
    "\n",
    "Q) How does indexing affect query performance? Can you give an example of a scenario where an index might not be helpful?\n",
    "\n",
    "Q) What are query hints, and how can they be used to influence the execution plan of a query?\n",
    "\n",
    "Q) How do you optimize SQL queries for performance?\n",
    "\n",
    "Q) What are some common causes of slow queries, and how would you diagnose and fix them?\n",
    "\n",
    "Q) How would you use EXPLAIN (or EXPLAIN PLAN) to analyze query performance?\n",
    "\n",
    "Q) What is the difference between a hash join and a nested loop join? When would you use one over the other?\n",
    "'''"
   ]
  },
  {
   "cell_type": "markdown",
   "metadata": {},
   "source": [
    "### **11. Common Table Expressions (CTE) and Window Functions**"
   ]
  },
  {
   "cell_type": "code",
   "execution_count": null,
   "metadata": {},
   "outputs": [],
   "source": [
    "'''\n",
    "Q) What are Common Table Expressions (CTEs), and how do they differ from subqueries?\n",
    "Q) What are window functions, and how would you use them in SQL?\n",
    "Q) Can you explain the difference between ROW_NUMBER(), RANK(), and DENSE_RANK() functions? Provide an example of their usage.\n",
    "'''"
   ]
  },
  {
   "cell_type": "markdown",
   "metadata": {},
   "source": [
    "### **12. Data Warehousing Concepts**"
   ]
  },
  {
   "cell_type": "code",
   "execution_count": 1,
   "metadata": {},
   "outputs": [
    {
     "data": {
      "text/plain": [
       "'\\nQ) What are the differences between OLTP (Online Transaction Processing) and OLAP (Online Analytical Processing)?\\n\\nQ) How would you design a star schema and a snowflake schema? What are the trade-offs between the two?\\n\\nQ) What is a fact table, and what is a dimension table?\\n\\nQ) How do you handle slowly changing dimensions (SCD)? Explain the different types (Type 1, Type 2, Type 3).\\n'"
      ]
     },
     "execution_count": 1,
     "metadata": {},
     "output_type": "execute_result"
    }
   ],
   "source": [
    "'''\n",
    "Q) What are the differences between OLTP (Online Transaction Processing) and OLAP (Online Analytical Processing)?\n",
    "\n",
    "Q) How would you design a star schema and a snowflake schema? What are the trade-offs between the two?\n",
    "\n",
    "Q) What is a fact table, and what is a dimension table?\n",
    "\n",
    "Q) How do you handle slowly changing dimensions (SCD)? Explain the different types (Type 1, Type 2, Type 3).\n",
    "'''"
   ]
  },
  {
   "cell_type": "markdown",
   "metadata": {},
   "source": [
    "### **13. Partitioning and Sharding**"
   ]
  },
  {
   "cell_type": "code",
   "execution_count": 2,
   "metadata": {},
   "outputs": [
    {
     "data": {
      "text/plain": [
       "'\\nQ) What is database partitioning, and why would you use it?\\nQ) What is the difference between horizontal and vertical partitioning?\\nQ) Explain sharding and how it differs from partitioning. When would you use one over the other?\\n'"
      ]
     },
     "execution_count": 2,
     "metadata": {},
     "output_type": "execute_result"
    }
   ],
   "source": [
    "'''\n",
    "Q) What is database partitioning, and why would you use it?\n",
    "Q) What is the difference between horizontal and vertical partitioning?\n",
    "Q) Explain sharding and how it differs from partitioning. When would you use one over the other?\n",
    "'''"
   ]
  },
  {
   "cell_type": "markdown",
   "metadata": {},
   "source": [
    "### **14. SQL vs NoSQL**"
   ]
  },
  {
   "cell_type": "code",
   "execution_count": null,
   "metadata": {},
   "outputs": [],
   "source": [
    "'''\n",
    "Q) What are the key differences between SQL and NoSQL databases?\n",
    "Q) When would you choose a NoSQL database over a relational database?\n",
    "Q) What are the limitations of using NoSQL databases, and how do they handle transactions?\n",
    "'''"
   ]
  },
  {
   "cell_type": "markdown",
   "metadata": {},
   "source": [
    "### **15. Data Integrity and Constraints**"
   ]
  },
  {
   "cell_type": "code",
   "execution_count": null,
   "metadata": {},
   "outputs": [],
   "source": [
    "'''\n",
    "Q) What are the different types of constraints in SQL (e.g., primary key, foreign key, unique, check, not null)?\n",
    "Q) How do you enforce referential integrity in a relational database?\n",
    "Q) What are cascading deletes and updates? When should you use them?\n",
    "'''"
   ]
  },
  {
   "cell_type": "markdown",
   "metadata": {},
   "source": [
    "### **16. Handling Large Datasets**"
   ]
  },
  {
   "cell_type": "code",
   "execution_count": null,
   "metadata": {},
   "outputs": [],
   "source": [
    "'''\n",
    "Q) How would you efficiently query and aggregate data from a large table with millions of rows?\n",
    "Q) What strategies would you use to load large datasets into a database quickly and reliably?\n",
    "Q) How do you handle pagination in SQL when working with large datasets?\n",
    "'''"
   ]
  },
  {
   "cell_type": "markdown",
   "metadata": {},
   "source": [
    "### **13. Upserts**"
   ]
  },
  {
   "cell_type": "code",
   "execution_count": null,
   "metadata": {},
   "outputs": [],
   "source": [
    "'''\n",
    "Q) How do you perform an UPSERT (Update + Insert) operation in different databases (e.g., MySQL, PostgreSQL, SQL Server)?\n",
    "Q) What are the challenges involved in implementing an UPSERT in databases that do not have a native UPSERT command?\n",
    "'''"
   ]
  },
  {
   "cell_type": "code",
   "execution_count": null,
   "metadata": {},
   "outputs": [],
   "source": [
    "'''\n",
    "\n",
    "Here are some **theory-based SQL interview questions** These questions are aimed at testing deep knowledge of SQL concepts, optimization, scalability, and best practices, which are crucial for senior data engineering roles.\n",
    "\n",
    "### 1. **What are different types of SQL joins? Explain each with examples.**\n",
    "   - **Purpose:** Tests the candidate's understanding of joins and their application.\n",
    "   - **Expected Answer:** Explanation of inner join, left (outer) join, right (outer) join, full outer join, cross join, semi join, and anti join with basic examples.\n",
    "\n",
    "### 2. **What is the difference between a primary key and a unique key? Can a table have multiple unique keys?**\n",
    "   - **Purpose:** Tests knowledge of constraints and schema design.\n",
    "   - **Expected Answer:** Explanation of primary key (which ensures uniqueness and cannot have `NULL` values) and unique key (which allows one `NULL` value). Yes, a table can have multiple unique keys.\n",
    "\n",
    "### 3. **Explain indexing in SQL. What are the different types of indexes? When should you use indexes?**\n",
    "   - **Purpose:** Tests understanding of database indexing, performance tuning, and query optimization.\n",
    "   - **Expected Answer:** Explanation of clustered, non-clustered, composite, unique, full-text, and bitmap indexes. Understanding the impact of indexes on performance and their usage in speeding up SELECT queries but slowing down INSERT/UPDATE operations.\n",
    "\n",
    "### 4. **What are the differences between OLTP and OLAP databases, and how do SQL queries differ in each?**\n",
    "   - **Purpose:** Tests knowledge of database systems and their specific query patterns.\n",
    "   - **Expected Answer:** OLTP (Online Transaction Processing) is optimized for transactional operations, focusing on INSERT/UPDATE/DELETE queries. OLAP (Online Analytical Processing) is optimized for complex SELECT queries and used in data warehousing environments.\n",
    "\n",
    "### 5. **What is a materialized view? How is it different from a regular view?**\n",
    "   - **Purpose:** Tests knowledge of views and materialized views.\n",
    "   - **Expected Answer:** A materialized view is a physical copy of the data that can be periodically refreshed, whereas a regular view is a virtual table based on a SQL query that retrieves data dynamically.\n",
    "\n",
    "### 6. **How would you approach optimizing a slow SQL query?**\n",
    "   - **Purpose:** Tests problem-solving ability in query optimization.\n",
    "   - **Expected Answer:** Steps might include checking indexes, examining the query execution plan, reducing table scans, using appropriate joins, partitioning tables, avoiding `SELECT *`, optimizing `WHERE` clauses, and reducing subqueries or using CTEs.\n",
    "\n",
    "### 7. **What are window functions, and how do they differ from aggregate functions? Provide an example.**\n",
    "   - **Purpose:** Tests advanced SQL knowledge, especially about analytical queries.\n",
    "   - **Expected Answer:** Window functions perform calculations across a set of table rows related to the current row (using `OVER()`), without grouping the results as aggregate functions do. Examples include `ROW_NUMBER()`, `RANK()`, and `SUM()` with an `OVER` clause.\n",
    "\n",
    "### 8. **What are CTEs (Common Table Expressions), and how are they different from subqueries?**\n",
    "   - **Purpose:** Tests knowledge of query structuring.\n",
    "   - **Expected Answer:** CTEs are named temporary result sets that simplify complex queries and improve readability. Unlike subqueries, CTEs can be recursive and used multiple times within the same query.\n",
    "\n",
    "### 9. **Explain the ACID properties in SQL databases. Why are they important?**\n",
    "   - **Purpose:** Tests knowledge of database transactions.\n",
    "   - **Expected Answer:** ACID stands for Atomicity, Consistency, Isolation, and Durability. These properties ensure reliable processing of database transactions.\n",
    "\n",
    "### 10. **What is the difference between `DELETE`, `TRUNCATE`, and `DROP`? When would you use each?**\n",
    "   - **Purpose:** Tests understanding of data manipulation and schema management.\n",
    "   - **Expected Answer:** `DELETE` removes rows one by one, can be rolled back, and uses a WHERE clause. `TRUNCATE` is faster, removes all rows, and cannot be rolled back (in most databases). `DROP` removes the entire table structure from the database.\n",
    "\n",
    "### 11. **Explain data partitioning and sharding. How do they help in performance scaling?**\n",
    "   - **Purpose:** Tests knowledge of database scaling techniques.\n",
    "   - **Expected Answer:** Data partitioning divides large tables into smaller, more manageable parts (horizontal or vertical) for performance and scalability. Sharding distributes data across multiple database servers for scalability in distributed systems.\n",
    "\n",
    "### 12. **What is a transaction, and how do you ensure transaction integrity in SQL?**\n",
    "   - **Purpose:** Tests knowledge of SQL transaction management.\n",
    "   - **Expected Answer:** A transaction is a unit of work that is executed independently to ensure data integrity. Transaction integrity is ensured using the ACID properties. Commands such as `BEGIN`, `COMMIT`, and `ROLLBACK` control the transactional workflow.\n",
    "\n",
    "### 13. **How does database normalization work? Explain the different normal forms.**\n",
    "   - **Purpose:** Tests understanding of schema design.\n",
    "   - **Expected Answer:** Database normalization involves organizing tables to minimize redundancy. The candidate should explain normal forms like 1NF, 2NF, 3NF, BCNF, and their rules.\n",
    "\n",
    "### 14. **What are the different isolation levels in SQL, and how do they affect concurrency?**\n",
    "   - **Purpose:** Tests knowledge of isolation levels and transaction management.\n",
    "   - **Expected Answer:** SQL defines isolation levels as `READ UNCOMMITTED`, `READ COMMITTED`, `REPEATABLE READ`, and `SERIALIZABLE`. These control the visibility of changes made by one transaction to others, managing issues like dirty reads, non-repeatable reads, and phantom reads.\n",
    "\n",
    "### 15. **What is a deadlock in SQL databases? How can it be detected and resolved?**\n",
    "   - **Purpose:** Tests understanding of concurrency issues.\n",
    "   - **Expected Answer:** A deadlock occurs when two or more transactions block each other by holding locks on resources the other needs. Deadlock detection can be done using database logs, and resolution usually involves transaction rollbacks.\n",
    "\n",
    "### 16. **What is denormalization? Why would you choose to denormalize a database?**\n",
    "   - **Purpose:** Tests knowledge of database design trade-offs.\n",
    "   - **Expected Answer:** Denormalization involves adding redundancy to a database design to improve read performance at the expense of write performance. It's often used in data warehousing or OLAP systems where read performance is more critical.\n",
    "\n",
    "### 17. **Explain how SQL handles NULL values in comparisons and aggregate functions.**\n",
    "   - **Purpose:** Tests detailed understanding of how SQL treats `NULL`.\n",
    "   - **Expected Answer:** `NULL` represents an unknown or missing value in SQL. Comparisons involving `NULL` always result in `NULL`, except when using `IS NULL` or `IS NOT NULL`. Aggregates like `COUNT` ignore `NULL` values unless specifically handled.\n",
    "\n",
    "### 18. **How does indexing affect the performance of queries involving `JOIN` operations?**\n",
    "   - **Purpose:** Tests knowledge of indexing in complex query scenarios.\n",
    "   - **Expected Answer:** Indexing columns involved in `JOIN` operations can significantly improve query performance by reducing the amount of data that needs to be scanned. However, the effectiveness depends on the type of join and the size of the dataset.\n",
    "\n",
    "### 19. **What are surrogate keys, and how do they differ from natural keys?**\n",
    "   - **Purpose:** Tests understanding of key selection in schema design.\n",
    "   - **Expected Answer:** Surrogate keys are artificial, system-generated keys (e.g., auto-incremented integers), while natural keys are derived from the data itself. Surrogate keys ensure uniqueness without relying on domain-specific knowledge.\n",
    "\n",
    "### 20. **What are database triggers, and when should they be used or avoided?**\n",
    "   - **Purpose:** Tests knowledge of advanced SQL features.\n",
    "   - **Expected Answer:** Triggers are special stored procedures that execute automatically in response to certain events (INSERT, UPDATE, DELETE). They are useful for enforcing business rules but should be used sparingly as they can complicate debugging and degrade performance.\n",
    "\n",
    "These questions cover a range of topics, from query optimization to advanced database design, that are vital for \n",
    " handling complex SQL environments.\n",
    " '''"
   ]
  }
 ],
 "metadata": {
  "kernelspec": {
   "display_name": "myenv",
   "language": "python",
   "name": "python3"
  },
  "language_info": {
   "codemirror_mode": {
    "name": "ipython",
    "version": 3
   },
   "file_extension": ".py",
   "mimetype": "text/x-python",
   "name": "python",
   "nbconvert_exporter": "python",
   "pygments_lexer": "ipython3",
   "version": "3.9.6"
  }
 },
 "nbformat": 4,
 "nbformat_minor": 2
}
