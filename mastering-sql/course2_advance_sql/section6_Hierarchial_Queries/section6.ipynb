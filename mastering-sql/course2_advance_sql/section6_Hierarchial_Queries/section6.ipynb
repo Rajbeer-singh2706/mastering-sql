{
 "cells": [
  {
   "cell_type": "code",
   "execution_count": 2,
   "metadata": {},
   "outputs": [
    {
     "data": {
      "text/plain": [
       "'\\nThis section will focus on Hierarchical Queries in Oracle SQL.\\n * You can use hierarchical queries to travel along parent-child relationships in hierarchical data.\\n * Hierarchical data can be a table that has both a parent and child column such as family trees, product categories and company \\n organization structures.\\n\\nIn the next section I will discuss recursive CTEs which can be used as an alternate to hierarchical queries in SQL Server and MySQL.\\n'"
      ]
     },
     "execution_count": 2,
     "metadata": {},
     "output_type": "execute_result"
    }
   ],
   "source": [
    "# Section 6: Hierarchical Queries\n",
    "'''\n",
    "This section will focus on Hierarchical Queries in Oracle SQL.\n",
    " * You can use hierarchical queries to travel along parent-child relationships in hierarchical data.\n",
    " * Hierarchical data can be a table that has both a parent and child column such as family trees, product categories and company \n",
    " organization structures.\n",
    "\n",
    "In the next section I will discuss recursive CTEs which can be used as an alternate to hierarchical queries in SQL Server and MySQL.\n",
    "'''"
   ]
  },
  {
   "cell_type": "code",
   "execution_count": 3,
   "metadata": {},
   "outputs": [],
   "source": [
    "# Introduction to Hierachical Queries\n",
    "'''\n",
    "'''"
   ]
  },
  {
   "cell_type": "code",
   "execution_count": 15,
   "metadata": {},
   "outputs": [
    {
     "data": {
      "text/plain": [
       "'\\nselect * from emp\\nstart with mgr is null\\nconnect by empno = prior mgr;\\n\\nselect * from emp\\nstart with mgr is null\\nconnect by empno = mgr;\\n\\nselect * from emp\\nstart with mgr is null\\nconnect by empno = mgr;\\n'"
      ]
     },
     "execution_count": 15,
     "metadata": {},
     "output_type": "execute_result"
    }
   ],
   "source": [
    "# The Connect By & Start With Clause\n",
    "'''\n",
    "select * from emp\n",
    "start with mgr is null\n",
    "connect by empno = prior mgr;\n",
    "\n",
    "select * from emp\n",
    "start with mgr is null\n",
    "connect by empno = mgr;\n",
    "\n",
    "select * from emp\n",
    "start with mgr is null\n",
    "connect by empno = mgr;\n",
    "'''"
   ]
  },
  {
   "cell_type": "code",
   "execution_count": 17,
   "metadata": {},
   "outputs": [
    {
     "data": {
      "text/plain": [
       "'\\n    select emp.*, level from emp\\n    start with mgr is null\\n    connect by prior empno = mgr;\\n\\nselect emp.*, level from emp\\nstart with empno  = 7698\\nconnect by prior empno = mgr;\\n\\nselect emp.*, level from emp\\nstart with empno  = 7566\\nconnect by prior empno = mgr;\\n'"
      ]
     },
     "execution_count": 17,
     "metadata": {},
     "output_type": "execute_result"
    }
   ],
   "source": [
    "# The Level Pseudocololumn\n",
    "'''\n",
    "    select emp.*, level from emp\n",
    "    start with mgr is null\n",
    "    connect by prior empno = mgr;\n",
    "\n",
    "select emp.*, level from emp\n",
    "start with empno  = 7698\n",
    "connect by prior empno = mgr;\n",
    "\n",
    "select emp.*, level from emp\n",
    "start with empno  = 7566\n",
    "connect by prior empno = mgr;\n",
    "'''"
   ]
  },
  {
   "cell_type": "code",
   "execution_count": 18,
   "metadata": {},
   "outputs": [
    {
     "data": {
      "text/plain": [
       "\"\\nselect emp.*,level, sys_connect_by_path( ename,'-') from emp\\n-- start with empno = 7566\\nconnect by prior empno = mgr;\\n\\n\\nselect emp.*,level, sys_connect_by_path( empno,'/') from emp\\n-- start with empno = 7566\\nconnect by prior empno = mgr;\\n\\n\""
      ]
     },
     "execution_count": 18,
     "metadata": {},
     "output_type": "execute_result"
    }
   ],
   "source": [
    "# CONNECT_BY_ROOT & SYS_CONNECT_BY_PATH\n",
    "'''\n",
    "select emp.*, connect_by_root ename as \"root ename\" from emp\n",
    "start with mgr is null\n",
    "connect by prior empno = mgr;\n",
    "\n",
    "\n",
    "select emp.*, connect_by_root ename as \"root ename\" from emp\n",
    "start with empno = 7566\n",
    "connect by prior empno = mgr;\n",
    "\n",
    "select emp.*, connect_by_root empno as \"root empno\" from emp\n",
    "start with empno = 7566\n",
    "connect by prior empno = mgr;\n",
    "\n",
    "select emp.*, connect_by_root ename as \"root ename\" from emp\n",
    "connect by prior empno = mgr;\n",
    "'''\n",
    "\n",
    "### SYS_CONNECT_BY_PATH\n",
    "'''\n",
    "select emp.*,level, sys_connect_by_path( ename,'-') from emp\n",
    "-- start with empno = 7566\n",
    "connect by prior empno = mgr;\n",
    "\n",
    "\n",
    "select emp.*,level, sys_connect_by_path( empno,'/') from emp\n",
    "-- start with empno = 7566\n",
    "connect by prior empno = mgr;\n",
    "\n",
    "'''"
   ]
  },
  {
   "cell_type": "code",
   "execution_count": 19,
   "metadata": {},
   "outputs": [
    {
     "data": {
      "text/plain": [
       "'\\nselect emp.* ,level from emp\\nstart with empno = 7566\\nconnect by prior empno = mgr\\norder siblings by ename ;\\n'"
      ]
     },
     "execution_count": 19,
     "metadata": {},
     "output_type": "execute_result"
    }
   ],
   "source": [
    "# Ordereing Your Hierachical Query Results\n",
    "'''\n",
    "select emp.* ,level from emp\n",
    "start with empno = 7566\n",
    "connect by prior empno = mgr\n",
    "order siblings by ename ;\n",
    "'''"
   ]
  },
  {
   "cell_type": "code",
   "execution_count": 23,
   "metadata": {},
   "outputs": [
    {
     "data": {
      "text/plain": [
       "\"\\nselect emp.* ,level, lpad(ename, length(ename)+level,'>') as ename_pad from emp\\nstart with empno = 7839\\nconnect by prior empno = mgr;\\n\\n\\n\""
      ]
     },
     "execution_count": 23,
     "metadata": {},
     "output_type": "execute_result"
    }
   ],
   "source": [
    "# Formatting Your Hierarchical Query\n",
    "'''\n",
    "select emp.* ,level, lpad(ename, length(ename)+level,'>') as ename_pad from emp\n",
    "start with empno = 7839\n",
    "connect by prior empno = mgr;\n",
    "\n",
    "\n",
    "'''"
   ]
  },
  {
   "cell_type": "code",
   "execution_count": 24,
   "metadata": {},
   "outputs": [
    {
     "data": {
      "text/plain": [
       "'\\nselect emp.* ,level \\nFROM emp\\nWHERE empno <> 7689 -- blake empcode\\nstart with empno = 7839\\nconnect by prior empno = mgr and empno <> 7689\\n;\\n-- blake director report\\n\\n'"
      ]
     },
     "execution_count": 24,
     "metadata": {},
     "output_type": "execute_result"
    }
   ],
   "source": [
    "# FIltering Your Results\n",
    "'''\n",
    "select emp.* ,level \n",
    "FROM emp\n",
    "WHERE empno <> 7689 -- blake empcode\n",
    "start with empno = 7839\n",
    "connect by prior empno = mgr and empno <> 7689\n",
    ";\n",
    "-- blake director report\n",
    "\n",
    "'''"
   ]
  },
  {
   "cell_type": "code",
   "execution_count": 26,
   "metadata": {},
   "outputs": [
    {
     "data": {
      "text/plain": [
       "'\\nThis is an extract taken from Oracle documentation that shows how Oracle processes hierarchical queries.\\nOracle processes hierarchical queries as follows:\\n * A join, if present, is evaluated first, whether the join is specified in the FROM clause or with WHERE clause predicates.\\n * The CONNECT BY condition is evaluated.\\n * Any remaining WHERE clause predicates are evaluated.\\n'"
      ]
     },
     "execution_count": 26,
     "metadata": {},
     "output_type": "execute_result"
    }
   ],
   "source": [
    "# Hierarchial Query Processing\n",
    "'''\n",
    "This is an extract taken from Oracle documentation that shows how Oracle processes hierarchical queries.\n",
    "Oracle processes hierarchical queries as follows:\n",
    " * A join, if present, is evaluated first, whether the join is specified in the FROM clause or with WHERE clause predicates.\n",
    " * The CONNECT BY condition is evaluated.\n",
    " * Any remaining WHERE clause predicates are evaluated.\n",
    "'''"
   ]
  },
  {
   "cell_type": "code",
   "execution_count": 11,
   "metadata": {},
   "outputs": [],
   "source": [
    "# Assiginment Question 1"
   ]
  },
  {
   "cell_type": "code",
   "execution_count": 12,
   "metadata": {},
   "outputs": [],
   "source": [
    "# Assiginment Question 2"
   ]
  },
  {
   "cell_type": "code",
   "execution_count": 13,
   "metadata": {},
   "outputs": [],
   "source": [
    "# Assiginment Question 3"
   ]
  },
  {
   "cell_type": "code",
   "execution_count": 14,
   "metadata": {},
   "outputs": [],
   "source": [
    "# Assiginment Question 4"
   ]
  },
  {
   "cell_type": "code",
   "execution_count": null,
   "metadata": {},
   "outputs": [],
   "source": []
  }
 ],
 "metadata": {
  "kernelspec": {
   "display_name": "Python 3",
   "language": "python",
   "name": "python3"
  },
  "language_info": {
   "codemirror_mode": {
    "name": "ipython",
    "version": 3
   },
   "file_extension": ".py",
   "mimetype": "text/x-python",
   "name": "python",
   "nbconvert_exporter": "python",
   "pygments_lexer": "ipython3",
   "version": "3.9.12"
  },
  "orig_nbformat": 4
 },
 "nbformat": 4,
 "nbformat_minor": 2
}
