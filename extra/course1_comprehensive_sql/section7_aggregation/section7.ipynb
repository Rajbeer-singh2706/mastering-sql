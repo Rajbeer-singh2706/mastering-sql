{
 "cells": [
  {
   "cell_type": "code",
   "execution_count": 1,
   "metadata": {},
   "outputs": [
    {
     "data": {
      "text/plain": [
       "'\\nThis is a very important section as the clauses and functions taught in this lecture are among the most commonly used in SQL.\\nAfter completing this section you will learn:\\n * How to use aggregation functions to summarise values\\n * How to use the Group By clause to group your tables into summary rows\\n * How to use the Having Clause to filter aggregated tables\\n * How to order your results by one or more columns\\n * The SQL order of execution for all of the clauses and operations covered so far\\n\\nThe section will be rounded off with a series of assignment questions to test your practical knowledge\\n'"
      ]
     },
     "execution_count": 1,
     "metadata": {},
     "output_type": "execute_result"
    }
   ],
   "source": [
    "# section 7: Aggregate Functions Adn the Group BY , Having & Order By Clause\n",
    "'''\n",
    "This is a very important section as the clauses and functions taught in this lecture are among the most commonly used in SQL.\n",
    "After completing this section you will learn:\n",
    " * How to use aggregation functions to summarise values\n",
    " * How to use the Group By clause to group your tables into summary rows\n",
    " * How to use the Having Clause to filter aggregated tables\n",
    " * How to order your results by one or more columns\n",
    " * The SQL order of execution for all of the clauses and operations covered so far\n",
    "\n",
    "The section will be rounded off with a series of assignment questions to test your practical knowledge\n",
    "'''"
   ]
  },
  {
   "cell_type": "code",
   "execution_count": 2,
   "metadata": {},
   "outputs": [
    {
     "data": {
      "text/plain": [
       "'\\n - SUM\\n - COUNT\\n - AVG\\n - MIN\\n - MAX\\n\\nselect * from emp;\\nselect sum(sal), avg(sal) , max(sal) , min(sal) from emp;\\nselect max(ename),min(ename) from EMP;\\nselect sum(ename) from EMP; --invlai\\nselect ename , sum(sal) from EMP; -- Error at line 1/8: ORA-00937: not a single-group group function\\nselect sum(sal) from EMP;\\n'"
      ]
     },
     "execution_count": 2,
     "metadata": {},
     "output_type": "execute_result"
    }
   ],
   "source": [
    "# Aggregate Functions\n",
    "'''\n",
    " - SUM\n",
    " - COUNT\n",
    " - AVG\n",
    " - MIN\n",
    " - MAX\n",
    "\n",
    "select * from emp;\n",
    "select sum(sal), avg(sal) , max(sal) , min(sal) from emp;\n",
    "select max(ename),min(ename) from EMP;\n",
    "select sum(ename) from EMP; --invlai\n",
    "select ename , sum(sal) from EMP; -- Error at line 1/8: ORA-00937: not a single-group group function\n",
    "select sum(sal) from EMP;\n",
    "'''"
   ]
  },
  {
   "cell_type": "code",
   "execution_count": 3,
   "metadata": {},
   "outputs": [
    {
     "data": {
      "text/plain": [
       "'\\nselect count(*) from emp; --14\\nselect * from emp;\\nselect count(comm) from emp; --4 , non null value\\nselect count(1) from emp; --14\\n\\nexpalin cost : 1\\n'"
      ]
     },
     "execution_count": 3,
     "metadata": {},
     "output_type": "execute_result"
    }
   ],
   "source": [
    "# Count(*)\n",
    "'''\n",
    "select count(*) from emp; --14\n",
    "select * from emp;\n",
    "select count(comm) from emp; --4 , non null value\n",
    "select count(1) from emp; --14\n",
    "\n",
    "expalin cost : 1\n",
    "'''"
   ]
  },
  {
   "cell_type": "code",
   "execution_count": 4,
   "metadata": {},
   "outputs": [
    {
     "data": {
      "text/plain": [
       "\"\\nselect sum(sal) from emp;\\nselect sum(sal) from emp where job='MANAGER';\\n\""
      ]
     },
     "execution_count": 4,
     "metadata": {},
     "output_type": "execute_result"
    }
   ],
   "source": [
    "# Aggregate Functions And the where Clause\n",
    "'''\n",
    "select sum(sal) from emp;\n",
    "select sum(sal) from emp where job='MANAGER';\n",
    "'''"
   ]
  },
  {
   "cell_type": "code",
   "execution_count": 5,
   "metadata": {},
   "outputs": [
    {
     "data": {
      "text/plain": [
       "'\\nselect job, sum(sal) from emp; -- not a single-group group function\\nselect job, sum(sal) from emp GROUP BY job;\\nselect job, avg(sal) from emp GROUP BY job;\\nselect sum(sal) from emp GROUP BY job; \\n\\n\\nselect job, sum(sal) from emp \\nGROUP BY job \\norder by sum(sal); \\n\\nselect job, sum(sal) as total_salary from emp \\nGROUP BY job \\norder by total_salary DESC; \\n\\n'"
      ]
     },
     "execution_count": 5,
     "metadata": {},
     "output_type": "execute_result"
    }
   ],
   "source": [
    "# Aggregate Functions And Group By\n",
    "# Single Column Group BY \n",
    "'''\n",
    "select job, sum(sal) from emp; -- not a single-group group function\n",
    "select job, sum(sal) from emp GROUP BY job;\n",
    "select job, avg(sal) from emp GROUP BY job;\n",
    "select sum(sal) from emp GROUP BY job; \n",
    "\n",
    "\n",
    "select job, sum(sal) from emp \n",
    "GROUP BY job \n",
    "order by sum(sal); \n",
    "\n",
    "select job, sum(sal) as total_salary from emp \n",
    "GROUP BY job \n",
    "order by total_salary DESC; \n",
    "\n",
    "'''"
   ]
  },
  {
   "cell_type": "code",
   "execution_count": 6,
   "metadata": {},
   "outputs": [
    {
     "data": {
      "text/plain": [
       "'\\nselect deptno,job, sum(sal) as avg_salary from emp \\nGROUP BY deptno,job \\norder by deptno; \\n'"
      ]
     },
     "execution_count": 6,
     "metadata": {},
     "output_type": "execute_result"
    }
   ],
   "source": [
    "# Multi Column Group BY \n",
    "'''\n",
    "select deptno,job, sum(sal) as avg_salary from emp \n",
    "GROUP BY deptno,job \n",
    "order by deptno; \n",
    "'''"
   ]
  },
  {
   "cell_type": "code",
   "execution_count": 8,
   "metadata": {},
   "outputs": [
    {
     "data": {
      "text/plain": [
       "'\\nselect deptno,job, sum(sal) as avg_salary from emp \\nGROUP BY job \\norder by deptno;  -- not a GROUP BY expression\\n\\nselect deptno, min(job), sum(sal) as avg_salary from emp \\nGROUP BY deptno ;\\n'"
      ]
     },
     "execution_count": 8,
     "metadata": {},
     "output_type": "execute_result"
    }
   ],
   "source": [
    "# Non-Aggregated Columns\n",
    "'''\n",
    "select deptno,job, sum(sal) as avg_salary from emp \n",
    "GROUP BY job \n",
    "order by deptno;  -- not a GROUP BY expression\n",
    "\n",
    "select deptno, min(job), sum(sal) as avg_salary from emp \n",
    "GROUP BY deptno ;\n",
    "'''"
   ]
  },
  {
   "cell_type": "code",
   "execution_count": 9,
   "metadata": {},
   "outputs": [
    {
     "data": {
      "text/plain": [
       "'\\nselect job, deptno, sum(sal) as avg_salary from emp \\nwhere deptno=30\\nGROUP BY job,deptno ;\\n\\nselect job, deptno, sum(sal) as avg_salary from emp \\nGROUP BY job,deptno\\nhaving deptno=30 ;\\n\\n-- filter where sum of salary is 3000\\nselect job, deptno, sum(sal) as total_salary from emp \\nwhere sum(sal) >3000\\nGROUP BY job,deptno ; --  group function is not allowed here\\n\\nselect job, deptno, sum(sal) as total_salary from emp \\nGROUP BY job,deptno\\nhaving sum(sal) > 3000;\\n\\n\\nselect job, deptno, sum(sal) as total_salary from emp \\nGROUP BY job,deptno\\nhaving total_salary > 3000; --  \"TOTAL_SALARY\": invalid identifier\\n\\n'"
      ]
     },
     "execution_count": 9,
     "metadata": {},
     "output_type": "execute_result"
    }
   ],
   "source": [
    "# Group By And The Having Clause\n",
    "'''\n",
    "select job, deptno, sum(sal) as avg_salary from emp \n",
    "where deptno=30\n",
    "GROUP BY job,deptno ;\n",
    "\n",
    "select job, deptno, sum(sal) as avg_salary from emp \n",
    "GROUP BY job,deptno\n",
    "having deptno=30 ;\n",
    "\n",
    "-- filter where sum of salary is 3000\n",
    "select job, deptno, sum(sal) as total_salary from emp \n",
    "where sum(sal) >3000\n",
    "GROUP BY job,deptno ; --  group function is not allowed here\n",
    "\n",
    "select job, deptno, sum(sal) as total_salary from emp \n",
    "GROUP BY job,deptno\n",
    "having sum(sal) > 3000;\n",
    "\n",
    "\n",
    "select job, deptno, sum(sal) as total_salary from emp \n",
    "GROUP BY job,deptno\n",
    "having total_salary > 3000; --  \"TOTAL_SALARY\": invalid identifier\n",
    "\n",
    "'''"
   ]
  },
  {
   "cell_type": "code",
   "execution_count": 10,
   "metadata": {},
   "outputs": [
    {
     "data": {
      "text/plain": [
       "'\\n'"
      ]
     },
     "execution_count": 10,
     "metadata": {},
     "output_type": "execute_result"
    }
   ],
   "source": [
    "# Group By On Numerical Fields\n",
    "'''\n",
    "'''"
   ]
  },
  {
   "cell_type": "code",
   "execution_count": 11,
   "metadata": {},
   "outputs": [
    {
     "data": {
      "text/plain": [
       "'\\nselect * from EMP ORDER BY SAL;\\nselect * from EMP ORDER BY SAL DESC;\\nselect * from EMP ORDER BY SAL ASC;\\n\\nselect DEPTNO,JOB, SUM(SAL) from EMP \\nGROUP BY DEPTNO,JOB\\nORDER BY SUM(SAL) DESC;\\n\\nselect DEPTNO,JOB, SUM(SAL) as total_sal from EMP \\nGROUP BY DEPTNO,JOB\\nORDER BY total_sal DESC;\\n\\n'"
      ]
     },
     "execution_count": 11,
     "metadata": {},
     "output_type": "execute_result"
    }
   ],
   "source": [
    "# Order By\n",
    "'''\n",
    "select * from EMP ORDER BY SAL;\n",
    "select * from EMP ORDER BY SAL DESC;\n",
    "select * from EMP ORDER BY SAL ASC;\n",
    "\n",
    "select DEPTNO,JOB, SUM(SAL) from EMP \n",
    "GROUP BY DEPTNO,JOB\n",
    "ORDER BY SUM(SAL) DESC;\n",
    "\n",
    "select DEPTNO,JOB, SUM(SAL) as total_sal from EMP \n",
    "GROUP BY DEPTNO,JOB\n",
    "ORDER BY total_sal DESC;\n",
    "\n",
    "'''"
   ]
  },
  {
   "cell_type": "code",
   "execution_count": 12,
   "metadata": {},
   "outputs": [
    {
     "data": {
      "text/plain": [
       "'\\n 1. WHERE \\n 2. GROUP BY \\n 3. HAVING \\n 4. Order BY\\n'"
      ]
     },
     "execution_count": 12,
     "metadata": {},
     "output_type": "execute_result"
    }
   ],
   "source": [
    "# Where , Group By , Having & Order By\n",
    "# Order of Execution\n",
    "'''\n",
    " 1. WHERE \n",
    " 2. GROUP BY \n",
    " 3. HAVING \n",
    " 4. Order BY\n",
    "'''"
   ]
  },
  {
   "cell_type": "code",
   "execution_count": 14,
   "metadata": {},
   "outputs": [
    {
     "data": {
      "text/plain": [
       "\"\\nPlease attempt as many questions as you can, I will go over the solutions in the next lecture. Good luck!\\nFor questions 1-3 we will be using the Countries Sample Dataset\\nQ1) What are the average, minimum and maximum population values for all countries in the EBA_COUNTRIES table?\\nselect  avg(population), min(population),max(population) FROM EBA_COUNTRIES\\n\\nselect * from eba_countries;\\n\\nQ2) Which Capital City has the 5th highest population?\\nselect * from eba_countries order by population desc;\\n(select top 5 capital , population from eba_countries order by population desc)\\n\\n\\nQ3) Using the EBA_COUNTRIES table find the SUB_REGION_ID that has the 5th highest population\\nselect\\n sub_region_id,\\n sum(population)\\nfrom eba_countries\\ngroup by sub_region_id\\norder by sum(population) desc;\\n\\n\\nFor question 4 we will be using the Employees Sample Dataset\\n\\nQuestion 4)\\nWhich DEPTNO in the EMP table pays their managers the highest average salary?\\nselect * from EMP;\\nselect deptno, round(avg(sal),2) as DEPT_AVG_SAL from emp group by deptno;\\n\\nselect \\ndeptno, avg(sal) as dept_avg_sal \\nfrom emp \\n-- WHERE job = 'MANAGER'\\nGROUP BY deptno\\nHAVING sal > avg(sal);\\n\\n--- Soltion 1\\nselect\\n deptno,\\n job,\\n avg(sal)\\nfrom emp\\ngroup by deptno, job\\nhaving job = 'MANAGER';\\n\\nor\\n\\nselect\\n deptno,\\n job,\\n avg(sal)\\nfrom emp\\nwhere job = 'MANAGER'\\ngroup by deptno, job;\\n\""
      ]
     },
     "execution_count": 14,
     "metadata": {},
     "output_type": "execute_result"
    }
   ],
   "source": [
    "# Assignment Question\n",
    "'''\n",
    "Please attempt as many questions as you can, I will go over the solutions in the next lecture. Good luck!\n",
    "For questions 1-3 we will be using the Countries Sample Dataset\n",
    "Q1) What are the average, minimum and maximum population values for all countries in the EBA_COUNTRIES table?\n",
    "select  avg(population), min(population),max(population) FROM EBA_COUNTRIES\n",
    "\n",
    "select * from eba_countries;\n",
    "\n",
    "Q2) Which Capital City has the 5th highest population?\n",
    "select * from eba_countries order by population desc;\n",
    "(select top 5 capital , population from eba_countries order by population desc)\n",
    "\n",
    "\n",
    "Q3) Using the EBA_COUNTRIES table find the SUB_REGION_ID that has the 5th highest population\n",
    "select\n",
    " sub_region_id,\n",
    " sum(population)\n",
    "from eba_countries\n",
    "group by sub_region_id\n",
    "order by sum(population) desc;\n",
    "\n",
    "\n",
    "For question 4 we will be using the Employees Sample Dataset\n",
    "\n",
    "Question 4)\n",
    "Which DEPTNO in the EMP table pays their managers the highest average salary?\n",
    "select * from EMP;\n",
    "select deptno, round(avg(sal),2) as DEPT_AVG_SAL from emp group by deptno;\n",
    "\n",
    "select \n",
    "deptno, avg(sal) as dept_avg_sal \n",
    "from emp \n",
    "-- WHERE job = 'MANAGER'\n",
    "GROUP BY deptno\n",
    "HAVING sal > avg(sal);\n",
    "\n",
    "--- Soltion 1\n",
    "select\n",
    " deptno,\n",
    " job,\n",
    " avg(sal)\n",
    "from emp\n",
    "group by deptno, job\n",
    "having job = 'MANAGER';\n",
    "\n",
    "or\n",
    "\n",
    "select\n",
    " deptno,\n",
    " job,\n",
    " avg(sal)\n",
    "from emp\n",
    "where job = 'MANAGER'\n",
    "group by deptno, job;\n",
    "'''"
   ]
  }
 ],
 "metadata": {
  "kernelspec": {
   "display_name": "Python 3",
   "language": "python",
   "name": "python3"
  },
  "language_info": {
   "codemirror_mode": {
    "name": "ipython",
    "version": 3
   },
   "file_extension": ".py",
   "mimetype": "text/x-python",
   "name": "python",
   "nbconvert_exporter": "python",
   "pygments_lexer": "ipython3",
   "version": "3.9.12"
  },
  "orig_nbformat": 4
 },
 "nbformat": 4,
 "nbformat_minor": 2
}
