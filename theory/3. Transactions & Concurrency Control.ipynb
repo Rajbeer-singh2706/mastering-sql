{
 "cells": [
  {
   "cell_type": "markdown",
   "metadata": {},
   "source": [
    "### **Transactions & Concurrency Control**"
   ]
  },
  {
   "cell_type": "code",
   "execution_count": null,
   "metadata": {
    "vscode": {
     "languageId": "plaintext"
    }
   },
   "outputs": [],
   "source": [
    "'''\n",
    "Q) What are ACID properties in databases, and why are they important for ensuring consistency?\n",
    "Q) What are the different types of transaction isolation levels? How do they affect concurrency and performance?\n",
    "Q) Explain the difference between pessimistic and optimistic locking. When would you use each?\n",
    "Q) How do deadlocks occur in a database, and how would you prevent or resolve them?\n",
    "Q) What is MVCC (Multi-Version Concurrency Control), and how does it work in databases like PostgreSQL?\n",
    "'''\n",
    "\n",
    "# \n",
    "'''\n",
    "What is a transaction in SQL, and why is it important?\n",
    "Explain the ACID properties (Atomicity, Consistency, Isolation, Durability).\n",
    "What is transaction isolation, and what are the different levels (e.g., read uncommitted, read committed, repeatable read, serializable)?\n",
    "What are common issues related to concurrent transactions (e.g., deadlocks, race conditions, lost updates), and how would you address them?\n",
    "'''"
   ]
  }
 ],
 "metadata": {
  "language_info": {
   "name": "python"
  }
 },
 "nbformat": 4,
 "nbformat_minor": 2
}
