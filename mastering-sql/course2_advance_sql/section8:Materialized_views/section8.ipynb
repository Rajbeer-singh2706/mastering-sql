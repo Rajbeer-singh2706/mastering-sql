{
 "cells": [
  {
   "cell_type": "code",
   "execution_count": 14,
   "metadata": {},
   "outputs": [
    {
     "data": {
      "text/plain": [
       "'\\nThis section focuses on Materialized Views.\\n * A Materialized View is a physically stored table that contains the result set of a query, whereas a normal view is not stored physically \\n on disc.\\n * This section will teach you about Materialized Views and highlight the main benefits.\\n'"
      ]
     },
     "execution_count": 14,
     "metadata": {},
     "output_type": "execute_result"
    }
   ],
   "source": [
    "# Section 8: Materialized Views\n",
    "'''\n",
    "This section focuses on Materialized Views.\n",
    " * A Materialized View is a physically stored table that contains the result set of a query, whereas a normal view is not stored physically \n",
    " on disc.\n",
    " * This section will teach you about Materialized Views and highlight the main benefits.\n",
    "'''"
   ]
  },
  {
   "cell_type": "code",
   "execution_count": 15,
   "metadata": {},
   "outputs": [
    {
     "data": {
      "text/plain": [
       "'\\n - pdf\\n'"
      ]
     },
     "execution_count": 15,
     "metadata": {},
     "output_type": "execute_result"
    }
   ],
   "source": [
    "# Quick Recap on Views\n",
    "'''\n",
    " - pdf\n",
    "'''"
   ]
  },
  {
   "cell_type": "code",
   "execution_count": 28,
   "metadata": {},
   "outputs": [
    {
     "data": {
      "text/plain": [
       "'\\nSELECT emp.* ,dept.dname from emp join dept on emp.deptno = dept.deptno; --cost is 6\\n\\ncreate materialized view my_emp_dept\\nAS \\nSELECT emp.* ,dept.dname from emp join dept on emp.deptno = dept.deptno;\\n\\nselect * from my_emp_dept; -- cost is 3\\n\\ncreate view v_emp_dept_t\\nAS \\nSELECT emp.* ,dept.dname from emp join dept on emp.deptno = dept.deptno;\\n\\nselect * from v_emp_dept_t; --cost is 6\\n\\n'"
      ]
     },
     "execution_count": 28,
     "metadata": {},
     "output_type": "execute_result"
    }
   ],
   "source": [
    "# What are Materialized Views\n",
    "'''\n",
    "SELECT emp.* ,dept.dname from emp join dept on emp.deptno = dept.deptno; --cost is 6\n",
    "\n",
    "create materialized view my_emp_dept\n",
    "AS \n",
    "SELECT emp.* ,dept.dname from emp join dept on emp.deptno = dept.deptno;\n",
    "\n",
    "select * from my_emp_dept; -- cost is 3\n",
    "\n",
    "create view v_emp_dept_t\n",
    "AS \n",
    "SELECT emp.* ,dept.dname from emp join dept on emp.deptno = dept.deptno;\n",
    "\n",
    "select * from v_emp_dept_t; --cost is 6\n",
    "\n",
    "'''"
   ]
  },
  {
   "cell_type": "code",
   "execution_count": 16,
   "metadata": {},
   "outputs": [
    {
     "data": {
      "text/plain": [
       "'\\n'"
      ]
     },
     "execution_count": 16,
     "metadata": {},
     "output_type": "execute_result"
    }
   ],
   "source": [
    "# Syntax\n",
    "'''\n",
    " CREATE MATERIALIZED VIEW view-name\n",
    " BUILD\n",
    "'''"
   ]
  },
  {
   "cell_type": "code",
   "execution_count": 29,
   "metadata": {},
   "outputs": [
    {
     "data": {
      "text/plain": [
       "'\\n  - pdf\\n'"
      ]
     },
     "execution_count": 29,
     "metadata": {},
     "output_type": "execute_result"
    }
   ],
   "source": [
    "# Simple And Complex Materialized Views\n",
    "'''\n",
    "  - pdf\n",
    "'''"
   ]
  },
  {
   "cell_type": "code",
   "execution_count": 31,
   "metadata": {},
   "outputs": [
    {
     "data": {
      "text/plain": [
       "'\\ncreate materialized view mv_emp_deptno10\\nbuild immediate\\nrefresh complete \\non commit \\ndisable query rewrite \\nas \\nselect * from emp where deptno=10;\\n\\n\\n\\n'"
      ]
     },
     "execution_count": 31,
     "metadata": {},
     "output_type": "execute_result"
    }
   ],
   "source": [
    "# Refresh Types\n",
    "'''\n",
    "create materialized view mv_emp_deptno10\n",
    "build immediate\n",
    "refresh fast \n",
    "on commit \n",
    "disable query rewrite \n",
    "as \n",
    "select * from emp where deptno=10;\n",
    "\n",
    "create materialized view log on emp;\n",
    "select * from all_mview_logs;\n",
    "\n",
    "drop materialized view mv_emp_deptno10;\n",
    "drop materialized view  log on emp;\n",
    "'''\n",
    "\n",
    "# refresh complete \n",
    "'''\n",
    "create materialized view mv_emp_deptno10\n",
    "build immediate\n",
    "refresh complete \n",
    "on commit \n",
    "disable query rewrite \n",
    "as \n",
    "select * from emp where deptno=10;\n",
    "\n",
    "\n",
    "\n",
    "'''\n",
    "# refresh force \n",
    "'''\n",
    "create materialized view mv_emp_deptno10\n",
    "build immediate\n",
    "refresh force \n",
    "on commit \n",
    "disable query rewrite \n",
    "as \n",
    "select * from emp where deptno=10;\n",
    "'''\n",
    "\n",
    "# select * from all_snapshots;"
   ]
  },
  {
   "cell_type": "code",
   "execution_count": 32,
   "metadata": {},
   "outputs": [
    {
     "data": {
      "text/plain": [
       "\"\\ncreate materialized view mv_emp_deptno10\\nbuild immediate\\nrefresh force \\non commit \\ndisable query rewrite \\nas \\nselect * from emp where deptno=10;\\n\\nselect * from mv_emp_deptno10;\\n\\n\\ninsert into emp values(999,'TEsT','TEST',null,sysdate,1000,0,10);\\ncommit;\\nselect * from emp;\\n\\n\""
      ]
     },
     "execution_count": 32,
     "metadata": {},
     "output_type": "execute_result"
    }
   ],
   "source": [
    "# On Commit / On Demand\n",
    "'''\n",
    "create materialized view mv_emp_deptno10\n",
    "build immediate\n",
    "refresh force \n",
    "on commit \n",
    "disable query rewrite \n",
    "as \n",
    "select * from emp where deptno=10;\n",
    "\n",
    "select * from mv_emp_deptno10;\n",
    "\n",
    "\n",
    "insert into emp values(999,'TEsT','TEST',null,sysdate,1000,0,10);\n",
    "commit;\n",
    "select * from emp;\n",
    "\n",
    "'''\n",
    "\n",
    "#### \n",
    "'''\n",
    "drop materialized view mv_emp_deptno10;\n",
    "create materialized view mv_emp_deptno10\n",
    "build immediate\n",
    "refresh force \n",
    "on demand \n",
    "disable query rewrite \n",
    "as \n",
    "select * from emp where deptno=10;\n",
    "\n",
    "select * from mv_emp_deptno10;\n",
    "insert into emp values(888,'TEST','TEST',null,sysdate,1000,0,10);\n",
    "select * from emp;\n",
    "\n",
    "-- manually refresh or scedule it \n",
    "'''\n",
    "\n",
    "####  Scedule #####\n",
    "'''\n",
    "drop materialized view mv_emp_deptno10;\n",
    "create materialized view mv_emp_deptno10\n",
    "build immediate\n",
    "refresh force \n",
    "on demand \n",
    "start with sysdate next (sysdate + 1/1440)\n",
    "disable query rewrite \n",
    "as \n",
    "select * from emp where deptno=10;\n",
    "\n",
    "select * from mv_emp_deptno10;\n",
    "insert into emp values(777,'TEST','TEST',null,sysdate,1000,0,10);\n",
    "select * from emp;\n",
    "\n",
    "-- manually refresh or scedule it \n",
    "'''"
   ]
  },
  {
   "cell_type": "code",
   "execution_count": 33,
   "metadata": {},
   "outputs": [
    {
     "data": {
      "text/plain": [
       "\"\\ndrop materialized view mv_emp_deptno10;\\ncreate materialized view mv_emp_deptno10\\nbuild immediate\\nrefresh complete \\non demand \\ndisable query rewrite \\nas \\nselect * from emp where sal>3000;\\n\\nselect * from mv_emp_deptno10;\\ninsert into emp values(888,'TEST','TEST',null,sysdate,4000,0,10);\\nselect * from emp;\\ndelete from emp where ename like 'TE%'\\n\\nbegin dbms_mview.refresh('mv_emp_deptno10', 'C'); end;\\n\\n\""
      ]
     },
     "execution_count": 33,
     "metadata": {},
     "output_type": "execute_result"
    }
   ],
   "source": [
    "# Manually Refresing Your Materialzied View\n",
    "'''\n",
    "drop materialized view mv_emp_deptno10;\n",
    "create materialized view mv_emp_deptno10\n",
    "build immediate\n",
    "refresh complete \n",
    "on demand \n",
    "disable query rewrite \n",
    "as \n",
    "select * from emp where sal>3000;\n",
    "\n",
    "select * from mv_emp_deptno10;\n",
    "insert into emp values(888,'TEST','TEST',null,sysdate,4000,0,10);\n",
    "select * from emp;\n",
    "delete from emp where ename like 'TE%'\n",
    "\n",
    "begin dbms_mview.refresh('mv_emp_deptno10', 'C'); end;\n",
    "\n",
    "'''"
   ]
  },
  {
   "cell_type": "code",
   "execution_count": 34,
   "metadata": {},
   "outputs": [
    {
     "data": {
      "text/plain": [
       "'\\ndrop materialized view mv_def;\\ncreate materialized view mv_def\\nbuild deferred\\nrefresh force \\non demand \\nstart with (sysdate + 1/1440)\\nas \\nselect * from emp;\\n\\nselect * from mv_def;\\n'"
      ]
     },
     "execution_count": 34,
     "metadata": {},
     "output_type": "execute_result"
    }
   ],
   "source": [
    "# Build Deferred\n",
    "'''\n",
    "drop materialized view mv_def;\n",
    "create materialized view mv_def\n",
    "build deferred\n",
    "refresh force \n",
    "on demand \n",
    "start with (sysdate + 1/1440)\n",
    "as \n",
    "select * from emp;\n",
    "\n",
    "select * from mv_def;\n",
    "'''"
   ]
  },
  {
   "cell_type": "code",
   "execution_count": 35,
   "metadata": {},
   "outputs": [
    {
     "data": {
      "text/plain": [
       "'\\ndrop materialized view mv_eqr;\\ncreate materialized view mv_eqr\\nbuild immediate\\nrefresh force \\non commit \\nenable query rewrite\\nas \\nselect * from emp where sal > 2000;\\n'"
      ]
     },
     "execution_count": 35,
     "metadata": {},
     "output_type": "execute_result"
    }
   ],
   "source": [
    "# Query Rewrite\n",
    "'''\n",
    "drop materialized view mv_eqr;\n",
    "create materialized view mv_eqr\n",
    "build immediate\n",
    "refresh force \n",
    "on commit \n",
    "enable query rewrite\n",
    "as \n",
    "select * from emp where sal > 2000;\n",
    "'''"
   ]
  },
  {
   "cell_type": "code",
   "execution_count": 36,
   "metadata": {},
   "outputs": [
    {
     "data": {
      "text/plain": [
       "'\\n create table empdep as select emp.* ,dept.dname from emp left join dept on emp.deptno = dept.deptno where 1 = 2;\\nselect * from empdep;\\n\\n\\ncreate materialized view empdep\\non prebuilt table \\nrefresh complete \\non commit \\nas \\nselect emp.*, dept.dname from emp join dept on emp.deptno = dept.deptno;\\n\\n\\nselect * from empdep;\\n\\ndrop table empdep; -- must use DROP MATERIALIZED VIEW to drop \\ndrop materialized view empdep;\\ndrop table empdep;\\n\\n'"
      ]
     },
     "execution_count": 36,
     "metadata": {},
     "output_type": "execute_result"
    }
   ],
   "source": [
    "# Converting An Existing Table into A Materialied View\n",
    "'''\n",
    " create table empdep as select emp.* ,dept.dname from emp left join dept on emp.deptno = dept.deptno where 1 = 2;\n",
    "select * from empdep;\n",
    "\n",
    "\n",
    "create materialized view empdep\n",
    "on prebuilt table \n",
    "refresh complete \n",
    "on commit \n",
    "as \n",
    "select emp.*, dept.dname from emp join dept on emp.deptno = dept.deptno;\n",
    "\n",
    "\n",
    "select * from empdep;\n",
    "\n",
    "drop table empdep; -- must use DROP MATERIALIZED VIEW to drop \n",
    "drop materialized view empdep;\n",
    "drop table empdep;\n",
    "\n",
    "'''"
   ]
  },
  {
   "cell_type": "code",
   "execution_count": 37,
   "metadata": {},
   "outputs": [
    {
     "data": {
      "text/plain": [
       "'\\ndrop materialized view mv_join;\\n\\ncreate materialized view mv_join\\nbuild immediate\\nrefresh complete \\non commit\\ndisable query rewrite \\nas \\n-- select emp.*, dept.dname from emp left join dept on emp.deptno = dept.deptno; -- cannot set the ON COMMIT refresh attribute for the materialized view\\nselect emp.*, dept.dname from emp inner join dept on emp.deptno = dept.deptno;\\n\\n\\ncreate materialized view mv_join\\nbuild immediate\\nrefresh complete \\non demand\\ndisable query rewrite \\nas \\nselect emp.*, dept.dname from emp left join dept on emp.deptno = dept.deptno; \\n\\n'"
      ]
     },
     "execution_count": 37,
     "metadata": {},
     "output_type": "execute_result"
    }
   ],
   "source": [
    "# Additional Guidance\n",
    "'''\n",
    "drop materialized view mv_join;\n",
    "\n",
    "create materialized view mv_join\n",
    "build immediate\n",
    "refresh complete \n",
    "on commit\n",
    "disable query rewrite \n",
    "as \n",
    "-- select emp.*, dept.dname from emp left join dept on emp.deptno = dept.deptno; -- cannot set the ON COMMIT refresh attribute for the materialized view\n",
    "select emp.*, dept.dname from emp inner join dept on emp.deptno = dept.deptno;\n",
    "\n",
    "\n",
    "create materialized view mv_join\n",
    "build immediate\n",
    "refresh complete \n",
    "on demand\n",
    "disable query rewrite \n",
    "as \n",
    "select emp.*, dept.dname from emp left join dept on emp.deptno = dept.deptno; \n",
    "\n",
    "'''"
   ]
  },
  {
   "cell_type": "code",
   "execution_count": 27,
   "metadata": {},
   "outputs": [
    {
     "data": {
      "text/plain": [
       "'\\n'"
      ]
     },
     "execution_count": 27,
     "metadata": {},
     "output_type": "execute_result"
    }
   ],
   "source": [
    "# Useful Links an resources\n",
    "'''\n",
    "'''"
   ]
  }
 ],
 "metadata": {
  "kernelspec": {
   "display_name": "Python 3",
   "language": "python",
   "name": "python3"
  },
  "language_info": {
   "codemirror_mode": {
    "name": "ipython",
    "version": 3
   },
   "file_extension": ".py",
   "mimetype": "text/x-python",
   "name": "python",
   "nbconvert_exporter": "python",
   "pygments_lexer": "ipython3",
   "version": "3.9.12"
  },
  "orig_nbformat": 4
 },
 "nbformat": 4,
 "nbformat_minor": 2
}
