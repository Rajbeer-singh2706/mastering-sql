{
 "cells": [
  {
   "cell_type": "code",
   "execution_count": 1,
   "metadata": {},
   "outputs": [
    {
     "data": {
      "text/plain": [
       "'\\nAfter completing this section you will learn:\\n * The main logical and comparison operators in SQL\\n * How to use the Where clause to filter your query results using logical and comparison operators\\n * How to use the where clause as part of Data Manipulation Language commands to update records in a table\\n * How to use the CASE Statement which is a row level conditional function\\n\\nWe will then round this section off with some practical assignment questions which will give you a chance to develop \\nyour SQL skills and knowledge further.\\n\\n'"
      ]
     },
     "execution_count": 1,
     "metadata": {},
     "output_type": "execute_result"
    }
   ],
   "source": [
    "# Section 5: Operators and the Where Cluase \n",
    "'''\n",
    "After completing this section you will learn:\n",
    " * The main logical and comparison operators in SQL\n",
    " * How to use the Where clause to filter your query results using logical and comparison operators\n",
    " * How to use the where clause as part of Data Manipulation Language commands to update records in a table\n",
    " * How to use the CASE Statement which is a row level conditional function\n",
    "\n",
    "We will then round this section off with some practical assignment questions which will give you a chance to develop \n",
    "your SQL skills and knowledge further.\n",
    "\n",
    "'''"
   ]
  },
  {
   "cell_type": "code",
   "execution_count": 3,
   "metadata": {},
   "outputs": [
    {
     "data": {
      "text/plain": [
       "'\\n\\nselect * FROM eba_countries WHERE population >= 300000000 ;-- 300 miliion\\n\\nselect * FROM eba_countries WHERE population <= 500000 ;-- 500 thousand \\n\\nselect * FROM eba_countries WHERE name = \\'Argentina\\';\\nselect * FROM eba_countries WHERE name = \"Argentina\"; --invalid\\n\\nselect * FROM eba_countries WHERE name like \\'A%\\'; \\nselect * FROM eba_countries WHERE name like \\'%land\\';\\n\\nselect * FROM eba_countries WHERE name like \\'%G%\\' and population>20000000; --20 million\\n\\n-- OR \\nselect * FROM eba_countries WHERE name = \\'Argentina\\' or name = \\'Germany\\' or name = \\'France\\'; \\nselect * FROM eba_countries WHERE name IN (\\'Argentina\\', \\'Germany\\' , \\'France\\'); \\n\\n'"
      ]
     },
     "execution_count": 3,
     "metadata": {},
     "output_type": "execute_result"
    }
   ],
   "source": [
    "# Operators and the Where clause \n",
    "'''\n",
    "\n",
    "select * FROM eba_countries WHERE population >= 300000000 ;-- 300 miliion\n",
    "\n",
    "select * FROM eba_countries WHERE population <= 500000 ;-- 500 thousand \n",
    "\n",
    "select * FROM eba_countries WHERE name = 'Argentina';\n",
    "select * FROM eba_countries WHERE name = \"Argentina\"; --invalid\n",
    "\n",
    "select * FROM eba_countries WHERE name like 'A%'; \n",
    "select * FROM eba_countries WHERE name like '%land';\n",
    "\n",
    "select * FROM eba_countries WHERE name like '%G%' and population>20000000; --20 million\n",
    "\n",
    "-- OR \n",
    "select * FROM eba_countries WHERE name = 'Argentina' or name = 'Germany' or name = 'France'; \n",
    "select * FROM eba_countries WHERE name IN ('Argentina', 'Germany' , 'France'); \n",
    "\n",
    "'''"
   ]
  },
  {
   "cell_type": "code",
   "execution_count": 4,
   "metadata": {},
   "outputs": [
    {
     "data": {
      "text/plain": [
       "\"\\n * SQL Keywords such as SELECT, FROM and WHERE are CASE INSENSITIVE\\n * Table and Column names are also CASE INSENSITIVE\\n * Values contained in records are CASE SENSITIVE when they are part of most string data types including char, varchar, nchar and nvarchar\\n\\nIf you have a table named EMP with two string columns as below\\nNAME JOB\\nCarlos Accountant\\nAndrew Admin Assistant\\n\\nThen the below query would be fine as the table name and column names are case insensitive\\n\\nSelect name, job from emp;\\n\\nHowever, the following query would return no results as the string values are case sensitive within the records of a table\\nSelect * from emp where name = ’CARLOS’;\\n\\n\\nYou would need to amend the query so that the search condition of 'CARLOS' is changed to reflect the same case sensitivity of \\nthe value stored in the table (which is 'Carlos') to return a match:\\nSelect * from emp where name = ‘Carlos’;\\n\\nSo remember that case sensitivity is important when referring to string values in your table\\n\\n\""
      ]
     },
     "execution_count": 4,
     "metadata": {},
     "output_type": "execute_result"
    }
   ],
   "source": [
    "# An Important Note About Case Sensitivity In SQL\n",
    "'''\n",
    " * SQL Keywords such as SELECT, FROM and WHERE are CASE INSENSITIVE\n",
    " * Table and Column names are also CASE INSENSITIVE\n",
    " * Values contained in records are CASE SENSITIVE when they are part of most string data types including char, varchar, nchar and nvarchar\n",
    "\n",
    "If you have a table named EMP with two string columns as below\n",
    "NAME JOB\n",
    "Carlos Accountant\n",
    "Andrew Admin Assistant\n",
    "\n",
    "Then the below query would be fine as the table name and column names are case insensitive\n",
    "\n",
    "Select name, job from emp;\n",
    "\n",
    "However, the following query would return no results as the string values are case sensitive within the records of a table\n",
    "Select * from emp where name = ’CARLOS’;\n",
    "\n",
    "\n",
    "You would need to amend the query so that the search condition of 'CARLOS' is changed to reflect the same case sensitivity of \n",
    "the value stored in the table (which is 'Carlos') to return a match:\n",
    "Select * from emp where name = ‘Carlos’;\n",
    "\n",
    "So remember that case sensitivity is important when referring to string values in your table\n",
    "\n",
    "'''"
   ]
  },
  {
   "cell_type": "code",
   "execution_count": 8,
   "metadata": {},
   "outputs": [
    {
     "data": {
      "text/plain": [
       "\"\\nselect \\n  name,\\n  case \\n     when name like 'A%' then 1\\n     else 0\\n  end as Flag_A\\nFROM eba_countries;\\n\\n-- \\nselect \\n  name,\\n  area_km2,\\n  case \\n     when area_km2 >500000 then 'Large'\\n     when area_km2>=100000 then 'Medium'\\n     when area_km2>=0 then 'SMALL'\\n     else 'OTHER'\\n  end as COUNTRY_SIZE_CLASS\\nFROM eba_countries;\\n\""
      ]
     },
     "execution_count": 8,
     "metadata": {},
     "output_type": "execute_result"
    }
   ],
   "source": [
    "# Introduction & Example  to Case Statement\n",
    "'''\n",
    " CASE \n",
    "   WHEN condition1 THEN result1 \n",
    "   WHEN condition2 THEN result2\n",
    "   WHEN condition3 THEN result3 \n",
    "   WHEN conditionN THEN resultN \n",
    "   ELSE RESULT \n",
    " END;\n",
    "\n",
    "'''\n",
    "# to remember syntax remaber if condition \n",
    "'''\n",
    " if <==> WHEN \n",
    "'''\n",
    "\n",
    "# Example \n",
    "'''\n",
    "select \n",
    "  name,\n",
    "  case \n",
    "     when name like 'A%' then 1\n",
    "     else 0\n",
    "  end as Flag_A\n",
    "FROM eba_countries;\n",
    "\n",
    "-- \n",
    "select \n",
    "  name,\n",
    "  area_km2,\n",
    "  case \n",
    "     when area_km2 >500000 then 'Large'\n",
    "     when area_km2>=100000 then 'Medium'\n",
    "     when area_km2>=0 then 'SMALL'\n",
    "     else 'OTHER'\n",
    "  end as COUNTRY_SIZE_CLASS\n",
    "FROM eba_countries;\n",
    "'''"
   ]
  },
  {
   "cell_type": "code",
   "execution_count": 9,
   "metadata": {},
   "outputs": [
    {
     "data": {
      "text/plain": [
       "\"\\ncreate table eba_countries_dup AS ( select * from eba_countries );\\nselect * from eba_countries_dup;\\n\\nupdate eba_countries_dup set POPULATION=100 where name like 'A%'\\nselect * from eba_countries_dup where name like 'A%';\\n\\nupdate eba_countries_dup set POPULATION=20 where name = 'Belgium';\\nselect * from eba_countries_dup;\\n\""
      ]
     },
     "execution_count": 9,
     "metadata": {},
     "output_type": "execute_result"
    }
   ],
   "source": [
    "# Revisting the DML Update Command\n",
    "'''\n",
    "create table eba_countries_dup AS ( select * from eba_countries );\n",
    "select * from eba_countries_dup;\n",
    "\n",
    "update eba_countries_dup set POPULATION=100 where name like 'A%'\n",
    "select * from eba_countries_dup where name like 'A%';\n",
    "\n",
    "update eba_countries_dup set POPULATION=20 where name = 'Belgium';\n",
    "select * from eba_countries_dup;\n",
    "'''"
   ]
  },
  {
   "cell_type": "code",
   "execution_count": 7,
   "metadata": {},
   "outputs": [],
   "source": [
    "# Assignment Questions\n",
    "'''\n",
    "Please attempt as many questions as you can, I will go over the solutions in the next lecture. Good luck!\n",
    "\n",
    "(For these assignment questions we will be using the Countries Sample Dataset)\n",
    "\n",
    "Question 1)\n",
    "Filter the EBA_COUNTRIES table to retrieve records have have a population greater than or equal to 10 million and less than or equal to 20 million\n",
    "select * From EBA_COUNTRIES where population >= 10000000 and population <= 20000000 ;\n",
    "select * from eba_countries where population between 10000000 and 20000000;\n",
    "\n",
    "\n",
    "Question 2)\n",
    "Create a copy of EBA_COUNTRIES and call it EBA_COUNTRIES_COPY. Update the “United Kingdom of Great Britain and Northern Ireland” to “United Kingdom” in the name field of the new table\n",
    "create table EBA_COUNTRIES_COPY AS ( select * from EBA_COUNTRIES);\n",
    "update EBA_COUNTRIES_COPY set name = 'United Kingdom' where name = 'United Kingdom of Great Britain and Northern Ireland';\n",
    "select * from EBA_COUNTRIES_COPY  where name like '%Kingdom';\n",
    "\n",
    "Question 3)\n",
    "Write as SQL query to retrieve only those records from EBA_COUNTRIES that are in region 10, 20 or 30\n",
    "select * from EBA_COUNTRIES where region_id in (10, 20, 30)\n",
    "\n",
    "\n",
    "Question 4)\n",
    "Filter records to show only those countries that begin with the letter “I” and contain the letter ”d” in the EBA_COUNTRIES table\n",
    "select * from EBA_COUNTRIES where name like 'I%d%';\n",
    "\n",
    "\n",
    "\n",
    "Question 5)\n",
    "Query the EBA_COUNTRIES table to return only those records that have a population greater than 200 million and create a new column that holds the value 1 for all records where REGION_ID=10 and 0 if not.\n",
    "select \n",
    " name, \n",
    " case \n",
    "    WHEN region_id = 10 then 1\n",
    "    else 0\n",
    "  END as RESULT\n",
    "\n",
    "from EBA_COUNTRIES \n",
    "where population >= 200000000;\n",
    "\n",
    "\n",
    "(Remember to qualify your column reference if you are using the * wildcard)\n",
    "'''"
   ]
  },
  {
   "cell_type": "code",
   "execution_count": null,
   "metadata": {},
   "outputs": [],
   "source": []
  }
 ],
 "metadata": {
  "kernelspec": {
   "display_name": "Python 3",
   "language": "python",
   "name": "python3"
  },
  "language_info": {
   "codemirror_mode": {
    "name": "ipython",
    "version": 3
   },
   "file_extension": ".py",
   "mimetype": "text/x-python",
   "name": "python",
   "nbconvert_exporter": "python",
   "pygments_lexer": "ipython3",
   "version": "3.9.12"
  },
  "orig_nbformat": 4
 },
 "nbformat": 4,
 "nbformat_minor": 2
}
