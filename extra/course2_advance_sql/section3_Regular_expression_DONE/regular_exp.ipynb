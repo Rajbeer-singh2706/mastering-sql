{
 "cells": [
  {
   "cell_type": "code",
   "execution_count": 15,
   "metadata": {},
   "outputs": [
    {
     "data": {
      "text/plain": [
       "'\\nIn this section we will be focusing on Regular Expressions.\\nSpecifically, on the metacharacters used for pattern matching in RegEx functions along with the main RegEx functions in Oracle SQL, which are:\\n\\nREGEXP_LIKE\\nREGEXP_INSTR\\nREGEXP_SUBSTR\\nREGEXP_REPLACE\\n\\nI have also included documentation for MySQL and SQL Server.\\n'"
      ]
     },
     "execution_count": 15,
     "metadata": {},
     "output_type": "execute_result"
    }
   ],
   "source": [
    "# Section 3: Regular Expression(RegEx)\n",
    "# Overview\n",
    "'''\n",
    "* In this section we will be focusing on Regular Expressions.\n",
    "* Specifically, on the metacharacters used for pattern matching in RegEx functions along with the main \n",
    "  RegEx functions in Oracle SQL, which are:\n",
    "\n",
    " - REGEXP_LIKE\n",
    " - REGEXP_INSTR\n",
    " - REGEXP_SUBSTR\n",
    " - REGEXP_REPLACE\n",
    "\n",
    "I have also included documentation for MySQL and SQL Server.\n",
    "'''"
   ]
  },
  {
   "cell_type": "code",
   "execution_count": 3,
   "metadata": {},
   "outputs": [
    {
     "data": {
      "text/plain": [
       "'\\n'"
      ]
     },
     "execution_count": 3,
     "metadata": {},
     "output_type": "execute_result"
    }
   ],
   "source": [
    "# Regular Expression and Metacharacters\n",
    "'''\n",
    " - What are Regular Expression\n",
    "\n",
    "'''\n",
    "# Pattern Mathcing With The  \".\" , \"+\", \"?\", \"*\" Metacharacters\n",
    "'''\n",
    "'''"
   ]
  },
  {
   "cell_type": "code",
   "execution_count": 4,
   "metadata": {},
   "outputs": [],
   "source": [
    "# Pattern Matching with The '\\d'  and '\\w' Metacharacters\n",
    "''' \n",
    " - \\d => any character digits \n",
    " - \\w => any character word\n",
    "'''"
   ]
  },
  {
   "cell_type": "code",
   "execution_count": 19,
   "metadata": {},
   "outputs": [
    {
     "data": {
      "text/plain": [
       "'\\n- Interval => \\n- Lists => [ ] \\n- Groups => ()\\n\\n'"
      ]
     },
     "execution_count": 19,
     "metadata": {},
     "output_type": "execute_result"
    }
   ],
   "source": [
    "# Pattern Matching with Intervals , Lists and groups \n",
    "\n",
    "## INtervals \n",
    "'''\n",
    "- Interval => {m,} , {,n} , {m,n}  , m => Lower limit , n => upper limit \n",
    "  \\d\\d\\d => \\d{3}\n",
    "  \\d\\d\\d....\\d => \\d{100}\n",
    "- Lists => [ ] \n",
    "- Groups => ()\n",
    "\n",
    "'''\n",
    "# \n",
    "'''\n",
    "  \\w => [A-Za-z0-9]\n",
    "  pattern = \"\\d{2}\\w{3}'\n",
    "  string = \"234sf\"-> valid\n",
    "  23 -> digit \n",
    "  4sf => word [ Alpha Numeric character]\n",
    "'''\n",
    "\n",
    "# List [] & Groups ()\n",
    "'''\n",
    "\n",
    "pattern = \"(erf)(oo)\"\n",
    "string  = \"erfoo\" -> valid\n",
    "\n",
    "pattern = \n",
    "'''"
   ]
  },
  {
   "cell_type": "code",
   "execution_count": 2,
   "metadata": {},
   "outputs": [
    {
     "data": {
      "text/plain": [
       "'\\n - You will recall that using a caret(^) symbol inside a list result in a set of non-matching characters.\\n - However using the caret symbol at the beginning of your search pattern will mean you are searching only the\\n - beginning of the string.\\n'"
      ]
     },
     "execution_count": 2,
     "metadata": {},
     "output_type": "execute_result"
    }
   ],
   "source": [
    "# Pattern Matching Continued => | OR \n",
    "'''\n",
    "PATTERN = '(abd|def)' => abd or def \n",
    "\n",
    "pattern = \"[ab]\"\n",
    "or \n",
    "pattern = \"a|b\" \n",
    "  * both are same\n",
    "\n",
    "'''\n",
    "\n",
    "# Pattern Matching - Back Reference\n",
    "'''\n",
    " - Back Reference Only applly to subexpressions.\n",
    "'''\n",
    "\n",
    "# Pattern Matching - Escape Characters \\ \n",
    "'''\n",
    "'''\n",
    "\n",
    "# Pattern Matching - Line Anchors =>  ^ , $\n",
    "'''\n",
    " - You will recall that using a caret(^) symbol inside a list result in a set of non-matching characters.\n",
    " - However using the caret symbol at the beginning of your search pattern will mean you are searching only the\n",
    " - beginning of the string.\n",
    "'''"
   ]
  },
  {
   "cell_type": "code",
   "execution_count": 1,
   "metadata": {},
   "outputs": [
    {
     "data": {
      "text/plain": [
       "\"\\n select * from customers;\\n select * from customers where regex_like(full_name, '\\\\w+ \\\\w+ \\\\w+');\\n\""
      ]
     },
     "execution_count": 1,
     "metadata": {},
     "output_type": "execute_result"
    }
   ],
   "source": [
    "# Introduction To RegEx Functions in Oracle\n",
    "# REGEXP_LIKE & Assignment Questions\n",
    "'''\n",
    " select * from customers;\n",
    "\n",
    " -- retrieve all customer who do have middle name\n",
    " select * from customers where regexp_like(full_name ,'\\w+ \\w+ \\w+'); -- 3 records\n",
    " select * from customers where full_name like '\\w+ \\w+ \\w+'; -- no data \n",
    "'''"
   ]
  },
  {
   "cell_type": "code",
   "execution_count": 3,
   "metadata": {},
   "outputs": [
    {
     "data": {
      "text/plain": [
       "\"\\n select * from stores;\\n Q) using REGEXP_LIKE filter the records to show the US postcodes\\n select * from stores where regexp_like(physical_address, ' [A-Z]{2} \\\\d{5}')\\n\\n Q) Use regexp_like to return all customers with the first name Stephen or Steven\\n select * from customers where regexp_like (full_name , '^(Stephen|Steven)')\\n select * from customers where regexp_like (full_name , '^Ste(ph|v)en')\\n\""
      ]
     },
     "execution_count": 3,
     "metadata": {},
     "output_type": "execute_result"
    }
   ],
   "source": [
    "# Assignment Question1\n",
    "'''\n",
    " select * from stores;\n",
    " Q) using REGEXP_LIKE filter the records to show the US postcodes\n",
    " select * from stores where regexp_like(physical_address, ' [A-Z]{2} \\d{5}')\n",
    "\n",
    " Q) Use regexp_like to return all customers with the first name Stephen or Steven\n",
    " select * from customers where regexp_like (full_name , '^(Stephen|Steven)')\n",
    " select * from customers where regexp_like (full_name , '^Ste(ph|v)en')\n",
    "'''"
   ]
  },
  {
   "cell_type": "code",
   "execution_count": 5,
   "metadata": {},
   "outputs": [
    {
     "data": {
      "text/plain": [
       "'\\n # Return only those coutries where the first occurence of the letter \\'n\\' appears in position 7\\n  select * from eba_countries;\\n  select name, regexp_instr(name,\\'n\\') from eba_contries;\\n  select * from eba_countries where regexp_instr(name,\\'n\\') = 7;\\n \\n # Return all countries with and open \"(\" and close \")\" paranethesis in its name\\n  select name from eba_countries where regexp_instr(name ,\\'\\\\(.+\\\\)\\') > 0 ;\\n'"
      ]
     },
     "execution_count": 5,
     "metadata": {},
     "output_type": "execute_result"
    }
   ],
   "source": [
    "# REGEXP_INSTR\n",
    "'''\n",
    " - returns the location of regular expression pattern in the string(starts from 0)\n",
    " - If the pattern is not matched anywhere in the string the functions will return 0.\n",
    "'''\n",
    "\n",
    "# Assignment Questions\n",
    "'''\n",
    " # Return only those coutries where the first occurence of the letter 'n' appears in position 7\n",
    "  select * from eba_countries;\n",
    "  select name, regexp_instr(name,'n') from eba_contries;\n",
    "  select * from eba_countries where regexp_instr(name,'n') = 7;\n",
    " \n",
    " # Return all countries with and open \"(\" and close \")\" paranethesis in its name\n",
    "  select name from eba_countries where regexp_instr(name ,'\\(.+\\)') > 0 ;\n",
    "'''"
   ]
  },
  {
   "cell_type": "code",
   "execution_count": 6,
   "metadata": {},
   "outputs": [
    {
     "data": {
      "text/plain": [
       "\"\\n# From the EBA_COUNTRIES table select the country name and a new column \\nthat extracts the countries name from the field if its starts and end with the letter 'a' , \\nregardeless of how many words are in the countries name.\\n  \\n  select * from eba_countries\\n  select name, regexp_substr(name, '^A.+a$') from eba_countries \\n  select name, regexp_substr(name, '^A.+a') from eba_countries \\n   - Afganishtan\\n\\n # From the EBA_COUNTRIES table query a column that extracts just the word of a country , only for those \\n # countries that consist of mulitple words\\n select name, regexp_substr(name, '^\\\\w+ ') from eba_countries\\n \""
      ]
     },
     "execution_count": 6,
     "metadata": {},
     "output_type": "execute_result"
    }
   ],
   "source": [
    "# REGEXP_SUBSTR\n",
    "'''\n",
    " * Extract a sbustring from a string\n",
    "'''\n",
    "# Assignment Questions\n",
    "'''\n",
    "# From the EBA_COUNTRIES table select the country name and a new column \n",
    "that extracts the countries name from the field if its starts and end with the letter 'a' , \n",
    "regardeless of how many words are in the countries name.\n",
    "  \n",
    "  select * from eba_countries\n",
    "  select name, regexp_substr(name, '^A.+a$') from eba_countries \n",
    "  select name, regexp_substr(name, '^A.+a') from eba_countries \n",
    "   - Afganishtan\n",
    "\n",
    " # From the EBA_COUNTRIES table query a column that extracts just the word of a country , only for those \n",
    " # countries that consist of mulitple words\n",
    " select name, regexp_substr(name, '^\\w+ ') from eba_countries\n",
    " '''"
   ]
  },
  {
   "cell_type": "code",
   "execution_count": 2,
   "metadata": {},
   "outputs": [
    {
     "data": {
      "text/plain": [
       "'\\n *  Replace a sequence of characters with another sequence of characters\\n'"
      ]
     },
     "execution_count": 2,
     "metadata": {},
     "output_type": "execute_result"
    }
   ],
   "source": [
    "# REGEXP_REPLACE\n",
    "'''\n",
    " *  Replace a sequence of characters with another sequence of characters\n",
    "'''"
   ]
  },
  {
   "cell_type": "code",
   "execution_count": null,
   "metadata": {},
   "outputs": [],
   "source": [
    "# Assignment Questions\n",
    "'''\n",
    " # From the Customers table Query a column that replaces 'internalmail' with 'interalmail.com' in the email_address field\n",
    " select * from customers;\n",
    " select email_address , regexp_replace(email_address, 'internalmail','internalmail.com') from customers;\n",
    "\n",
    " # From the Customer table query a column that changes the customer email address from \n",
    " #'firstname.lastername@internamail' to 'firstname-lastname@intermail'\n",
    " select email_address , regexp_replace(email_address, '\\.','-') from customers;\n",
    "\n",
    " \n",
    " # From theCustomer table query a column that switches the customer email addresses \n",
    " # from 'firstname.lastname@interalmail' to 'internalmail@firstname.lastname'\n",
    "\n",
    " # Solution is subxprexxion & Bckreference\n",
    "select email_address , regexp_replace(email_address, '(.+)(@)(.+)','\\3\\2\\1') from customers;\n",
    "\n",
    "# Pattern\n",
    " - First Subexpresion => (.+)\n",
    " - Section Subexpresison => (@)\n",
    " - Third Exrpession  => (.+)\n",
    "\n",
    "# REplace string with backreferece\n",
    " \\3 => First Subexpresion\n",
    " \\2 => Section Subexpresison\n",
    " \\1 => Third Exrpession\n",
    "'''"
   ]
  },
  {
   "cell_type": "code",
   "execution_count": 7,
   "metadata": {},
   "outputs": [
    {
     "data": {
      "text/plain": [
       "\"\\n select * from customers\\n # Get only First name\\n  select fullname, regexp_substr(full_name, '[[:alpha:]]+ ')\\n  or \\n  select fullname, regexp_substr(full_name, '\\\\w+ ')\\n\""
      ]
     },
     "execution_count": 7,
     "metadata": {},
     "output_type": "execute_result"
    }
   ],
   "source": [
    "# Class Metacharacters \n",
    "'''\n",
    " - More metacharacters - Character class \n",
    " [[:alnum:]]\n",
    "\n",
    " - \\d or [[:digit:]] =>BOTH ARE SAME\n",
    "'''\n",
    "# Example\n",
    "'''\n",
    " select * from customers\n",
    " # Get only First name\n",
    "  select fullname, regexp_substr(full_name, '[[:alpha:]]+ ')\n",
    "  or \n",
    "  select fullname, regexp_substr(full_name, '\\w+ ')\n",
    "'''"
   ]
  },
  {
   "cell_type": "code",
   "execution_count": 14,
   "metadata": {},
   "outputs": [],
   "source": [
    "# Concluding Thoughts on RegEx\n",
    "# Useful External Resources\n",
    "'''\n",
    "'''"
   ]
  }
 ],
 "metadata": {
  "kernelspec": {
   "display_name": "Python 3",
   "language": "python",
   "name": "python3"
  },
  "language_info": {
   "codemirror_mode": {
    "name": "ipython",
    "version": 3
   },
   "file_extension": ".py",
   "mimetype": "text/x-python",
   "name": "python",
   "nbconvert_exporter": "python",
   "pygments_lexer": "ipython3",
   "version": "3.9.12"
  },
  "orig_nbformat": 4
 },
 "nbformat": 4,
 "nbformat_minor": 2
}
