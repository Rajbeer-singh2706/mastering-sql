{
 "cells": [
  {
   "cell_type": "code",
   "execution_count": null,
   "metadata": {},
   "outputs": [],
   "source": [
    "# Postgres or SQL Server \n",
    "'''\n",
    "Here are some intermediate-level PostgreSQL interview questions:\n",
    "\n",
    "1. **Explain the difference between `INNER JOIN`, `LEFT JOIN`, `RIGHT JOIN`, and `FULL JOIN`. Provide examples of each.**\n",
    "\n",
    "2. **How does PostgreSQL handle concurrency? Explain the concepts of MVCC (Multi-Version Concurrency Control) and isolation levels.**\n",
    "\n",
    "3. **What are some of the advantages of using PostgreSQL's `EXPLAIN` and `ANALYZE` commands? How do you interpret their output?**\n",
    "\n",
    "4. **Discuss the differences between `UNION` and `UNION ALL`. When would you use each?**\n",
    "\n",
    "5. **How would you implement a many-to-many relationship in PostgreSQL?**\n",
    "\n",
    "6. **What are PostgreSQL’s common indexing types and how do they work? When would you use each type?**\n",
    "\n",
    "7. **Describe how you would perform a backup and restore operation in PostgreSQL. What tools or methods would you use?**\n",
    "\n",
    "8. **Explain the role of `VACUUM` and `ANALYZE` commands. How do they impact database performance?**\n",
    "\n",
    "9. **How do you handle null values in PostgreSQL? What functions or methods can you use to manage or query nulls?**\n",
    "\n",
    "10. **Discuss PostgreSQL’s support for JSON and JSONB data types. How would you query and index these types?**\n",
    "\n",
    "11. **What are `CTEs` (Common Table Expressions) in PostgreSQL? Provide an example of how they can be used to simplify a complex query.**\n",
    "\n",
    "12. **How do you optimize a query in PostgreSQL? What are some common performance issues and how can you address them?**\n",
    "\n",
    "13. **Explain the use of triggers and stored procedures in PostgreSQL. When might you use them?**\n",
    "\n",
    "14. **What are `PARTITIONED TABLES` in PostgreSQL? How would you set up partitioning and what are its benefits?**\n",
    "\n",
    "15. **Describe PostgreSQL’s approach to full-text search. How does it compare to other search solutions?**\n",
    "\n",
    "These questions cover a range of topics that are important for understanding and working with PostgreSQL effectively.\n",
    "'''"
   ]
  }
 ],
 "metadata": {
  "language_info": {
   "name": "python"
  }
 },
 "nbformat": 4,
 "nbformat_minor": 2
}
