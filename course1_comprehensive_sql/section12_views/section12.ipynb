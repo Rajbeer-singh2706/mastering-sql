{
 "cells": [
  {
   "cell_type": "code",
   "execution_count": 1,
   "metadata": {},
   "outputs": [
    {
     "data": {
      "text/plain": [
       "'\\nViews are virtual tables that do not store physical data, they are essentially stored SQL queries.\\nWhen used effectively they can greatly improve database performance.\\nAfter completing this section you will learn:\\n  * What is a View and how is it useful\\n  * How to create, replace and drop a view\\n  * The difference between simple and complex views\\n  * How to perform DML Operations such as inserting records into simple views\\n  * How to control and prevent DML operations on simple views\\n\\nThe section will be rounded off with a multiple choice quiz.\\n'"
      ]
     },
     "execution_count": 1,
     "metadata": {},
     "output_type": "execute_result"
    }
   ],
   "source": [
    "# Section 12: Views\n",
    "'''\n",
    "Views are virtual tables that do not store physical data, they are essentially stored SQL queries.\n",
    "When used effectively they can greatly improve database performance.\n",
    "After completing this section you will learn:\n",
    "  * What is a View and how is it useful\n",
    "  * How to create, replace and drop a view\n",
    "  * The difference between simple and complex views\n",
    "  * How to perform DML Operations such as inserting records into simple views\n",
    "  * How to control and prevent DML operations on simple views\n",
    "\n",
    "The section will be rounded off with a multiple choice quiz.\n",
    "'''"
   ]
  },
  {
   "cell_type": "code",
   "execution_count": 2,
   "metadata": {},
   "outputs": [
    {
     "data": {
      "text/plain": [
       "'\\n - pdf\\n'"
      ]
     },
     "execution_count": 2,
     "metadata": {},
     "output_type": "execute_result"
    }
   ],
   "source": [
    "# What are views\n",
    "'''\n",
    " - pdf\n",
    "'''"
   ]
  },
  {
   "cell_type": "code",
   "execution_count": 3,
   "metadata": {},
   "outputs": [
    {
     "data": {
      "text/plain": [
       "'\\n\\ncreate view v_emp as select * from emp;\\nselect * from v_emp;\\n\\n-- replace existing view \\ncreate or replace view v_emp AS select * from emp where deptno=10\\n\\nselect * from v_emp;\\n\\ndrop view v_emp;\\n\\n'"
      ]
     },
     "execution_count": 3,
     "metadata": {},
     "output_type": "execute_result"
    }
   ],
   "source": [
    "# Creating , Replacing And Dropping Views\n",
    "'''\n",
    "\n",
    "create view v_emp as select * from emp;\n",
    "select * from v_emp;\n",
    "\n",
    "-- replace existing view \n",
    "create or replace view v_emp AS select * from emp where deptno=10\n",
    "\n",
    "select * from v_emp;\n",
    "\n",
    "drop view v_emp;\n",
    "\n",
    "'''"
   ]
  },
  {
   "cell_type": "code",
   "execution_count": 4,
   "metadata": {},
   "outputs": [
    {
     "data": {
      "text/plain": [
       "'\\n-- simple view \\ncreate view v_emp_deptno\\nAS \\nSELECT * FROM EMP \\nWHERE deptno =10;\\nselect * from v_emp_deptno;\\n\\n-- comlex view \\ncreate view v_job_sal\\nAS \\nSELECT \\n job,\\n sum(sal) as SUM_SAL\\nFROM EMP \\nGROUP BY job;\\n\\nselect * from v_job_sal;\\n\\n\\n-- comlex view \\ncreate view v_emp_dept\\nAS \\nSELECT \\n emp.ename,\\n emp.job,\\n emp.deptno,\\n dept.dname\\n\\nFROM EMP \\nLEFT JOIN DEPT\\nON EMP.deptno = DEPT.deptno;\\n\\nselect * from v_emp_dept;\\n'"
      ]
     },
     "execution_count": 4,
     "metadata": {},
     "output_type": "execute_result"
    }
   ],
   "source": [
    "# Simple and complex Views \n",
    "'''\n",
    "-- simple view \n",
    "create view v_emp_deptno\n",
    "AS \n",
    "SELECT * FROM EMP \n",
    "WHERE deptno =10;\n",
    "select * from v_emp_deptno;\n",
    "\n",
    "-- comlex view \n",
    "create view v_job_sal\n",
    "AS \n",
    "SELECT \n",
    " job,\n",
    " sum(sal) as SUM_SAL\n",
    "FROM EMP \n",
    "GROUP BY job;\n",
    "\n",
    "select * from v_job_sal;\n",
    "\n",
    "\n",
    "-- comlex view \n",
    "create view v_emp_dept\n",
    "AS \n",
    "SELECT \n",
    " emp.ename,\n",
    " emp.job,\n",
    " emp.deptno,\n",
    " dept.dname\n",
    "\n",
    "FROM EMP \n",
    "LEFT JOIN DEPT\n",
    "ON EMP.deptno = DEPT.deptno;\n",
    "\n",
    "select * from v_emp_dept;\n",
    "'''"
   ]
  },
  {
   "cell_type": "code",
   "execution_count": 7,
   "metadata": {},
   "outputs": [
    {
     "data": {
      "text/plain": [
       "\"\\n-- simple view \\ncreate view v_emp_deptno\\nAS \\nSELECT * FROM EMP \\nWHERE deptno =10;\\n\\nselect * from v_emp_deptno;\\n\\n-- insert into views \\ninsert into v_emp_deptno values(999, 'TEST','TEST',null,sysdate,1000,0,10);\\n\\nselect * from emp;\\n\\ninsert into v_emp_deptno values(998, 'TEST1','TEST1',null,sysdate,1000,0,30);\\n\\nselect * from v_emp_deptno;\\n\\n-- how to prevent to insert or update\\n\\n-- simple view \\ncreate or replace view v_emp_deptno\\nAS \\nSELECT * FROM EMP \\nWHERE deptno =10\\nwith check option;\\n\\n-- insert into views \\ninsert into v_emp_deptno values(777, 'TEST3','TEST3',null,sysdate,1000,0,20); -- view WITH CHECK OPTION where-clause violation\\nselect * from v_emp_deptno;\\nselect * from emp;\\n\\ninsert into v_emp_deptno values(777, 'TEST3','TEST3',null,sysdate,1000,0,10);\\n\\n-- only read only \\n\\n-- simple view \\ncreate or replace view v_emp_deptno\\nAS \\nSELECT * FROM EMP \\nWHERE deptno =10\\nwith read only;\\n\\ninsert into v_emp_deptno values(777, 'TEST3','TEST3',null,sysdate,1000,0,10); -- cannot perform a DML operation on a read-only view\\n\\n\""
      ]
     },
     "execution_count": 7,
     "metadata": {},
     "output_type": "execute_result"
    }
   ],
   "source": [
    "# Performing DML Operationg on Simple Views\n",
    "'''\n",
    "-- simple view \n",
    "create view v_emp_deptno\n",
    "AS \n",
    "SELECT * FROM EMP \n",
    "WHERE deptno =10;\n",
    "\n",
    "select * from v_emp_deptno;\n",
    "\n",
    "-- insert into views \n",
    "insert into v_emp_deptno values(999, 'TEST','TEST',null,sysdate,1000,0,10);\n",
    "\n",
    "select * from emp;\n",
    "\n",
    "insert into v_emp_deptno values(998, 'TEST1','TEST1',null,sysdate,1000,0,30);\n",
    "\n",
    "select * from v_emp_deptno;\n",
    "\n",
    "-- how to prevent to insert or update\n",
    "\n",
    "-- simple view \n",
    "create or replace view v_emp_deptno\n",
    "AS \n",
    "SELECT * FROM EMP \n",
    "WHERE deptno =10\n",
    "with check option;\n",
    "\n",
    "-- insert into views \n",
    "insert into v_emp_deptno values(777, 'TEST3','TEST3',null,sysdate,1000,0,20); -- view WITH CHECK OPTION where-clause violation\n",
    "select * from v_emp_deptno;\n",
    "select * from emp;\n",
    "\n",
    "insert into v_emp_deptno values(777, 'TEST3','TEST3',null,sysdate,1000,0,10);\n",
    "\n",
    "-- only read only \n",
    "\n",
    "-- simple view \n",
    "create or replace view v_emp_deptno\n",
    "AS \n",
    "SELECT * FROM EMP \n",
    "WHERE deptno =10\n",
    "with read only;\n",
    "\n",
    "insert into v_emp_deptno values(777, 'TEST3','TEST3',null,sysdate,1000,0,10); -- cannot perform a DML operation on a read-only view\n",
    "\n",
    "'''"
   ]
  },
  {
   "cell_type": "code",
   "execution_count": 1,
   "metadata": {},
   "outputs": [
    {
     "data": {
      "text/plain": [
       "\"\\nselect * from emp;\\ndelete from emp where job like 'TEST%'\\n\""
      ]
     },
     "execution_count": 1,
     "metadata": {},
     "output_type": "execute_result"
    }
   ],
   "source": [
    "# cleanup \n",
    "'''\n",
    "select * from emp;\n",
    "delete from emp where job like 'TEST%'\n",
    "'''"
   ]
  },
  {
   "cell_type": "code",
   "execution_count": null,
   "metadata": {},
   "outputs": [],
   "source": []
  }
 ],
 "metadata": {
  "kernelspec": {
   "display_name": "Python 3",
   "language": "python",
   "name": "python3"
  },
  "language_info": {
   "codemirror_mode": {
    "name": "ipython",
    "version": 3
   },
   "file_extension": ".py",
   "mimetype": "text/x-python",
   "name": "python",
   "nbconvert_exporter": "python",
   "pygments_lexer": "ipython3",
   "version": "3.9.12"
  },
  "orig_nbformat": 4
 },
 "nbformat": 4,
 "nbformat_minor": 2
}
