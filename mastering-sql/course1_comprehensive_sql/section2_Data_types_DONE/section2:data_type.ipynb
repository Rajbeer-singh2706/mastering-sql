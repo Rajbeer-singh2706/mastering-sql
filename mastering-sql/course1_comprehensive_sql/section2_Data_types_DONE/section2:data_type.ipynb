{
 "cells": [
  {
   "cell_type": "code",
   "execution_count": 1,
   "metadata": {},
   "outputs": [
    {
     "data": {
      "text/plain": [
       "'\\nThis section focuses on Data Types. A data type is an attribute of data. The data type of a column in SQL determines what kind of data it can hold, \\nfor example a numerical data type cannot hold letters.\\n\\nAfter completing this section you will be able to:\\n * Identify the main string, date and numerical data types\\n * Use the Describe Statement to retrieve the data types for columns in a table\\n * Perform simple mathematical operations in SQL SELECT statements\\n * This section will have a quiz at the end to test your knowledge.\\n'"
      ]
     },
     "execution_count": 1,
     "metadata": {},
     "output_type": "execute_result"
    }
   ],
   "source": [
    "# Overview\n",
    "'''\n",
    "This section focuses on Data Types. A data type is an attribute of data. The data type of a column in SQL determines what kind of data \n",
    "it can hold, for example a numerical data type cannot hold letters.\n",
    "\n",
    "After completing this section you will be able to:\n",
    " * Identify the main string, date and numerical data types\n",
    " * Use the Describe Statement to retrieve the data types for columns in a table\n",
    " * Perform simple mathematical operations in SQL SELECT statements\n",
    " * This section will have a quiz at the end to test your knowledge.\n",
    "'''"
   ]
  },
  {
   "cell_type": "code",
   "execution_count": 2,
   "metadata": {},
   "outputs": [
    {
     "data": {
      "text/plain": [
       "'\\nDATATYPE \\n - CHAR(N)\\n - VARCHAR(N)\\n - NCHAR(N)     : Accepts UNICODE\\n - NVARCHAR(N)   : Accepts UNICODE\\n'"
      ]
     },
     "execution_count": 2,
     "metadata": {},
     "output_type": "execute_result"
    }
   ],
   "source": [
    "# String data Type\n",
    "'''\n",
    "DATATYPE \n",
    " - CHAR(N)\n",
    " - VARCHAR(N)\n",
    " - NCHAR(N)      : Accepts UNICODE\n",
    " - NVARCHAR(N)   : Accepts UNICODE\n",
    "'''"
   ]
  },
  {
   "cell_type": "code",
   "execution_count": 4,
   "metadata": {},
   "outputs": [
    {
     "data": {
      "text/plain": [
       "'\\nDATATYPE \\n  - BOOLEAN : 1 or 0\\n  - INTEGER \\n  - DECIMAL \\n  - FLOATING POINT NUMBERS\\n'"
      ]
     },
     "execution_count": 4,
     "metadata": {},
     "output_type": "execute_result"
    }
   ],
   "source": [
    "# Numerical Data Type\n",
    "'''\n",
    "DATATYPE \n",
    "  - BOOLEAN : 1 or 0\n",
    "  - INTEGER \n",
    "  - DECIMAL \n",
    "  - FLOATING POINT NUMBERS\n",
    "\n",
    "* SCALE and Precision\n",
    " - Precision is the number of digits and scale is the number of digits to the right of the decimal point\n",
    "'''"
   ]
  },
  {
   "cell_type": "code",
   "execution_count": 6,
   "metadata": {},
   "outputs": [
    {
     "data": {
      "text/plain": [
       "'\\nDATATYPE\\n  - DATE               : HOlds the day , month and year in a certain format eq: YYYY-MM-DD\\n  - DATETIME/ TIMESTAMP:  Holds the date along with the time in hours, minutes and seconds in a given format e.g: YYYY-MM-DD hh:mm:ss\\n'"
      ]
     },
     "execution_count": 6,
     "metadata": {},
     "output_type": "execute_result"
    }
   ],
   "source": [
    "# DATE Data Type\n",
    "'''\n",
    "DATATYPE\n",
    "  - DATE                 : HOlds the day , month and year in a certain format eq: YYYY-MM-DD\n",
    "  - DATETIME/ TIMESTAMP:  Holds the date along with the time in hours, minutes and seconds in a given format e.g: YYYY-MM-DD hh:mm:ss\n",
    "'''"
   ]
  },
  {
   "cell_type": "code",
   "execution_count": 7,
   "metadata": {},
   "outputs": [
    {
     "data": {
      "text/plain": [
       "'\\ndescribe eba_countries;\\n'"
      ]
     },
     "execution_count": 7,
     "metadata": {},
     "output_type": "execute_result"
    }
   ],
   "source": [
    "# Describe statements\n",
    "'''\n",
    "describe eba_countries;\n",
    "'''"
   ]
  },
  {
   "cell_type": "code",
   "execution_count": 8,
   "metadata": {},
   "outputs": [
    {
     "data": {
      "text/plain": [
       "'\\n-- take populatino and divide by 1milion\\n\\nselect * from eba_countries\\n\\n-- display pop in milion\\nselect name, population / 1000000 from eba_countries; \\n\\n\\n-- Population per area (KM^2) , popliation/ Area(Km^2)\\nselect name, population / area_km2 from eba_countries; \\n\\n\\n-- add varchar with numerical\\nselect name+population from eba_countries; \\nselect name+nationality from eba_countries; \\n\\n\\n'"
      ]
     },
     "execution_count": 8,
     "metadata": {},
     "output_type": "execute_result"
    }
   ],
   "source": [
    "# Simple Mathematical Operators\n",
    "'''\n",
    "-- take population and divide by 1milion\n",
    "\n",
    "select * from eba_countries\n",
    "\n",
    "-- display popuplation in milion\n",
    "select name, population / 1000000 from eba_countries; \n",
    "\n",
    "\n",
    "-- Population per area (KM^2) , popliation/ Area(Km^2)\n",
    "select name, population / area_km2 from eba_countries; \n",
    "\n",
    "\n",
    "-- add varchar with numerical\n",
    "select name+population from eba_countries; \n",
    "select name+nationality from eba_countries; \n",
    "'''"
   ]
  },
  {
   "cell_type": "code",
   "execution_count": null,
   "metadata": {},
   "outputs": [],
   "source": [
    "# Further Guidence and Documentation on data types\n",
    "'''\n",
    "Here are some useful links that cover data types for the different Database Management Systems:\n",
    "\n",
    "Oracle: https://docs.oracle.com/cd/B28359_01/server.111/b28318/datatype.htm#CNCPT113\n",
    "MySQL: https://dev.mysql.com/doc/refman/8.0/en/data-types.html\n",
    "Microsoft SQL Server: https://docs.microsoft.com/en-us/sql/t-sql/data-types/data-types-transact-sql?view=sql-server-ver15\n",
    "\n",
    "'''"
   ]
  }
 ],
 "metadata": {
  "kernelspec": {
   "display_name": "Python 3",
   "language": "python",
   "name": "python3"
  },
  "language_info": {
   "codemirror_mode": {
    "name": "ipython",
    "version": 3
   },
   "file_extension": ".py",
   "mimetype": "text/x-python",
   "name": "python",
   "nbconvert_exporter": "python",
   "pygments_lexer": "ipython3",
   "version": "3.9.12"
  },
  "orig_nbformat": 4
 },
 "nbformat": 4,
 "nbformat_minor": 2
}
