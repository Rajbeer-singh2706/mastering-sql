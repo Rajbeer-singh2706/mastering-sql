{
 "cells": [
  {
   "cell_type": "markdown",
   "metadata": {},
   "source": [
    "### **10. Performance Tuning and Optimization**"
   ]
  },
  {
   "cell_type": "code",
   "execution_count": null,
   "metadata": {
    "vscode": {
     "languageId": "plaintext"
    }
   },
   "outputs": [],
   "source": [
    "'''\n",
    "Q) What are some strategies for query performance optimization in large-scale databases?\n",
    "\n",
    "Q) How would you use database partitioning to improve performance in a large database? What types of partitioning are \n",
    "available (range, list, hash)?\n",
    "\n",
    "Q) How does indexing affect query performance? Can you give an example of a scenario where an index might not be helpful?\n",
    "\n",
    "Q) What are query hints, and how can they be used to influence the execution plan of a query?\n",
    "\n",
    "Q) How do you optimize SQL queries for performance?\n",
    "\n",
    "Q) What are some common causes of slow queries, and how would you diagnose and fix them?\n",
    "\n",
    "Q) How would you use EXPLAIN (or EXPLAIN PLAN) to analyze query performance?\n",
    "\n",
    "Q) What is the difference between a hash join and a nested loop join? When would you use one over the other?\n",
    "'''"
   ]
  }
 ],
 "metadata": {
  "language_info": {
   "name": "python"
  }
 },
 "nbformat": 4,
 "nbformat_minor": 2
}
