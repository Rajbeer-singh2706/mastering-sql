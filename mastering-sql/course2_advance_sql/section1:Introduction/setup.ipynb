{
 "cells": [
  {
   "cell_type": "code",
   "execution_count": 1,
   "metadata": {},
   "outputs": [],
   "source": [
    "# oracle.apex.com\n"
   ]
  },
  {
   "cell_type": "code",
   "execution_count": 2,
   "metadata": {},
   "outputs": [
    {
     "data": {
      "text/plain": [
       "'\\n * SQL Workshop > Utiliits > Sample Datasets\\n * Install Countries > INstall Daatasets > Create Application > \\n * Install EMP/DEPT > \\n * Install Customer/Orders > Create Application\\n\\n'"
      ]
     },
     "execution_count": 2,
     "metadata": {},
     "output_type": "execute_result"
    }
   ],
   "source": [
    "# Dataset Installation ( Automatic )\n",
    "'''\n",
    " * SQL Workshop > Utiliits > Sample Datasets\n",
    " * Install Countries > INstall Daatasets > Create Application > \n",
    " * Install EMP/DEPT > \n",
    " * Install Customer/Orders > Create Application\n",
    "\n",
    "'''\n"
   ]
  },
  {
   "cell_type": "code",
   "execution_count": 3,
   "metadata": {},
   "outputs": [
    {
     "data": {
      "text/plain": [
       "'\\n #1. Countries Data Model \\n =========================\\n - EBA_COUNTRIES\\n - EBA_COUNTRY_REGIONS [ Dimension ]\\n - EBA_COUNTRY_SUB_REGIONS [ Dimension ]\\n - EBA_COUNTRY_INTERMEDIATES [ Dimension ]\\n - EBA_COUNTRY_ORGANIZATIONS [ Dimension ]\\n\\n #2. EMP / DEPT DATA MODEL \\n =========================\\n * DEPT [ Dimension ]\\n * EMP []\\n \\n #3. Customer Data Mpdel \\n =========================\\n  * Orders\\n  * ORDER_ITEMS\\n  * PRODUCTS\\n  * CUSTOMERS\\n  * STORES\\n'"
      ]
     },
     "execution_count": 3,
     "metadata": {},
     "output_type": "execute_result"
    }
   ],
   "source": [
    "# Dataset Overview \n",
    "'''\n",
    " #1. Countries Data Model \n",
    " =========================\n",
    " - EBA_COUNTRIES\n",
    " - EBA_COUNTRY_REGIONS [ Dimension ]\n",
    " - EBA_COUNTRY_SUB_REGIONS [ Dimension ]\n",
    " - EBA_COUNTRY_INTERMEDIATES [ Dimension ]\n",
    " - EBA_COUNTRY_ORGANIZATIONS [ Dimension ]\n",
    "\n",
    " #2. EMP / DEPT DATA MODEL \n",
    " =========================\n",
    " * DEPT [ Dimension ]\n",
    " * EMP []\n",
    " \n",
    " #3. Customer Data Mpdel \n",
    " =========================\n",
    "  * Orders\n",
    "  * ORDER_ITEMS\n",
    "  * PRODUCTS\n",
    "  * CUSTOMERS\n",
    "  * STORES\n",
    "'''"
   ]
  },
  {
   "cell_type": "code",
   "execution_count": 4,
   "metadata": {},
   "outputs": [
    {
     "data": {
      "text/plain": [
       "\"\\nselect * from dual;\\n\\nselect * from dual;\\nselect 12 * 5.6 from emp;\\nselect 12 * 5.6 from dual;\\nselect sysdate from dual;\\nselect length('How long in this string') from dual;\\n\\n\""
      ]
     },
     "execution_count": 4,
     "metadata": {},
     "output_type": "execute_result"
    }
   ],
   "source": [
    "# DUAL Table \n",
    "'''\n",
    "select * from dual;\n",
    "\n",
    "select * from dual;\n",
    "select 12 * 5.6 from emp;\n",
    "select 12 * 5.6 from dual;\n",
    "select sysdate from dual;\n",
    "select length('How long in this string') from dual;\n",
    "\n",
    "'''"
   ]
  },
  {
   "cell_type": "code",
   "execution_count": 6,
   "metadata": {},
   "outputs": [
    {
     "data": {
      "text/plain": [
       "'\\n - The cost is aggregated up from child to parent\\n - Hence the cose of hash join operatio is 3+3 which is the sum of its child table access operations.\\n - The root SELECT statement is the total of its child operations, which in this instance is just the hash join operation.\\n'"
      ]
     },
     "execution_count": 6,
     "metadata": {},
     "output_type": "execute_result"
    }
   ],
   "source": [
    "# Understand Explain Plans in Oracle\n",
    "'''\n",
    " - The cost is aggregated up from child to parent\n",
    " - Hence the cose of hash join operatio is 3+3 which is the sum of its child table access operations.\n",
    " - The root SELECT statement is the total of its child operations, which in this instance is just the hash join operation.\n",
    "'''\n",
    "\n",
    "\n",
    "# run this Queries and See the explain tab for its cost  \n",
    "'''\n",
    "select * from emp;\n",
    "select sum(sal) , job from emp group by job;\n",
    "select emp.*, dept.* from emp join dept on emp.deptno = dept.deptno;\n",
    "\n",
    "'''"
   ]
  },
  {
   "cell_type": "code",
   "execution_count": null,
   "metadata": {},
   "outputs": [],
   "source": []
  }
 ],
 "metadata": {
  "kernelspec": {
   "display_name": "Python 3",
   "language": "python",
   "name": "python3"
  },
  "language_info": {
   "codemirror_mode": {
    "name": "ipython",
    "version": 3
   },
   "file_extension": ".py",
   "mimetype": "text/x-python",
   "name": "python",
   "nbconvert_exporter": "python",
   "pygments_lexer": "ipython3",
   "version": "3.9.12"
  },
  "orig_nbformat": 4
 },
 "nbformat": 4,
 "nbformat_minor": 2
}
