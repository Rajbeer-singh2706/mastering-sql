{
 "cells": [
  {
   "cell_type": "code",
   "execution_count": 1,
   "metadata": {},
   "outputs": [
    {
     "data": {
      "text/plain": [
       "'\\nWe have touched on SQL Query order of execution in the Aggregation Functions Group By, Having and Order By Section. \\nBut now that we have covered the main clauses and operations in SQL we will be revisiting this topic.\\nAfter completing this section you will learn about:\\n * The order of execution for clauses and operations in SQL\\n * Using subqueries to create dynamic SQL queries\\n\\nWe will round this section off with some practical assignment questions\\n'"
      ]
     },
     "execution_count": 1,
     "metadata": {},
     "output_type": "execute_result"
    }
   ],
   "source": [
    "# Section 10: Query Order of Execution And SubQueries\n",
    "'''\n",
    "We have touched on SQL Query order of execution in the Aggregation Functions Group By, Having and Order By Section. \n",
    "But now that we have covered the main clauses and operations in SQL we will be revisiting this topic.\n",
    "After completing this section you will learn about:\n",
    " * The order of execution for clauses and operations in SQL\n",
    " * Using subqueries to create dynamic SQL queries\n",
    "\n",
    "We will round this section off with some practical assignment questions\n",
    "'''"
   ]
  },
  {
   "cell_type": "code",
   "execution_count": 2,
   "metadata": {},
   "outputs": [
    {
     "data": {
      "text/plain": [
       "'\\n1. FROM \\n2. JOIN \\n       => GEt the Logical Table \\n3. WHERE \\n      => Filter REocrds\\n4. GROUP BY \\n      => Make a Group \\n5. HAVING \\n      => FIlter the Group \\n6. SELECT \\n       => PROJETION\\n7. ORDER BY \\n8. LIMIT / FETCH/ TOP\\n'"
      ]
     },
     "execution_count": 2,
     "metadata": {},
     "output_type": "execute_result"
    }
   ],
   "source": [
    "# SQL QUery Order of Execution\n",
    "'''\n",
    "1. FROM \n",
    "2. JOIN \n",
    "       => GEt the Logical Table \n",
    "3. WHERE \n",
    "      => Filter REocrds\n",
    "4. GROUP BY \n",
    "      => Make a Group \n",
    "5. HAVING \n",
    "      => FIlter the Group \n",
    "6. SELECT \n",
    "       => PROJETION\n",
    "7. ORDER BY \n",
    "8. LIMIT / FETCH/ TOP\n",
    "'''"
   ]
  },
  {
   "cell_type": "code",
   "execution_count": 3,
   "metadata": {},
   "outputs": [
    {
     "data": {
      "text/plain": [
       "'\\nselect * from emp order by sal DESC FETCH FIRST 3 ROWS ONLY\\n\\n-- 3 Lowest salayr\\nselect * from emp order by sal ASC FETCH FIRST 3 ROWS ONLY\\n'"
      ]
     },
     "execution_count": 3,
     "metadata": {},
     "output_type": "execute_result"
    }
   ],
   "source": [
    "# Fetch , Limit and Top\n",
    "'''\n",
    " Oracle \n",
    "  SELECT \n",
    "    CLUMN(S)\n",
    "  FROM \n",
    "    TABLE\n",
    "  FETCH FIRST NUMBER ROWS ONLY;\n",
    "'''\n",
    "\n",
    "# example\n",
    "'''\n",
    "select * from emp order by sal DESC FETCH FIRST 3 ROWS ONLY\n",
    "\n",
    "-- 3 Lowest salayr\n",
    "select * from emp order by sal ASC FETCH FIRST 3 ROWS ONLY\n",
    "'''"
   ]
  },
  {
   "cell_type": "code",
   "execution_count": 4,
   "metadata": {},
   "outputs": [
    {
     "data": {
      "text/plain": [
       "'\\nSELECT \\n   NAME ,RATING \\nFROM IMDB_TOP10 \\nWHERE NAME IN = (\\n   SELECT NAME \\n   FROM IMDB_TOP10\\n   ORDER BY RATING\\n   FETCH FIRST 3 ROWS ONLY\\n);\\n\\n'"
      ]
     },
     "execution_count": 4,
     "metadata": {},
     "output_type": "execute_result"
    }
   ],
   "source": [
    "# SubQueries\n",
    "'''\n",
    "\n",
    "SELECT \n",
    "   NAME ,RATING \n",
    "FROM IMDB_TOP10 \n",
    "WHERE RATING = (\n",
    "   SELECT MAX(RATING) FROM IMDB_TOP10\n",
    ");\n",
    "\n",
    "--   SELECT MAX(RATING) FROM IMDB_TOP10 => 9.5\n",
    "'''\n",
    "\n",
    "# Example \n",
    "'''\n",
    "SELECT \n",
    "   NAME ,RATING \n",
    "FROM IMDB_TOP10 \n",
    "WHERE NAME IN = (\n",
    "   SELECT NAME \n",
    "   FROM IMDB_TOP10\n",
    "   ORDER BY RATING\n",
    "   FETCH FIRST 3 ROWS ONLY\n",
    ");\n",
    "\n",
    "'''"
   ]
  },
  {
   "cell_type": "code",
   "execution_count": 5,
   "metadata": {},
   "outputs": [
    {
     "data": {
      "text/plain": [
       "'\\n - pdf\\n'"
      ]
     },
     "execution_count": 5,
     "metadata": {},
     "output_type": "execute_result"
    }
   ],
   "source": [
    "# SubQueries and Joins\n",
    "'''\n",
    " - pdf\n",
    "'''"
   ]
  },
  {
   "cell_type": "code",
   "execution_count": 6,
   "metadata": {},
   "outputs": [
    {
     "data": {
      "text/plain": [
       "'\\n-- Please attempt as many questions as you can, I will go over the solutions in the next lecture. Good luck!\\n-- (For these assignment questions we will be using the Countries Sample Dataset)\\n\\nQ1) Return the top 5 countries by population from the EBA_COUNTRIES Table\\nselect name,population from EBA_COUNTRIES order by population DESC FETCH FIRST 5 ROWS ONLY;\\n\\n\\nQ2)Return a single record that contains the fifth rated country by population in the EBA_COUNTRIES Table\\nselect name , population FROM (\\n ( select name, population from EBA_COUNTRIES order by population DESC FETCH FIRST 5 ROWS ONLY) \\n) ORDER BY population  FETCH FIRST 1 ROWS ONLY;\\n\\n\\nQ3) Use the EBA_COUNTRIES Table to write a query that returns the “Country Name”, “Country population”, “Total Region Population” \\nand the “% of TOTAL REGION Population”.\\n“Country Name” is the Countries name\\n“Country Population” is the Countries population\\n“Region Population” is the total population for that countries region_ID\\n“% of TOTAL REGION Population” = (Population / Total Region Population)*100\\n\\n(Hint. You will need to perform a self join)\\n\\nselect * from eba_countries;\\n\\nSELECT \\n   A.name AS \"Country Name\",\\n   A.population as \"Countries population\",\\n   B.\"total population\",\\n  (A.population / B.\"total population\")*100 as \"% of TOTAL REGION Population\"\\n\\nFROM eba_countries A\\nJOIN \\n( \\n    select \\n        REGION_ID, \\n        sum(population) as \"total population\"\\n    FROM eba_countries\\n    GROUP BY REGION_ID\\n) B\\nON A.region_id = B.REGION_ID;\\n'"
      ]
     },
     "execution_count": 6,
     "metadata": {},
     "output_type": "execute_result"
    }
   ],
   "source": [
    "# Assignment QUestions\n",
    "'''\n",
    "-- Please attempt as many questions as you can, I will go over the solutions in the next lecture. Good luck!\n",
    "-- (For these assignment questions we will be using the Countries Sample Dataset)\n",
    "\n",
    "Q1) Return the top 5 countries by population from the EBA_COUNTRIES Table\n",
    "select name,population from EBA_COUNTRIES order by population DESC FETCH FIRST 5 ROWS ONLY;\n",
    "\n",
    "\n",
    "Q2)Return a single record that contains the fifth rated country by population in the EBA_COUNTRIES Table\n",
    "select name , population FROM (\n",
    " ( select name, population from EBA_COUNTRIES order by population DESC FETCH FIRST 5 ROWS ONLY) \n",
    ") ORDER BY population  FETCH FIRST 1 ROWS ONLY;\n",
    "\n",
    "\n",
    "Q3) Use the EBA_COUNTRIES Table to write a query that returns the “Country Name”, “Country population”, “Total Region Population” \n",
    "and the “% of TOTAL REGION Population”.\n",
    "1. “Country Name” is the Countries name -> already there\n",
    "2. “Country Population” is the Countries population -> already tgere\n",
    "3. “Region Population” is the total population for that countries region_ID -> Not there , need to calculate\n",
    "4. “% of TOTAL REGION Population” = (Population / Total Region Population)*100 -> depends on 3 table, \n",
    "\n",
    "(Hint. You will need to perform a self join)\n",
    "\n",
    "select * from eba_countries;\n",
    "\n",
    "SELECT \n",
    "   A.name AS \"Country Name\",\n",
    "   A.population as \"Countries population\",\n",
    "   B.\"total population\",\n",
    "  (A.population / B.\"total population\")*100 as \"% of TOTAL REGION Population\"\n",
    "\n",
    "FROM eba_countries A\n",
    "JOIN \n",
    "( \n",
    "    select \n",
    "        REGION_ID, \n",
    "        sum(population) as \"total population\"\n",
    "    FROM eba_countries\n",
    "    GROUP BY REGION_ID\n",
    ") B\n",
    "ON A.region_id = B.REGION_ID;\n",
    "'''"
   ]
  },
  {
   "cell_type": "code",
   "execution_count": 7,
   "metadata": {},
   "outputs": [
    {
     "data": {
      "text/plain": [
       "'\\n\\n'"
      ]
     },
     "execution_count": 7,
     "metadata": {},
     "output_type": "execute_result"
    }
   ],
   "source": [
    "# Solution\n",
    "'''\n",
    "\n",
    "select * from eba_countries order by population desc fetch first 5 rows only;\n",
    "\n",
    "\n",
    "\n",
    "Question 2\n",
    "select\n",
    "\n",
    "*\n",
    "\n",
    "from\n",
    "\n",
    "(select * from eba_countries order by population desc fetch first 5 rows only)\n",
    "\n",
    "order by population asc\n",
    "\n",
    "fetch first 1 rows only;\n",
    "\n",
    "\n",
    "\n",
    "Question 3\n",
    "select\n",
    "\n",
    "a.name as \"Country Name\",\n",
    "\n",
    "a.population as \"Country Population\",\n",
    "\n",
    "b.\"Total Region Population\",\n",
    "\n",
    "round((a.population/\"Total Region Population\")*100,2) as \"% of Total Region Population\"\n",
    "\n",
    "from eba_countries a\n",
    "\n",
    "left join\n",
    "\n",
    "(\n",
    "\n",
    "select\n",
    "\n",
    "region_id,\n",
    "\n",
    "sum(population) as \"Total Region Population\"\n",
    "\n",
    "from eba_countries\n",
    "\n",
    "group by region_id\n",
    "\n",
    ") b\n",
    "\n",
    "on a.region_id = b.region_id;\n",
    "\n",
    "'''"
   ]
  }
 ],
 "metadata": {
  "kernelspec": {
   "display_name": "Python 3",
   "language": "python",
   "name": "python3"
  },
  "language_info": {
   "codemirror_mode": {
    "name": "ipython",
    "version": 3
   },
   "file_extension": ".py",
   "mimetype": "text/x-python",
   "name": "python",
   "nbconvert_exporter": "python",
   "pygments_lexer": "ipython3",
   "version": "3.9.12"
  },
  "orig_nbformat": 4
 },
 "nbformat": 4,
 "nbformat_minor": 2
}
