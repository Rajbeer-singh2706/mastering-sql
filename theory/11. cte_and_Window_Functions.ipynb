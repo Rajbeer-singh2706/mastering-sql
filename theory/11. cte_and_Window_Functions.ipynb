{
 "cells": [
  {
   "cell_type": "markdown",
   "metadata": {},
   "source": [
    "### **11. Common Table Expressions (CTE) and Window Functions**"
   ]
  },
  {
   "cell_type": "code",
   "execution_count": null,
   "metadata": {
    "vscode": {
     "languageId": "plaintext"
    }
   },
   "outputs": [],
   "source": [
    "'''\n",
    "Q) What are Common Table Expressions (CTEs), and how do they differ from subqueries?\n",
    "Q) What are window functions, and how would you use them in SQL?\n",
    "Q) Can you explain the difference between ROW_NUMBER(), RANK(), and DENSE_RANK() functions? Provide an example of their usage.\n",
    "'''"
   ]
  }
 ],
 "metadata": {
  "language_info": {
   "name": "python"
  }
 },
 "nbformat": 4,
 "nbformat_minor": 2
}
