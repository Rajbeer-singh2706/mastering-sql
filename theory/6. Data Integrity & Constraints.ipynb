{
 "cells": [
  {
   "cell_type": "markdown",
   "metadata": {},
   "source": [
    "### **Data Integrity & Constraints**"
   ]
  },
  {
   "cell_type": "code",
   "execution_count": null,
   "metadata": {
    "vscode": {
     "languageId": "plaintext"
    }
   },
   "outputs": [],
   "source": [
    "'''\n",
    "Q) What are foreign key constraints, and how do they enforce data integrity?\n",
    "Q) Explain the difference between primary keys and unique constraints. Can you have multiple unique constraints on a table?\n",
    "Q) What are check constraints, and how would you use them to enforce data validation rules in SQL?\n",
    "Q) How would you handle the deletion of a record that has dependencies via foreign key constraints? \n",
    "    Explain the difference between ON DELETE CASCADE and ON DELETE RESTRICT.\n",
    "'''"
   ]
  }
 ],
 "metadata": {
  "language_info": {
   "name": "python"
  }
 },
 "nbformat": 4,
 "nbformat_minor": 2
}
