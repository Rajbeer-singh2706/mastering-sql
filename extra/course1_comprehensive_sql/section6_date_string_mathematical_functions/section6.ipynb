{
 "cells": [
  {
   "cell_type": "code",
   "execution_count": 1,
   "metadata": {},
   "outputs": [
    {
     "data": {
      "text/plain": [
       "''"
      ]
     },
     "execution_count": 1,
     "metadata": {},
     "output_type": "execute_result"
    }
   ],
   "source": [
    "# Section 6: Date, String And Mathemetical Functions\n",
    "'''\n",
    "After completing this section you will learn:\n",
    "* How to format dates in SQL using functions\n",
    "* How to use date formatting functions to work with date values represented by different data types\n",
    "* Simple String functions\n",
    "* Simple Mathematical functions\n",
    "The section will end with some practical assignment questions\n",
    "\n",
    "'''"
   ]
  },
  {
   "cell_type": "code",
   "execution_count": 11,
   "metadata": {},
   "outputs": [
    {
     "data": {
      "text/plain": [
       "'\\n* EMP/DEPT Dataset\\n - EMP [ EMPNO, ename , job, mgr, hiredate, sal, comm, depno ]\\n - DEPT \\n\\ndrop table \"Customer Age\";\\n'"
      ]
     },
     "execution_count": 11,
     "metadata": {},
     "output_type": "execute_result"
    }
   ],
   "source": [
    "# Overview of the EMPLOYEES(EMP/DEPT) Data Model\n",
    "'''\n",
    "* EMP/DEPT Dataset\n",
    " - EMP [ EMPNO, ename , job, mgr, hiredate, sal, comm, depno ]\n",
    " - DEPT \n",
    "\n",
    "drop table \"Customer Age\";\n",
    "'''"
   ]
  },
  {
   "cell_type": "code",
   "execution_count": 13,
   "metadata": {},
   "outputs": [
    {
     "data": {
      "text/plain": [
       "'\\n * CAST(expression as datatype)\\n\\ndescribe emp;\\nselect hiredate, cast(hiredate as timestamp) from emp;\\n'"
      ]
     },
     "execution_count": 13,
     "metadata": {},
     "output_type": "execute_result"
    }
   ],
   "source": [
    "# The Cast Function\n",
    "'''\n",
    " * CAST(expression as datatype)\n",
    "\n",
    "describe emp;\n",
    "select hiredate, cast(hiredate as timestamp) from emp;\n",
    "'''"
   ]
  },
  {
   "cell_type": "code",
   "execution_count": 14,
   "metadata": {},
   "outputs": [
    {
     "data": {
      "text/plain": [
       "\"\\nselect hiredate from emp;\\nselect hiredate from emp where  hiredate = DATE '1981-05-01'; -- its a date liteal, format is YYYY-MM-dd\\nselect hiredate from emp where  hiredate = '05/01/1981';  -- string literal value comare with date , orer is important\\nselect hiredate from emp where  hiredate = '05-01-1981';\\nselect hiredate from emp where  hiredate = 'MAY-01-1981';\\nselect hiredate from emp where hiredate = DATE '1981/05/01'; \\n\\n-- Date Convertion Formula\\n-- to_date() => convert string to date\\nselect hiredate from emp where hiredate = to_DATE('19810501', 'YYYYMMDD'); \\nselect hiredate from emp where hiredate = to_DATE(19810501, 'YYYYMMDD'); \\nselect hiredate from emp where hiredate = to_DATE('01/05/1981', 'DD/MM/YYYY'); \\n\\nalter table emp add(varchar_date varchar(20));\\nselect * from emp;\\nupdate emp\\n set varchar_date = '01/05/1981';\\n\\nselect * from emp where hiredate = varchar_date; -- EMPTY\\nselect * from emp where hiredate = to_date(varchar_date, 'DD/MM/YYYY');\\n\\nalter table emp drop column varchar_date;\\n\\n\""
      ]
     },
     "execution_count": 14,
     "metadata": {},
     "output_type": "execute_result"
    }
   ],
   "source": [
    "# Date Values and Formatting\n",
    "'''\n",
    "select hiredate from emp;\n",
    "select hiredate from emp where  hiredate = DATE '1981-05-01'; -- its a date liteal, format is YYYY-MM-dd\n",
    "select hiredate from emp where  hiredate = '05/01/1981';  -- string literal value comare with date , orer is important\n",
    "select hiredate from emp where  hiredate = '05-01-1981';\n",
    "select hiredate from emp where  hiredate = 'MAY-01-1981';\n",
    "select hiredate from emp where hiredate = DATE '1981/05/01'; \n",
    "\n",
    "-- Date Convertion Formula\n",
    "-- to_date() => convert string to date\n",
    "select hiredate from emp where hiredate = to_DATE('19810501', 'YYYYMMDD'); \n",
    "select hiredate from emp where hiredate = to_DATE(19810501, 'YYYYMMDD'); \n",
    "select hiredate from emp where hiredate = to_DATE('01/05/1981', 'DD/MM/YYYY'); \n",
    "\n",
    "alter table emp add(varchar_date varchar(20));\n",
    "select * from emp;\n",
    "update emp\n",
    " set varchar_date = '01/05/1981';\n",
    "\n",
    "select * from emp where hiredate = varchar_date; -- EMPTY\n",
    "select * from emp where hiredate = to_date(varchar_date, 'DD/MM/YYYY');\n",
    "\n",
    "alter table emp drop column varchar_date;\n",
    "\n",
    "'''"
   ]
  },
  {
   "cell_type": "code",
   "execution_count": 15,
   "metadata": {},
   "outputs": [
    {
     "data": {
      "text/plain": [
       "\"\\n - SYSDATE\\n - TOCHAR()\\n - DATE1 - DATE2\\n - ADD_MONTHS(expression, value)\\n\\n\\n-- difference \\nselect hiredate, sysdate, hiredate - date '1980-01-01' from emp;\\nselect hiredate, sysdate, hiredate - to_date('1980-01-01','YYYY-MM-DD') from emp;\\nselect hiredate, to_char(hiredate, 'MON') from emp;\\nselect hiredate, to_char(hiredate, 'MONTH') from emp;\\nselect hiredate, ADD_MONTHS(hiredate, 2), ADD_MONTHS(hiredate, -2)  from emp;\\n\\n\""
      ]
     },
     "execution_count": 15,
     "metadata": {},
     "output_type": "execute_result"
    }
   ],
   "source": [
    "# Date Functions\n",
    "'''\n",
    " - SYSDATE\n",
    " - TOCHAR()\n",
    " - DATE1 - DATE2\n",
    " - ADD_MONTHS(expression, value)\n",
    "\n",
    "\n",
    "-- difference \n",
    "select hiredate, sysdate, hiredate - date '1980-01-01' from emp;\n",
    "select hiredate, sysdate, hiredate - to_date('1980-01-01','YYYY-MM-DD') from emp;\n",
    "select hiredate, to_char(hiredate, 'MON') from emp;\n",
    "select hiredate, to_char(hiredate, 'MONTH') from emp;\n",
    "select hiredate, ADD_MONTHS(hiredate, 2), ADD_MONTHS(hiredate, -2)  from emp;\n",
    "\n",
    "'''"
   ]
  },
  {
   "cell_type": "code",
   "execution_count": 17,
   "metadata": {},
   "outputs": [
    {
     "data": {
      "text/plain": [
       "\"\\nselect * from emp;\\nselect lower(ename), length(ename), concat(ename,job) from emp;\\nselect lower(ename), length(ename), concat(ename, '_',job) from emp; -- invalid\\nselect  ename||'_'||job from emp; \\nselect job , replace(job, 'MANAGER','MAN') from emp;\\n\""
      ]
     },
     "execution_count": 17,
     "metadata": {},
     "output_type": "execute_result"
    }
   ],
   "source": [
    "# String Functions\n",
    "'''\n",
    " - upper()\n",
    " - lower()\n",
    " - proper()\n",
    " - LENGTH()\n",
    " - CONCAT()\n",
    " - STRING || STRING || GTRING \n",
    " - SUBSTR()\n",
    " - REPLACE()\n",
    " - TRIM()\n",
    "'''\n",
    "# Ex \n",
    "'''\n",
    "select * from emp;\n",
    "select lower(ename), length(ename), concat(ename,job) from emp;\n",
    "select lower(ename), length(ename), concat(ename, '_',job) from emp; -- invalid\n",
    "select  ename||'_'||job from emp; \n",
    "select job , replace(job, 'MANAGER','MAN') from emp;\n",
    "'''"
   ]
  },
  {
   "cell_type": "code",
   "execution_count": 18,
   "metadata": {},
   "outputs": [
    {
     "data": {
      "text/plain": [
       "'\\n - ABS()\\n - ROUND()\\n - CEILING()\\n - FLOOR()\\n - TRUNCATE()\\n - POWER()\\n'"
      ]
     },
     "execution_count": 18,
     "metadata": {},
     "output_type": "execute_result"
    }
   ],
   "source": [
    "# Mathemetical Functions\n",
    "'''\n",
    " - ABS()\n",
    " - ROUND()\n",
    " - CEILING()\n",
    " - FLOOR()\n",
    " - TRUNCATE()\n",
    " - POWER()\n",
    "'''"
   ]
  },
  {
   "cell_type": "code",
   "execution_count": 19,
   "metadata": {},
   "outputs": [
    {
     "data": {
      "text/plain": [
       "'\\nHere are some useful links that cover functions for the different Database Management Systems:\\n\\nDate Formatting\\nOracle:  https://docs.oracle.com/cd/B19306_01/server.102/b14200/sql_elements004.htm\\nMySQL: https://dev.mysql.com/doc/refman/8.0/en/date-and-time-functions.html\\nMicrosoft SQL Server: https://docs.microsoft.com/en-us/dotnet/standard/base-types/custom-date-and-time-format-strings?redirectedfrom=MSDN\\n\\n\\nDate Functions\\nOracle: https://docs.oracle.com/cd/E49933_01/server.770/es_eql/src/ceql_functions_date.html\\nMySQL: https://dev.mysql.com/doc/refman/8.0/en/date-and-time-functions.html\\nMicrosoft SQL Server: https://docs.microsoft.com/en-us/sql/t-sql/functions/date-and-time-data-types-and-functions-transact-sql?view=sql-server-ver15\\n\\n\\n\\nString Functions\\nOracle: https://docs.oracle.com/middleware/1221/biee/BIVUG/GUID-BBA975C7-B2C5-4C94-A007-28775680F6A5.htm#BILUG685\\nMySQL: https://dev.mysql.com/doc/refman/8.0/en/string-functions.html\\nMicrosoft SQL Server: https://docs.microsoft.com/en-us/sql/t-sql/functions/string-functions-transact-sql?view=sql-server-ver15\\n\\n\\n\\nMathematical Functions\\nOracle: https://docs.oracle.com/middleware/12212/biee/BIVUG/GUID-DE2A646A-2DAB-4D9E-BDDB-3AA4923BF1CE.htm#BILUG684\\nMySQL: https://dev.mysql.com/doc/refman/8.0/en/mathematical-functions.html\\nMicrosoft SQL Server: https://docs.microsoft.com/en-us/sql/t-sql/functions/mathematical-functions-transact-sql?view=sql-server-ver15\\n'"
      ]
     },
     "execution_count": 19,
     "metadata": {},
     "output_type": "execute_result"
    }
   ],
   "source": [
    "# Useful Liks\n",
    "'''\n",
    "Here are some useful links that cover functions for the different Database Management Systems:\n",
    "\n",
    "Date Formatting\n",
    "Oracle:  https://docs.oracle.com/cd/B19306_01/server.102/b14200/sql_elements004.htm\n",
    "MySQL: https://dev.mysql.com/doc/refman/8.0/en/date-and-time-functions.html\n",
    "Microsoft SQL Server: https://docs.microsoft.com/en-us/dotnet/standard/base-types/custom-date-and-time-format-strings?redirectedfrom=MSDN\n",
    "\n",
    "\n",
    "Date Functions\n",
    "Oracle: https://docs.oracle.com/cd/E49933_01/server.770/es_eql/src/ceql_functions_date.html\n",
    "MySQL: https://dev.mysql.com/doc/refman/8.0/en/date-and-time-functions.html\n",
    "Microsoft SQL Server: https://docs.microsoft.com/en-us/sql/t-sql/functions/date-and-time-data-types-and-functions-transact-sql?view=sql-server-ver15\n",
    "\n",
    "\n",
    "\n",
    "String Functions\n",
    "Oracle: https://docs.oracle.com/middleware/1221/biee/BIVUG/GUID-BBA975C7-B2C5-4C94-A007-28775680F6A5.htm#BILUG685\n",
    "MySQL: https://dev.mysql.com/doc/refman/8.0/en/string-functions.html\n",
    "Microsoft SQL Server: https://docs.microsoft.com/en-us/sql/t-sql/functions/string-functions-transact-sql?view=sql-server-ver15\n",
    "\n",
    "\n",
    "\n",
    "Mathematical Functions\n",
    "Oracle: https://docs.oracle.com/middleware/12212/biee/BIVUG/GUID-DE2A646A-2DAB-4D9E-BDDB-3AA4923BF1CE.htm#BILUG684\n",
    "MySQL: https://dev.mysql.com/doc/refman/8.0/en/mathematical-functions.html\n",
    "Microsoft SQL Server: https://docs.microsoft.com/en-us/sql/t-sql/functions/mathematical-functions-transact-sql?view=sql-server-ver15\n",
    "'''"
   ]
  },
  {
   "cell_type": "code",
   "execution_count": 10,
   "metadata": {},
   "outputs": [],
   "source": [
    "# Assignment Questions\n",
    "'''\n",
    " - TMRW \n",
    "'''"
   ]
  }
 ],
 "metadata": {
  "kernelspec": {
   "display_name": "Python 3",
   "language": "python",
   "name": "python3"
  },
  "language_info": {
   "codemirror_mode": {
    "name": "ipython",
    "version": 3
   },
   "file_extension": ".py",
   "mimetype": "text/x-python",
   "name": "python",
   "nbconvert_exporter": "python",
   "pygments_lexer": "ipython3",
   "version": "3.9.12"
  },
  "orig_nbformat": 4
 },
 "nbformat": 4,
 "nbformat_minor": 2
}
