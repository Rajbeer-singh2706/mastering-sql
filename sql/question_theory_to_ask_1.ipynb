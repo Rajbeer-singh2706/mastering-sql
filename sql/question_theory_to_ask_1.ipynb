{
 "cells": [
  {
   "cell_type": "code",
   "execution_count": null,
   "metadata": {},
   "outputs": [],
   "source": [
    "# How would you differentiate between a Primary Key, a Natural Key, and a Surrogate Key in a database schema?\n",
    "'''\n",
    " 1) Primary Key : \n",
    " 2) Natural Key \n",
    " 3) Surrogate key\n",
    "\n",
    "'''"
   ]
  },
  {
   "cell_type": "code",
   "execution_count": null,
   "metadata": {},
   "outputs": [],
   "source": [
    "# * 5. How can you optimize an SQL query?\n",
    "'''\n",
    "    1. How would you optimize a complex SQL query with multiple joins and subqueries? \n",
    "    2. How do you handle NULL values in SQL while performing aggregations?\n",
    "    3. SQL query to find department wise top 3 salaries ?\n",
    "    4. Question on windows function : running sum/year-on-year growth/top 'n' people by salary ?\n",
    "    5. What is the purpose of the `GROUP BY` and `HAVING` clauses?\n",
    "    6. What is the difference b/w rank, dense rank and row number ?\n",
    "    7. Explain how indexes work and when to use them ?\n",
    "    8. Explain the difference between INNER, LEFT, ANTI and SEMI -JOINS with examples.\n",
    "'''"
   ]
  }
 ],
 "metadata": {
  "kernelspec": {
   "display_name": "upgrad_env",
   "language": "python",
   "name": "python3"
  },
  "language_info": {
   "name": "python",
   "version": "3.9.6"
  }
 },
 "nbformat": 4,
 "nbformat_minor": 2
}
