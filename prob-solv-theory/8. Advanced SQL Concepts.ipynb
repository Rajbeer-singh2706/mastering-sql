{
 "cells": [
  {
   "cell_type": "markdown",
   "metadata": {},
   "source": [
    "### **8. Advanced SQL Concepts**"
   ]
  },
  {
   "cell_type": "code",
   "execution_count": null,
   "metadata": {
    "vscode": {
     "languageId": "plaintext"
    }
   },
   "outputs": [],
   "source": [
    "'''\n",
    "Q) What is a CTE (Common Table Expression), and how does it differ from a subquery?\n",
    "Q) What are recursive CTEs, and when would you use them?\n",
    "Q) Explain the concept of a windowing function with an example of using PARTITION BY and ORDER BY.\n",
    "Q) What is a cross join, and how is it different from an inner join?\n",
    "Q) How would you implement an UPSERT operation in different databases (MySQL, PostgreSQL, SQL Server)?\n",
    "Q) What are recursive queries, and when would you use them?\n",
    "Q) What is a materialized view, and how does it differ from a regular view?\n",
    "Q) Explain how you can use SQL to implement ETL (Extract, Transform, Load) processes.\n",
    "'''\n"
   ]
  }
 ],
 "metadata": {
  "language_info": {
   "name": "python"
  }
 },
 "nbformat": 4,
 "nbformat_minor": 2
}
