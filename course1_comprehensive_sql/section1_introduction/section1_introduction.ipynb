{
 "cells": [
  {
   "cell_type": "code",
   "execution_count": 1,
   "metadata": {},
   "outputs": [],
   "source": [
    "# The Comphrehensive SQL Course\n",
    "# Section 1: Introduction\n",
    "#"
   ]
  },
  {
   "cell_type": "code",
   "execution_count": 2,
   "metadata": {},
   "outputs": [
    {
     "data": {
      "text/plain": [
       "'\\n- Structured Query Language - SQL or SEQUEL\\n- Declarative Language \\n- Most databases use SQL [ sqlserver, myslq,oracle]\\n- WIdely regarded as one of the key skills in ths technology procession.\\n'"
      ]
     },
     "execution_count": 2,
     "metadata": {},
     "output_type": "execute_result"
    }
   ],
   "source": [
    "# What is SQL \n",
    "'''\n",
    "- Structured Query Language - SQL or SEQUEL\n",
    "- Declarative Language \n",
    "- Most databases use SQL [ sqlserver, MYSQL,oracle]\n",
    "- WIdely regarded as one of the key skills in ths technology procession.\n",
    "'''\n",
    "\n",
    "# Tables\n",
    "# Basic Database Terminilogy\n",
    "'''\n",
    " * Objects : table, views, Stored procedure, Schema\n",
    " * Database: Collection of schemas\n",
    "'''\n",
    "\n",
    "# Your First SQL QUery \n",
    "'''\n",
    " select col1, columne1,columnn from tablel\n",
    " select * from table; -- * is wildcard\n",
    "\n",
    " * ALIAS : select COLUMN1 AS \"NEW_NAME\" from TABLE;\n",
    "\n",
    " select * from eba_countries;\n",
    "'''"
   ]
  },
  {
   "cell_type": "code",
   "execution_count": null,
   "metadata": {},
   "outputs": [],
   "source": [
    "# Relational Database \n"
   ]
  }
 ],
 "metadata": {
  "kernelspec": {
   "display_name": "Python 3",
   "language": "python",
   "name": "python3"
  },
  "language_info": {
   "codemirror_mode": {
    "name": "ipython",
    "version": 3
   },
   "file_extension": ".py",
   "mimetype": "text/x-python",
   "name": "python",
   "nbconvert_exporter": "python",
   "pygments_lexer": "ipython3",
   "version": "3.9.12"
  },
  "orig_nbformat": 4
 },
 "nbformat": 4,
 "nbformat_minor": 2
}
