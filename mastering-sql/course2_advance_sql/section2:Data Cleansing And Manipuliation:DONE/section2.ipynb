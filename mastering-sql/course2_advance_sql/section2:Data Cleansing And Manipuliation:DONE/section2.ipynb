{
 "cells": [
  {
   "cell_type": "code",
   "execution_count": 2,
   "metadata": {},
   "outputs": [
    {
     "data": {
      "text/plain": [
       "'\\nThis section focuses on Data Cleansing & Manipulation\\nThe Data cleansing part of this section will focus on:\\n * Functions that can deal with null values, specifically\\n     -  NVL()\\n     - Coalesce()\\n * Functions that can clean values, specifically \\n     - trim(), \\n     - lpad() \\n     - rpad()\\n \\nThe Data Manipulation part of this course will show you how to \\n    - PIVOT \\n    - UNPIVOT \\nyour data, this is very useful if you want to have a pivoted view of your table or if you want to unpivot a pivoted table view.\\n'"
      ]
     },
     "execution_count": 2,
     "metadata": {},
     "output_type": "execute_result"
    }
   ],
   "source": [
    "# Overview \n",
    "'''\n",
    "This section focuses on Data Cleansing & Manipulation\n",
    "The Data cleansing part of this section will focus on:\n",
    " * Functions that can deal with null values, specifically\n",
    "     -  NVL()\n",
    "     - Coalesce()\n",
    " * Functions that can clean values, specifically \n",
    "     - trim(), \n",
    "     - lpad() \n",
    "     - rpad()\n",
    " \n",
    "The Data Manipulation part of this course will show you how to \n",
    "    - PIVOT \n",
    "    - UNPIVOT \n",
    "your data, this is very useful if you want to have a pivoted view of your table or if you want to unpivot a pivoted table view.\n",
    "'''"
   ]
  },
  {
   "cell_type": "code",
   "execution_count": 4,
   "metadata": {},
   "outputs": [
    {
     "data": {
      "text/plain": [
       "\"\\n`coalesce()` and `isNull()` are two different functions used in SQL and other programming languages to handle NULL values, but they serve different purposes:\\n\\n1. `coalesce()`:\\n   - `coalesce()` is a function used to return the first non-NULL value in a list of expressions.\\n   - It takes multiple arguments and returns the first non-NULL argument. If all arguments are NULL, it returns NULL.\\n   - Example in SQL:\\n     ```sql\\n     SELECT COALESCE(column1, column2, column3, 'Default') AS result FROM table_name;\\n     ```\\n   - In this example, `coalesce()` will return the first non-NULL value among `column1`, `column2`, and `column3`, and if all of them are NULL, it will return 'Default'.\\n\\n2. `isNull()` or `IS NULL`:\\n   - `isNull()` or `IS NULL` is used to check whether a specific expression or column contains a NULL value.\\n   - It returns a Boolean result, i.e., either `TRUE` if the expression is NULL or `FALSE` if it is not NULL.\\n   - Example in SQL:\\n     ```sql\\n     SELECT column1, column2 FROM table_name WHERE column3 IS NULL;\\n     ```\\n   - In this example, the `IS NULL` condition is used to filter rows where `column3` contains NULL values.\\n\\nIn summary, `coalesce()` is used to return a non-NULL value from a list of expressions, while `isNull()` or `IS NULL` is used to check if a specific expression or column is NULL or not. They serve different purposes in handling NULL values in SQL and other programming contexts.\\n\\n\""
      ]
     },
     "execution_count": 4,
     "metadata": {},
     "output_type": "execute_result"
    }
   ],
   "source": [
    "# Coalesce and NVL\n",
    "'''\n",
    "--  Coalesce\n",
    "select store_name,web_address, coalesce(web_address,store_name) from stores;\n",
    "select store_name,web_address, coalesce(store_name,web_address) from stores;\n",
    "select store_name,web_address, coalesce(store_name,web_address, store_id) from stores; --error\n",
    "\n",
    "-- NVL \n",
    "select * from emp order by empno;\n",
    "select emp.*, nvl(comm,0) from emp; \n",
    "select emp.*, nvl(comm,'NO Commision') from emp;  -- Error: Invalid Number\n",
    "\n",
    "insert into emp values(0, null, 'test', 0, sysdate, 1000, null , 10);\n",
    "select emp.* , nvl(ename,'no name') from emp order by empno;\n",
    "\n",
    "delete from emp where empno=0;\n",
    "\n",
    "'''\n",
    "\n",
    "# In SQL Server and MySQL the Equivalent functions to NVL() ISNULL() which takes the same parameters\n",
    "# what is difference between coalesce() and isNull()\n",
    "\n",
    "'''\n",
    "`coalesce()` and `isNull()` are two different functions used in SQL and other programming languages to handle NULL values, but they serve different purposes:\n",
    "\n",
    "1. `coalesce()`:\n",
    "   - `coalesce()` is a function used to return the first non-NULL value in a list of expressions.\n",
    "   - It takes multiple arguments and returns the first non-NULL argument. If all arguments are NULL, it returns NULL.\n",
    "   - Example in SQL:\n",
    "     ```sql\n",
    "     SELECT COALESCE(column1, column2, column3, 'Default') AS result FROM table_name;\n",
    "     ```\n",
    "   - In this example, `coalesce()` will return the first non-NULL value among `column1`, `column2`, and `column3`, and if all of them are NULL, it will return 'Default'.\n",
    "\n",
    "2. `isNull()` or `IS NULL`:\n",
    "   - `isNull()` or `IS NULL` is used to check whether a specific expression or column contains a NULL value.\n",
    "   - It returns a Boolean result, i.e., either `TRUE` if the expression is NULL or `FALSE` if it is not NULL.\n",
    "   - Example in SQL:\n",
    "     ```sql\n",
    "     SELECT column1, column2 FROM table_name WHERE column3 IS NULL;\n",
    "     ```\n",
    "   - In this example, the `IS NULL` condition is used to filter rows where `column3` contains NULL values.\n",
    "\n",
    "In summary, `coalesce()` is used to return a non-NULL value from a list of expressions, while `isNull()` or `IS NULL` is used to check if a specific expression or column is NULL or not. They serve different purposes in handling NULL values in SQL and other programming contexts.\n",
    "\n",
    "'''"
   ]
  },
  {
   "cell_type": "code",
   "execution_count": 5,
   "metadata": {},
   "outputs": [
    {
     "data": {
      "text/plain": [
       "\"\\n-- trim \\nselect * from emp;\\nselect ename, trim('K' from ename) from emp; -- default is BOTH\\nselect length(trim(' ' from '   whitepsace   ')) from dual;\\nselect length(trim(LEADING  ' ' from '   whitepsace   ')) from dual;\\nselect length(trim(TRAILING ' ' from '   whitepsace   ')) from dual;\\n\\n-- lpad, rpad \\nselect * from emp;\\nselect lpad(empno, 5,0) from emp;\\nselect job, rpad(job, 6,'X') from emp;\\nselect rpad(sal, length(sal)+3, 0) from emp;\\n\""
      ]
     },
     "execution_count": 5,
     "metadata": {},
     "output_type": "execute_result"
    }
   ],
   "source": [
    "# Trim and PAD (lpad, rpad)\n",
    "'''\n",
    "-- trim \n",
    "select * from emp;\n",
    "select ename, trim('K' from ename) from emp; -- default is BOTH\n",
    "select length(trim(' ' from '   whitepsace   ')) from dual;\n",
    "select length(trim(LEADING  ' ' from '   whitepsace   ')) from dual;\n",
    "select length(trim(TRAILING ' ' from '   whitepsace   ')) from dual;\n",
    "\n",
    "-- lpad, rpad \n",
    "select * from emp;\n",
    "select lpad(empno, 5,0) from emp;\n",
    "select job, rpad(job, 6,'X') from emp;  ### if more then six trauncate , if less then than that then pad with X\n",
    "select rpad(sal, length(sal)+3, 0) from emp;\n",
    "'''"
   ]
  },
  {
   "cell_type": "code",
   "execution_count": 4,
   "metadata": {},
   "outputs": [],
   "source": [
    "# Greatest and Least\n",
    "'''\n",
    "-- Greatest and Least\n",
    "select * from emp;\n",
    "select emp.*, least(sal, 3000) from emp;       --max salary sould be 3k \n",
    "select emp.*, greatest(sal, 1000) from emp;    -- least salary should be 1k, 1000 minium hogi , max kitni bhi ho sakti hai\n",
    "'''"
   ]
  },
  {
   "cell_type": "code",
   "execution_count": 10,
   "metadata": {},
   "outputs": [
    {
     "data": {
      "text/plain": [
       "'\\n-- pivoting\\nselect * from eba_countries;\\n\\n-- Query 1\\nselect * from \\n(\\n    select region_id, sub_region_id, population from eba_countries\\n)\\npivot(sum(population) for region_id in (10,20,30,40,50));\\n\\nselect distinct region_id from eba_countries;\\n\\n-- Query2\\nselect * from \\n(\\n    select region_id, sub_region_id, population from eba_countries\\n)\\npivot(count(population) for region_id in (10,20,30,40,50));\\n\\n'"
      ]
     },
     "execution_count": 10,
     "metadata": {},
     "output_type": "execute_result"
    }
   ],
   "source": [
    "#Pivoting Tables\n",
    "'''\n",
    "-- pivoting\n",
    "select * from eba_countries;\n",
    "\n",
    "-- Query 1\n",
    "select * from \n",
    "(\n",
    "    select region_id, sub_region_id, population from eba_countries\n",
    ")\n",
    "pivot(sum(population) for region_id in (10,20,30,40,50))\n",
    "order by SUB_REGION_ID;;\n",
    "\n",
    "X-Axis : REGION_ID \n",
    "y-AXIS  : SUB_REGION_ID \n",
    "x,y co-ordinate: sum(populiation)\n",
    "\n",
    "select distinct region_id from eba_countries;\n",
    "\n",
    "-- Query2\n",
    "select * from \n",
    "(\n",
    "    select region_id, sub_region_id from eba_countries\n",
    ")\n",
    "pivot(count(region_id) for region_id in (10,20,30,40,50));\n",
    "\n",
    "'''\n",
    "\n",
    "\n",
    "################# PIVOTING => MATRIX VIEW ##################################\n",
    "## Task : hume chaaiye, REGION_ID as column name , subregion_ID as rows and population as total .\n",
    "# So there will be six columns 1. SUB_REGION_ID , rest region_ID values\n",
    "### 1. REGION_ID : 10,20,30,40, 50\n",
    "### 2. ab column values ko Columns ke naam me convert karna hai [ Column_names = [subregion_ID,10, 20, 30, 40, 50] ]\n",
    "\n"
   ]
  },
  {
   "cell_type": "code",
   "execution_count": 7,
   "metadata": {},
   "outputs": [
    {
     "data": {
      "text/plain": [
       "\"\\n-- UN-pivoting\\n\\ncreate table avg_test_scores(class varchar(10), maths number , science number,english number)\\n\\ninsert into avg_test_scores values('7A', 80, 67, 89);\\ninsert into avg_test_scores values('7B', 70, 50, 80);\\ninsert into avg_test_scores values ('7C', 80, 80, 90);\\n\\nselect * from avg_test_scores;\\n\\n\\nselect * from avg_test_scores\\nunpivot(avg_score for subject in (MATHS, SCIENCE, ENGLISH))\\n\\n\\nselect * from avg_test_scores\\nunpivot(avg_score for subject in (MATHS as 'Mathemetics', SCIENCE, ENGLISH));\\n\""
      ]
     },
     "execution_count": 7,
     "metadata": {},
     "output_type": "execute_result"
    }
   ],
   "source": [
    "# UnPivoting Tables\n",
    "'''\n",
    "-- UN-pivoting\n",
    "\n",
    "create table avg_test_scores(class varchar(10), maths number , science number,english number)\n",
    "\n",
    "insert into avg_test_scores values('7A', 80, 67, 89);\n",
    "insert into avg_test_scores values('7B', 70, 50, 80);\n",
    "insert into avg_test_scores values ('7C', 80, 80, 90);\n",
    "\n",
    "select * from avg_test_scores;\n",
    "\n",
    "\n",
    "select * from avg_test_scores\n",
    "unpivot(<FIELD_NAME_FOR_MARKS> for <FIELD_NAME_FOR_SUBJECTS> in (MATHS,SCIENCE, ENGLISH) );\n",
    "\n",
    "select * from avg_test_scores\n",
    "unpivot(scores for subjects in (MATHS,SCIENCE, ENGLISH) );\n",
    "\n",
    "select * from avg_test_scores\n",
    "unpivot(avg_score for subject in (MATHS, SCIENCE, ENGLISH))\n",
    "\n",
    "\n",
    "select * from avg_test_scores\n",
    "unpivot(avg_score for subject in (MATHS as 'Mathemetics', SCIENCE, ENGLISH));\n",
    "'''\n",
    "# UNPIVOT - OPPOSITE OF PIVOT \n",
    "# PIVOT  => Column ke jo value hoti hai usko column ke naam main convert kar deta hai  \n",
    "# so unpivot => ho hamare table ke columns hai unko naye column ke values bana denga , simple\n"
   ]
  },
  {
   "cell_type": "code",
   "execution_count": 2,
   "metadata": {},
   "outputs": [
    {
     "data": {
      "text/plain": [
       "\"\\nPivot the EMP Table to show the total salary by JOB and DEPTNO in matrix form \\n => (pivoting the JOB column) as per the screenshot below\\n\\nX-AXIS: JOB \\nY-AXIS: DEPT , as rows values \\nx,y co-ordinate : total salary by JOB and DEPTNO in matrix\\n\\nselect * from emp;\\n\\nselect distinct job from emp  -- ('ANALYST', 'CLERK','SALESMAN','MANAGER','PRESIDENT')\\n\\nselect * FROM \\n(select deptno, job, sal from emp) \\npivot(sum(sal) for job in ('ANALYST', 'CLERK','SALESMAN','MANAGER','PRESIDENT'));\\n\\n\""
      ]
     },
     "execution_count": 2,
     "metadata": {},
     "output_type": "execute_result"
    }
   ],
   "source": [
    "# Assignment Question 1\n",
    "'''\n",
    "Pivot the EMP Table to show the total salary by JOB and DEPTNO in matrix form \n",
    " => (pivoting the JOB column) as per the screenshot below\n",
    "\n",
    "X-AXIS: JOB \n",
    "Y-AXIS: DEPT , as rows values \n",
    "x,y co-ordinate : total salary by JOB and DEPTNO in matrix\n",
    "\n",
    "select * from emp;\n",
    "\n",
    "select distinct job from emp  -- ('ANALYST', 'CLERK','SALESMAN','MANAGER','PRESIDENT')\n",
    "\n",
    "select * FROM \n",
    "(select deptno, job, sal from emp) \n",
    "pivot(sum(sal) for job in ('ANALYST', 'CLERK','SALESMAN','MANAGER','PRESIDENT'));\n",
    "\n",
    "'''\n",
    "\n",
    "# Column name is DEPTNO, ANALYST, CLERK, SALESMAN, MANAGER , PRESIDENT \n",
    "\n",
    "################# PIVOTING ##################################\n",
    "### 1. JOB Columns : CLERK , SALESMAN , MANAGER , PRESIDENT HAI \n",
    "### 2. NOW in column values ko Columns ke naam me convert karna hai"
   ]
  },
  {
   "cell_type": "code",
   "execution_count": 3,
   "metadata": {},
   "outputs": [
    {
     "data": {
      "text/plain": [
       "\"\\nEnter the following Create Table command to create a table that will store information about \\nhow many goals players have scored across 3 seasons (2018, 2019 and 2020)\\n\\ncreate table goals_per_season(player varchar(10), year_2018 int, year_2019 int, year_2020 int);\\n\\nNow individually execute the 3 Insert commands to insert records into our newly created table\\n\\ninsert into goals_per_season values ('Rick', 51,31,38);\\ninsert into goals_per_season values ('Jeff', 28,37,36);\\ninsert into goals_per_season values ('George', 40,55,48);\\n\\nYour assignment question is to UNPIVOT the GOALS_PER_SEASON Table to look like the screenshot below\\n\\n\\nPLAYER , SEASON , GOALS\\nRICK, 2018, 51\\nRICK, 2019, 31\\n\\n#######\\nselect * from goals_per_season\\nunpivot(goals for year in (YEAR_2018,YEAR_2019,YEAR_2020));\\n\\nselect * from goals_per_season\\nunpivot(goals for year in (YEAR_2018 as '2018',YEAR_2019 as '2019',YEAR_2020 as '2020'));\\n\\n\\nSELECT * FROM GOALS_PER_SEASON\\nUNPIVOT(GOALS FOR SEASON IN (YEAR_2018 AS '2018', YEAR_2019 AS '2019', YEAR_2020 AS '2020'));\\n\\n\""
      ]
     },
     "execution_count": 3,
     "metadata": {},
     "output_type": "execute_result"
    }
   ],
   "source": [
    "# Assignment Question 2\n",
    "'''\n",
    "Enter the following Create Table command to create a table that will store information about \n",
    "how many goals players have scored across 3 seasons (2018, 2019 and 2020)\n",
    "\n",
    "create table goals_per_season(player varchar(10), year_2018 int, year_2019 int, year_2020 int);\n",
    "\n",
    "Now individually execute the 3 Insert commands to insert records into our newly created table\n",
    "\n",
    "insert into goals_per_season values ('Rick', 51,31,38);\n",
    "insert into goals_per_season values ('Jeff', 28,37,36);\n",
    "insert into goals_per_season values ('George', 40,55,48);\n",
    "\n",
    "Your assignment question is to UNPIVOT the GOALS_PER_SEASON Table to look like the screenshot below\n",
    "'''"
   ]
  },
  {
   "cell_type": "code",
   "execution_count": 4,
   "metadata": {},
   "outputs": [
    {
     "data": {
      "text/plain": [
       "\"\\n\\nPLAYER , SEASON , GOALS\\nRICK, 2018, 51\\nRICK, 2019, 31\\n\\n#######\\nselect * from goals_per_season\\nunpivot(goals for year in (YEAR_2018,YEAR_2019,YEAR_2020));\\n\\nselect * from goals_per_season\\nunpivot(goals for year in (YEAR_2018 as '2018',YEAR_2019 as '2019',YEAR_2020 as '2020'));\\n\\n\\nSELECT * FROM GOALS_PER_SEASON\\nUNPIVOT(GOALS FOR SEASON IN (YEAR_2018 AS '2018', YEAR_2019 AS '2019', YEAR_2020 AS '2020'));\\n\\n\""
      ]
     },
     "execution_count": 4,
     "metadata": {},
     "output_type": "execute_result"
    }
   ],
   "source": [
    "# SOlution\n",
    "'''\n",
    "\n",
    "PLAYER , SEASON , GOALS\n",
    "RICK, 2018, 51\n",
    "RICK, 2019, 31\n",
    "\n",
    "#######\n",
    "select * from goals_per_season\n",
    "unpivot(goals for year in (YEAR_2018,YEAR_2019,YEAR_2020));\n",
    "\n",
    "select * from goals_per_season\n",
    "unpivot(goals for year in (YEAR_2018 as '2018',YEAR_2019 as '2019',YEAR_2020 as '2020'));\n",
    "\n",
    "\n",
    "SELECT * FROM GOALS_PER_SEASON\n",
    "UNPIVOT(GOALS FOR SEASON IN (YEAR_2018 AS '2018', YEAR_2019 AS '2019', YEAR_2020 AS '2020'));\n",
    "\n",
    "'''"
   ]
  },
  {
   "cell_type": "code",
   "execution_count": null,
   "metadata": {},
   "outputs": [],
   "source": []
  }
 ],
 "metadata": {
  "kernelspec": {
   "display_name": "Python 3",
   "language": "python",
   "name": "python3"
  },
  "language_info": {
   "codemirror_mode": {
    "name": "ipython",
    "version": 3
   },
   "file_extension": ".py",
   "mimetype": "text/x-python",
   "name": "python",
   "nbconvert_exporter": "python",
   "pygments_lexer": "ipython3",
   "version": "3.9.12"
  },
  "orig_nbformat": 4
 },
 "nbformat": 4,
 "nbformat_minor": 2
}
