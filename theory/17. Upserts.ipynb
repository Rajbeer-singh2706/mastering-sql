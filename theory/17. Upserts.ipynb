{
 "cells": [
  {
   "cell_type": "markdown",
   "metadata": {},
   "source": [
    "### **13. Upserts**"
   ]
  },
  {
   "cell_type": "code",
   "execution_count": null,
   "metadata": {
    "vscode": {
     "languageId": "plaintext"
    }
   },
   "outputs": [],
   "source": [
    "'''\n",
    "Q) How do you perform an UPSERT (Update + Insert) operation in different databases (e.g., MySQL, PostgreSQL, SQL Server)?\n",
    "Q) What are the challenges involved in implementing an UPSERT in databases that do not have a native UPSERT command?\n",
    "'''"
   ]
  }
 ],
 "metadata": {
  "language_info": {
   "name": "python"
  }
 },
 "nbformat": 4,
 "nbformat_minor": 2
}
