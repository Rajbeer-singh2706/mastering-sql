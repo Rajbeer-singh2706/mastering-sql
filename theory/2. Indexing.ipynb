{
 "cells": [
  {
   "cell_type": "markdown",
   "metadata": {},
   "source": [
    "### **Indexing & Query Optimization**"
   ]
  },
  {
   "cell_type": "markdown",
   "metadata": {},
   "source": [
    "### Q1) **What are indexes, and how do they improve query performance?**\n",
    "Indexes are data structures created on columns of a database table to speed up data retrieval operations. They allow the database engine to \n",
    "find rows faster without scanning the entire table (full table scan).\n",
    "\n",
    "- **Improvement in Query Performance**: \n",
    "   - Instead of searching every row in the table, the database can quickly locate rows that match the query by looking up the indexed column(s).\n",
    "   - Indexes work like an optimized lookup system, reducing the time complexity from O(n) to O(log n) in many cases.\n",
    "\n",
    "However, indexes come with a trade-off:\n",
    "- **Space Overhead**: Indexes consume additional disk space.\n",
    "- **Insert/Update Penalty**: Indexes slow down `INSERT` and `UPDATE` operations, as the index needs to be maintained along with the data."
   ]
  },
  {
   "cell_type": "markdown",
   "metadata": {},
   "source": [
    "### Q2) **Explain the difference between a clustered and a non-clustered index.**\n",
    "- **Clustered Index**:\n",
    "   - A clustered index defines the physical ordering of data in the table. Only one clustered index can exist per table because the \n",
    "   data itself is sorted in that order.\n",
    "   - **Example**: If a clustered index is created on the `EmployeeID` column, the rows in the table are physically ordered by `EmployeeID`.\n",
    "   - **Performance**: Efficient for range queries, as the data is stored in sequential order.\n",
    "\n",
    "- **Non-Clustered Index**:\n",
    "   - A non-clustered index is a separate structure that contains a sorted list of the index key and a pointer to the actual data row. \n",
    "   The data is not sorted according to the non-clustered index.\n",
    "   - **Example**: A non-clustered index on `EmployeeName` might list all employee names in sorted order with pointers to the corresponding \n",
    "   rows in the data.\n",
    "   - **Performance**: Useful for point lookups and filtering operations on non-primary key columns."
   ]
  },
  {
   "cell_type": "markdown",
   "metadata": {},
   "source": [
    "### Q3) **What are the different types of indexes (e.g., clustered, non-clustered, full-text, bitmap)?**\n",
    "- **Clustered Index**: Sorts and stores data rows in the table based on the key values. Only one per table.\n",
    "- **Non-Clustered Index**: Contains a sorted copy of selected columns, with pointers back to the rows in the clustered index or table.\n",
    " Multiple per table.\n",
    "- **Full-Text Index**: Used for efficient full-text searches, especially for searching large texts or documents (e.g., `LIKE '%word%'`).\n",
    "- **Bitmap Index**: Stores data as bitmaps, particularly efficient in columns with low cardinality (few distinct values, e.g., gender, status).\n",
    "- **Unique Index**: Ensures all the values in a column are unique.\n",
    "- **Spatial Index**: Used to index geometric properties for spatial queries (e.g., location data)."
   ]
  },
  {
   "cell_type": "markdown",
   "metadata": {},
   "source": [
    "### Q4) **How would you choose which columns to index in a large table? What trade-offs are involved?**\n",
    "**Solution:**\n",
    "The choice of columns to index depends on:\n",
    "- **Query Patterns**: Columns used frequently in `WHERE`, `JOIN`, `GROUP BY`, and `ORDER BY` clauses are prime candidates.\n",
    "- **High Cardinality**: Columns with many unique values (e.g., `CustomerID`) benefit from indexing. Low-cardinality columns (e.g., `Gender`) might not benefit unless a bitmap index is used.\n",
    "- **Composite Indexes**: For queries filtering on multiple columns, a composite index (on multiple columns) may improve performance, especially for queries with `AND` conditions.\n",
    "\n",
    "**Trade-offs**:\n",
    "- **Storage Overhead**: Indexes consume additional disk space.\n",
    "- **Slower Write Performance**: Inserts, updates, and deletes slow down as the index needs to be maintained.\n",
    "- **Maintenance**: Indexes need periodic optimization (e.g., rebuilding).\n"
   ]
  },
  {
   "cell_type": "markdown",
   "metadata": {},
   "source": [
    "### Q5) **What happens if you create an index on a column with a lot of duplicate values?**\n",
    "\n",
    "**Solution:**\n",
    "- **Low Cardinality**: If a column has a lot of duplicate values (low cardinality), the index might not provide much performance improvement because the database still has to scan a large number of rows for each duplicate key.\n",
    "- **Wasted Space**: Indexing a column with many duplicate values results in a larger index structure that doesn’t improve query performance significantly.\n",
    "- **Bitmap Index**: For columns with low cardinality (e.g., status columns), a **bitmap index** may be a better choice since it compresses data efficiently."
   ]
  },
  {
   "cell_type": "markdown",
   "metadata": {},
   "source": [
    "### Q6) **What are the different types of indexes in SQL databases, and how do they improve query performance?**\n",
    "\n",
    "**Solution:**\n",
    "- **Clustered Index**: Orders the data rows in the table based on the key values, speeding up range and equality queries.\n",
    "- **Non-Clustered Index**: Stores a separate structure with pointers to the actual data, allowing faster lookups on non-primary key columns.\n",
    "- **Full-Text Index**: Optimized for text search, allowing efficient searches through large text fields.\n",
    "- **Bitmap Index**: Efficient for low-cardinality columns (e.g., status flags), using a bitmap representation for each distinct value.\n",
    "\n",
    "Each index type optimizes query performance by reducing the need for full table scans and improving lookup speeds.\n"
   ]
  },
  {
   "cell_type": "markdown",
   "metadata": {},
   "source": [
    "### Q7) **How would you analyze and improve the performance of a slow query? What tools or techniques would you use (e.g., EXPLAIN PLAN in Oracle, EXPLAIN in PostgreSQL/MySQL)?**\n",
    "- **Tools**:\n",
    "   - **EXPLAIN/EXPLAIN PLAN**: Used to analyze the execution plan of a query. It shows how the query optimizer plans to execute the query, including scans, joins, and index usage.\n",
    "   - **Query Profiling**: In MySQL, `SHOW PROFILE` shows resource usage for individual query phases.\n",
    "   - **Execution Time**: Monitor execution time to detect bottlenecks.\n",
    "  \n",
    "**Steps**:\n",
    "1. **Run EXPLAIN PLAN**: Check if the query uses indexes or if a full table scan is happening.\n",
    "2. **Check Join Types**: Ensure proper indexes are used for `JOIN` operations (nested loops or hash joins).\n",
    "3. **Review Filter Criteria**: Use indexes on columns used in `WHERE` conditions.\n",
    "4. **Optimize Indexes**: Add missing indexes, remove unused ones, and consider composite indexes for multiple-column filters.\n",
    "5. **Query Rewrite**: Simplify the query or break it into smaller parts to reduce complexity.\n"
   ]
  },
  {
   "cell_type": "markdown",
   "metadata": {},
   "source": [
    "### Q8) **What is an index scan vs. an index seek, and when does the optimizer choose one over the other?**\n",
    "**Solution:**\n",
    "- **Index Seek**:\n",
    "   - Seeks directly to the rows in the index that satisfy the query conditions, without scanning the entire index.\n",
    "   - **Example**: `WHERE id = 10` would result in an index seek if an index exists on `id`.\n",
    "   - **Efficient**: Used when querying on highly selective or unique columns.\n",
    "\n",
    "- **Index Scan**:\n",
    "   - Scans the entire index (or a large portion) to find matching rows.\n",
    "   - **Example**: `WHERE name LIKE '%John%'` would typically result in an index scan.\n",
    "   - **Less Efficient**: Used when a large number of rows match the query or when no selective index exists."
   ]
  },
  {
   "cell_type": "markdown",
   "metadata": {},
   "source": [
    "\n",
    "### Q9) **How does a bitmap index work, and when is it beneficial to use one?**\n",
    "\n",
    "**Solution:**\n",
    "- **Bitmap Index**:\n",
    "   - A bitmap index stores each distinct value in the column as a bit array (bitmap). Each bit in the array represents a row in the table, where `1` indicates the presence of the value and `0` indicates its absence.\n",
    "   - **Efficient**: Bitmap indexes are especially efficient for columns with low cardinality (e.g., gender, status), as they compress well and allow quick aggregation.\n",
    "  \n",
    "**Benefits**:\n",
    "- **Space Efficiency**: Bitmap indexes use less storage space, as they compress repeated values.\n",
    "- **Fast Boolean Operations**: Bitmap indexes allow efficient `AND`, `OR`, and `NOT` operations for filtering queries.\n",
    "  \n",
    "**Usage**:\n",
    "- **Low Cardinality**: Used in columns with few distinct values (e.g., `Gender`, `Status`).\n",
    "- **Data Warehousing**: Often used in OLAP systems where read queries are frequent, and write operations are minimal.\n",
    "\n",
    "\n",
    "These solutions cover various indexing-related concepts and practices that are essential for optimizing database query performance."
   ]
  },
  {
   "cell_type": "markdown",
   "metadata": {},
   "source": [
    "\n",
    "###  **Explain indexing in SQL. What are the different types of indexes? When should you use indexes?**\n",
    "   - **Purpose:** Tests understanding of database indexing, performance tuning, and query optimization.\n",
    "   - **Expected Answer:** Explanation of clustered, non-clustered, composite, unique, full-text, and bitmap indexes. Understanding the impact of indexes on performance and their usage in speeding up SELECT queries but slowing down INSERT/UPDATE operations."
   ]
  },
  {
   "cell_type": "markdown",
   "metadata": {},
   "source": [
    "\n",
    "### **How does indexing affect the performance of queries involving `JOIN` operations?**\n",
    "   - **Purpose:** Tests knowledge of indexing in complex query scenarios.\n",
    "   - **Expected Answer:** Indexing columns involved in `JOIN` operations can significantly improve query performance by reducing the amount of data that needs to be scanned. However, the effectiveness depends on the type of join and the size of the dataset."
   ]
  },
  {
   "cell_type": "markdown",
   "metadata": {},
   "source": [
    "\n",
    "### **How would you approach optimizing a slow SQL query?**\n",
    "   - **Purpose:** Tests problem-solving ability in query optimization.\n",
    "   - **Expected Answer:** Steps might include \n",
    "      * checking indexes\n",
    "      * examining the query execution plan\n",
    "      * reducing table scans\n",
    "      * using appropriate joins \n",
    "      * partitioning tables\n",
    "      * avoiding `SELECT *`\n",
    "      * optimizing `WHERE` clauses \n",
    "      * reducing subqueries or using CTEs."
   ]
  }
 ],
 "metadata": {
  "language_info": {
   "name": "python"
  }
 },
 "nbformat": 4,
 "nbformat_minor": 2
}
