{
 "cells": [
  {
   "cell_type": "code",
   "execution_count": 13,
   "metadata": {},
   "outputs": [
    {
     "data": {
      "text/plain": [
       "'\\nThis section focuses on Extensions to the Group By clause.\\nThese extensions are:\\n * ROLLUP\\n * CUBE\\n * GROUPING SETS\\n\\nThey allow you to display sub totals and grand totals in your Group By query results.\\n'"
      ]
     },
     "execution_count": 13,
     "metadata": {},
     "output_type": "execute_result"
    }
   ],
   "source": [
    "# Section 5: Group By Extensions \n",
    "# Section Overview \n",
    "'''\n",
    "This section focuses on Extensions to the Group By clause.\n",
    "These extensions are:\n",
    " * ROLLUP\n",
    " * CUBE\n",
    " * GROUPING SETS\n",
    "\n",
    "They allow you to display sub totals and grand totals in your Group By query results.\n",
    "'''"
   ]
  },
  {
   "cell_type": "code",
   "execution_count": 14,
   "metadata": {},
   "outputs": [
    {
     "data": {
      "text/plain": [
       "'\\n - pdf\\n'"
      ]
     },
     "execution_count": 14,
     "metadata": {},
     "output_type": "execute_result"
    }
   ],
   "source": [
    "# Introduction to group BY Extensions\n",
    "'''\n",
    " - pdf\n",
    "'''"
   ]
  },
  {
   "cell_type": "code",
   "execution_count": 17,
   "metadata": {},
   "outputs": [
    {
     "data": {
      "text/plain": [
       "'\\nselect \\n  nvl(region_id,0),\\n  nvl(sub_region_id,0),\\n  nvl(organization_region_id,0),\\n  sum(population)\\n\\nFROM eba_countries\\nGROUP BY nvl(organization_region_id,0), \\nrollup(nvl(region_id,0), nvl(sub_region_id,0));\\n'"
      ]
     },
     "execution_count": 17,
     "metadata": {},
     "output_type": "execute_result"
    }
   ],
   "source": [
    "# ROLLUP\n",
    "'''\n",
    "select \n",
    "  nvl(region_id,0),\n",
    "  nvl(sub_region_id,0),\n",
    "  sum(population)\n",
    "\n",
    "FROM eba_countries\n",
    "GROUP BY rollup(nvl(region_id,0), nvl(sub_region_id,0));\n",
    "'''\n",
    "\n",
    "# \n",
    "'''\n",
    "select \n",
    "  nvl(region_id,0),\n",
    "  nvl(sub_region_id,0),\n",
    "  nvl(organization_region_id,0),\n",
    "  sum(population)\n",
    "\n",
    "FROM eba_countries\n",
    "GROUP BY rollup(nvl(region_id,0), nvl(sub_region_id,0),nvl(organization_region_id,0));\n",
    "'''\n",
    "\n",
    "## \n",
    "'''\n",
    "select \n",
    "  nvl(region_id,0),\n",
    "  nvl(sub_region_id,0),\n",
    "  nvl(organization_region_id,0),\n",
    "  sum(population)\n",
    "\n",
    "FROM eba_countries\n",
    "GROUP BY nvl(organization_region_id,0), \n",
    "rollup(nvl(region_id,0), nvl(sub_region_id,0));\n",
    "'''"
   ]
  },
  {
   "cell_type": "code",
   "execution_count": 18,
   "metadata": {},
   "outputs": [
    {
     "data": {
      "text/plain": [
       "'\\nselect \\n  nvl(region_id,0),\\n  nvl(sub_region_id,0),\\n  sum(population)\\n\\nFROM eba_countries\\nGROUP BY nvl(region_id,0),cube(nvl(sub_region_id,0));\\n-- GROUP BY cube(nvl(region_id,0), nvl(sub_region_id,0));\\n\\n-- GROUP BY rollup(nvl(region_id,0), nvl(sub_region_id,0));\\n'"
      ]
     },
     "execution_count": 18,
     "metadata": {},
     "output_type": "execute_result"
    }
   ],
   "source": [
    "# CUBE\n",
    "'''\n",
    "select \n",
    "  nvl(region_id,0),\n",
    "  nvl(sub_region_id,0),\n",
    "  sum(population)\n",
    "\n",
    "FROM eba_countries\n",
    "GROUP BY nvl(region_id,0),cube(nvl(sub_region_id,0));\n",
    "-- GROUP BY cube(nvl(region_id,0), nvl(sub_region_id,0));\n",
    "\n",
    "-- GROUP BY rollup(nvl(region_id,0), nvl(sub_region_id,0));\n",
    "'''"
   ]
  },
  {
   "cell_type": "code",
   "execution_count": 20,
   "metadata": {},
   "outputs": [
    {
     "data": {
      "text/plain": [
       "'\\nselect \\n  region_id,\\n  nvl(sub_region_id,0),\\n  sum(population)\\n\\nFROM eba_countries\\nGROUP BY rollup(region_id,nvl(sub_region_id,0));\\n'"
      ]
     },
     "execution_count": 20,
     "metadata": {},
     "output_type": "execute_result"
    }
   ],
   "source": [
    "# Quick Video on Why I Am Using NVL()\n",
    "'''\n",
    "select \n",
    "  region_id,\n",
    "  sub_region_id,\n",
    "  sum(population)\n",
    "\n",
    "FROM eba_countries\n",
    "GROUP BY region_id,sub_region_id -- 40 , no subregionid\n",
    "'''\n",
    "# \n",
    "'''\n",
    "select \n",
    "  region_id,\n",
    "  sub_region_id,\n",
    "  sum(population)\n",
    "\n",
    "FROM eba_countries\n",
    "GROUP BY rollup(region_id,sub_region_id);\n",
    "'''\n",
    "# example 3\n",
    "'''\n",
    "select \n",
    "  region_id,\n",
    "  nvl(sub_region_id,0),\n",
    "  sum(population)\n",
    "\n",
    "FROM eba_countries\n",
    "GROUP BY rollup(region_id,nvl(sub_region_id,0));\n",
    "'''"
   ]
  },
  {
   "cell_type": "code",
   "execution_count": 26,
   "metadata": {},
   "outputs": [
    {
     "data": {
      "text/plain": [
       "'\\nselect \\n  nvl(region_id,0),\\n  nvl(sub_region_id,0),\\n  nvl(organization_region_id,0),\\n  grouping_id(nvl(region_id,0),nvl(sub_region_id,0),nvl(organization_region_id,0)),\\n  sum(population)\\n\\nFROM eba_countries\\nGROUP BY rollup(nvl(region_id,0),nvl(sub_region_id,0),nvl(organization_region_id,0));\\n'"
      ]
     },
     "execution_count": 26,
     "metadata": {},
     "output_type": "execute_result"
    }
   ],
   "source": [
    "# GROUPING_ID Function\n",
    "'''\n",
    "select \n",
    "  nvl(region_id,0),\n",
    "  nvl(sub_region_id,0),\n",
    "  grouping_id(nvl(region_id,0),nvl(sub_region_id,0)),\n",
    "  sum(population)\n",
    "\n",
    "FROM eba_countries\n",
    "GROUP BY rollup(nvl(region_id,0),nvl(sub_region_id,0));\n",
    "'''\n",
    "\n",
    "# Solution 2\n",
    "'''\n",
    "select \n",
    "  nvl(region_id,0),\n",
    "  nvl(sub_region_id,0),\n",
    "  grouping_id(nvl(region_id,0),nvl(sub_region_id,0)),\n",
    "  sum(population)\n",
    "\n",
    "FROM eba_countries\n",
    "GROUP BY cube(nvl(region_id,0),nvl(sub_region_id,0));\n",
    "'''\n",
    "\n",
    "# Soltiuon 3\n",
    "'''\n",
    "select \n",
    "  nvl(region_id,0),\n",
    "  nvl(sub_region_id,0),\n",
    "  nvl(organization_region_id,0),\n",
    "  grouping_id(nvl(region_id,0),nvl(sub_region_id,0),nvl(organization_region_id,0)),\n",
    "  sum(population)\n",
    "\n",
    "FROM eba_countries\n",
    "GROUP BY cube(nvl(region_id,0),nvl(sub_region_id,0),nvl(organization_region_id,0));\n",
    "'''\n",
    "\n",
    "# soltion 4:\n",
    "'''\n",
    "select \n",
    "  nvl(region_id,0),\n",
    "  nvl(sub_region_id,0),\n",
    "  nvl(organization_region_id,0),\n",
    "  grouping_id(nvl(region_id,0),nvl(sub_region_id,0),nvl(organization_region_id,0)),\n",
    "  sum(population)\n",
    "\n",
    "FROM eba_countries\n",
    "GROUP BY rollup(nvl(region_id,0),nvl(sub_region_id,0),nvl(organization_region_id,0));\n",
    "'''"
   ]
  },
  {
   "cell_type": "code",
   "execution_count": 29,
   "metadata": {},
   "outputs": [
    {
     "data": {
      "text/plain": [
       "'\\nselect \\n  nvl(region_id,0),\\n  nvl(sub_region_id,0),\\n  nvl(organization_region_id,0),\\n  sum(population)\\n\\nFROM eba_countries\\nGROUP BY nvl(organization_region_id,0), grouping sets(\\n        (nvl(region_id,0),nvl(sub_region_id,0)),\\n        ()\\n);\\n'"
      ]
     },
     "execution_count": 29,
     "metadata": {},
     "output_type": "execute_result"
    }
   ],
   "source": [
    "# GROUPING Set\n",
    "'''\n",
    "select \n",
    "  nvl(region_id,0),\n",
    "  nvl(sub_region_id,0),\n",
    "  nvl(organization_region_id,0),\n",
    "  sum(population)\n",
    "\n",
    "FROM eba_countries\n",
    "GROUP BY grouping sets(\n",
    "        nvl(region_id,0),\n",
    "        nvl(sub_region_id,0),\n",
    "        nvl(organization_region_id,0),\n",
    "        ()\n",
    "    );\n",
    "'''\n",
    "# \n",
    "'''\n",
    "select \n",
    "  nvl(region_id,0),\n",
    "  nvl(sub_region_id,0),\n",
    "  nvl(organization_region_id,0),\n",
    "  sum(population)\n",
    "\n",
    "FROM eba_countries\n",
    "GROUP BY grouping sets(\n",
    "        (nvl(region_id,0),nvl(sub_region_id,0)),\n",
    "        nvl(organization_region_id,0),\n",
    "        ()\n",
    ");\n",
    "'''\n",
    "# \n",
    "'''\n",
    "select \n",
    "  nvl(region_id,0),\n",
    "  nvl(sub_region_id,0),\n",
    "  nvl(organization_region_id,0),\n",
    "  sum(population)\n",
    "\n",
    "FROM eba_countries\n",
    "GROUP BY nvl(organization_region_id,0), grouping sets(\n",
    "        (nvl(region_id,0),nvl(sub_region_id,0)),\n",
    "        ()\n",
    ");\n",
    "'''"
   ]
  },
  {
   "cell_type": "code",
   "execution_count": 7,
   "metadata": {},
   "outputs": [],
   "source": [
    "# Combining Columns\n",
    "'''\n",
    "\n",
    "'''"
   ]
  },
  {
   "cell_type": "code",
   "execution_count": 30,
   "metadata": {},
   "outputs": [
    {
     "data": {
      "text/plain": [
       "'\\nThere are slight differences with different database management systems and their syntax / how they perform Group By Extensions compared to Oracle SQL. I have linked some useful documentation below.\\n\\nOfficial Oracle Documentation\\nhttps://docs.oracle.com/cd/F49540_01/DOC/server.815/a68003/rollup_c.htm#32632\\n\\nOfficial MySQL Documentation\\nhttps://dev.mysql.com/doc/refman/8.0/en/group-by-modifiers.html\\n\\nOfficial Microsoft Documentation\\nhttps://learn.microsoft.com/en-us/sql/t-sql/queries/select-group-by-transact-sql?view=sql-server-ver15\\n'"
      ]
     },
     "execution_count": 30,
     "metadata": {},
     "output_type": "execute_result"
    }
   ],
   "source": [
    "# Useful External resources\n",
    "'''\n",
    "There are slight differences with different database management systems and their syntax / how they perform Group By Extensions compared to Oracle SQL. I have linked some useful documentation below.\n",
    "\n",
    "Official Oracle Documentation\n",
    "https://docs.oracle.com/cd/F49540_01/DOC/server.815/a68003/rollup_c.htm#32632\n",
    "\n",
    "Official MySQL Documentation\n",
    "https://dev.mysql.com/doc/refman/8.0/en/group-by-modifiers.html\n",
    "\n",
    "Official Microsoft Documentation\n",
    "https://learn.microsoft.com/en-us/sql/t-sql/queries/select-group-by-transact-sql?view=sql-server-ver15\n",
    "'''"
   ]
  },
  {
   "cell_type": "code",
   "execution_count": 9,
   "metadata": {},
   "outputs": [],
   "source": [
    "# Assignment Question 1"
   ]
  },
  {
   "cell_type": "code",
   "execution_count": 10,
   "metadata": {},
   "outputs": [],
   "source": [
    "# Assignment Question 2"
   ]
  },
  {
   "cell_type": "code",
   "execution_count": 11,
   "metadata": {},
   "outputs": [],
   "source": [
    "# Assignment Question 3"
   ]
  },
  {
   "cell_type": "code",
   "execution_count": null,
   "metadata": {},
   "outputs": [],
   "source": []
  }
 ],
 "metadata": {
  "kernelspec": {
   "display_name": "Python 3",
   "language": "python",
   "name": "python3"
  },
  "language_info": {
   "codemirror_mode": {
    "name": "ipython",
    "version": 3
   },
   "file_extension": ".py",
   "mimetype": "text/x-python",
   "name": "python",
   "nbconvert_exporter": "python",
   "pygments_lexer": "ipython3",
   "version": "3.9.12"
  },
  "orig_nbformat": 4
 },
 "nbformat": 4,
 "nbformat_minor": 2
}
