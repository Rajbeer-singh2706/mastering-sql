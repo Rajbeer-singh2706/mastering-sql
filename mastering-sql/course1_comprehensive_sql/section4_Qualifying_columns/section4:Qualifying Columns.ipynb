{
 "cells": [
  {
   "cell_type": "code",
   "execution_count": 1,
   "metadata": {},
   "outputs": [],
   "source": [
    "# Section 4: Qualifying Columns and Aliasing Table Names\n",
    "'''\n",
    "This section will teach you:\n",
    " * How to qualify column names\n",
    " * That qualifying your column names can remove ambiguity when referencing a column in the select statement\n",
    " * How to alias Table names\n",
    " * How to qualify columns that are part of an aliased Table\n",
    "\n",
    " What you learn in this section will be important as we cover other areas later in the course. So please make sure you are comfortable \n",
    " with the content before moving on.\n",
    "'''"
   ]
  },
  {
   "cell_type": "code",
   "execution_count": 2,
   "metadata": {},
   "outputs": [],
   "source": [
    "# Qualifying Columns\n",
    "'''\n",
    "select * , population + area_km2 FROM eba_countries; --invalid\n",
    "select eba_countries.* , population + area_km2 FROM eba_countries;\n",
    "'''"
   ]
  },
  {
   "cell_type": "code",
   "execution_count": 3,
   "metadata": {},
   "outputs": [],
   "source": [
    "# Aliasing Table Names\n",
    "'''\n",
    "select * FROM eba_countries AS c; --INVALID\n",
    "select c.* FROM eba_countries  c;\n",
    "select c.name, c.NATIONALITY FROM eba_countries  c;\n",
    "'''"
   ]
  },
  {
   "cell_type": "code",
   "execution_count": 1,
   "metadata": {},
   "outputs": [],
   "source": [
    "# Qualified vs UnQualified Objects"
   ]
  }
 ],
 "metadata": {
  "kernelspec": {
   "display_name": "Python 3",
   "language": "python",
   "name": "python3"
  },
  "language_info": {
   "codemirror_mode": {
    "name": "ipython",
    "version": 3
   },
   "file_extension": ".py",
   "mimetype": "text/x-python",
   "name": "python",
   "nbconvert_exporter": "python",
   "pygments_lexer": "ipython3",
   "version": "3.9.12"
  },
  "orig_nbformat": 4
 },
 "nbformat": 4,
 "nbformat_minor": 2
}
