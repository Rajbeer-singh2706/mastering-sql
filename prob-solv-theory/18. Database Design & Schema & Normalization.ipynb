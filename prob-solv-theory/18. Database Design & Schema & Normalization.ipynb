{
 "cells": [
  {
   "cell_type": "markdown",
   "metadata": {},
   "source": [
    "### **Database Design & Schema & Normalization**"
   ]
  },
  {
   "cell_type": "code",
   "execution_count": null,
   "metadata": {},
   "outputs": [],
   "source": [
    "'''\n",
    "Q) What are the differences between OLTP and OLAP databases, and how do their schemas differ?\n",
    "Q) Explain database normalization and its different forms. What are the advantages and trade-offs of normalization?\n",
    "Q) What is denormalization? When and why would you use a denormalized database design?\n",
    "Q) What are the key differences between a star schema and a snowflake schema in a data warehouse design?\n",
    "Q) How would you handle slowly changing dimensions in a data warehouse? Explain the different types of \n",
    "    Slowly Changing Dimensions (SCD Type 1, 2, 3).\n",
    "Q) What is database normalization, and why is it important?\n",
    "Q) Explain the different normal forms (1NF, 2NF, 3NF, BCNF). Can you give examples of how you would normalize a database schema?\n",
    "What is denormalization, and when would you consider using it?\n",
    "'''"
   ]
  },
  {
   "cell_type": "markdown",
   "metadata": {},
   "source": []
  }
 ],
 "metadata": {
  "kernelspec": {
   "display_name": "upgrad_env",
   "language": "python",
   "name": "python3"
  },
  "language_info": {
   "name": "python",
   "version": "3.9.6"
  }
 },
 "nbformat": 4,
 "nbformat_minor": 2
}
